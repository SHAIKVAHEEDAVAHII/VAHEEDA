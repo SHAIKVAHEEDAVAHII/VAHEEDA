{
 "cells": [
  {
   "cell_type": "markdown",
   "id": "a3df901c",
   "metadata": {},
   "source": [
    "# HEALTH INSURANCE PREMIUM PREDICTION USING MACHINE LEARNING(LINEAR REGRESSION MODEL)"
   ]
  },
  {
   "cell_type": "code",
   "execution_count": 1,
   "id": "7ae4649b",
   "metadata": {},
   "outputs": [],
   "source": [
    "#importing the required libraries\n",
    "import pandas as pd\n",
    "import numpy as np\n",
    "import seaborn as sns\n",
    "import matplotlib.pyplot as plt\n",
    "from sklearn.model_selection import train_test_split\n",
    "from sklearn.linear_model import LinearRegression\n",
    "from sklearn import metrics"
   ]
  },
  {
   "cell_type": "code",
   "execution_count": 2,
   "id": "ebb0eb11",
   "metadata": {},
   "outputs": [
    {
     "data": {
      "text/html": [
       "<div>\n",
       "<style scoped>\n",
       "    .dataframe tbody tr th:only-of-type {\n",
       "        vertical-align: middle;\n",
       "    }\n",
       "\n",
       "    .dataframe tbody tr th {\n",
       "        vertical-align: top;\n",
       "    }\n",
       "\n",
       "    .dataframe thead th {\n",
       "        text-align: right;\n",
       "    }\n",
       "</style>\n",
       "<table border=\"1\" class=\"dataframe\">\n",
       "  <thead>\n",
       "    <tr style=\"text-align: right;\">\n",
       "      <th></th>\n",
       "      <th>age</th>\n",
       "      <th>sex</th>\n",
       "      <th>bmi</th>\n",
       "      <th>children</th>\n",
       "      <th>smoker</th>\n",
       "      <th>region</th>\n",
       "      <th>charges</th>\n",
       "    </tr>\n",
       "  </thead>\n",
       "  <tbody>\n",
       "    <tr>\n",
       "      <th>0</th>\n",
       "      <td>19</td>\n",
       "      <td>female</td>\n",
       "      <td>27.900</td>\n",
       "      <td>0</td>\n",
       "      <td>yes</td>\n",
       "      <td>southwest</td>\n",
       "      <td>2455.92400</td>\n",
       "    </tr>\n",
       "    <tr>\n",
       "      <th>1</th>\n",
       "      <td>18</td>\n",
       "      <td>male</td>\n",
       "      <td>33.770</td>\n",
       "      <td>1</td>\n",
       "      <td>no</td>\n",
       "      <td>southeast</td>\n",
       "      <td>3650.55230</td>\n",
       "    </tr>\n",
       "    <tr>\n",
       "      <th>2</th>\n",
       "      <td>28</td>\n",
       "      <td>male</td>\n",
       "      <td>33.000</td>\n",
       "      <td>3</td>\n",
       "      <td>no</td>\n",
       "      <td>southeast</td>\n",
       "      <td>4449.46200</td>\n",
       "    </tr>\n",
       "    <tr>\n",
       "      <th>3</th>\n",
       "      <td>33</td>\n",
       "      <td>male</td>\n",
       "      <td>22.705</td>\n",
       "      <td>0</td>\n",
       "      <td>no</td>\n",
       "      <td>northwest</td>\n",
       "      <td>3840.47061</td>\n",
       "    </tr>\n",
       "    <tr>\n",
       "      <th>4</th>\n",
       "      <td>32</td>\n",
       "      <td>male</td>\n",
       "      <td>28.880</td>\n",
       "      <td>0</td>\n",
       "      <td>no</td>\n",
       "      <td>northwest</td>\n",
       "      <td>3866.85520</td>\n",
       "    </tr>\n",
       "    <tr>\n",
       "      <th>...</th>\n",
       "      <td>...</td>\n",
       "      <td>...</td>\n",
       "      <td>...</td>\n",
       "      <td>...</td>\n",
       "      <td>...</td>\n",
       "      <td>...</td>\n",
       "      <td>...</td>\n",
       "    </tr>\n",
       "    <tr>\n",
       "      <th>1333</th>\n",
       "      <td>50</td>\n",
       "      <td>male</td>\n",
       "      <td>30.970</td>\n",
       "      <td>3</td>\n",
       "      <td>no</td>\n",
       "      <td>northwest</td>\n",
       "      <td>12610.54830</td>\n",
       "    </tr>\n",
       "    <tr>\n",
       "      <th>1334</th>\n",
       "      <td>18</td>\n",
       "      <td>female</td>\n",
       "      <td>31.920</td>\n",
       "      <td>0</td>\n",
       "      <td>no</td>\n",
       "      <td>northeast</td>\n",
       "      <td>2895.98080</td>\n",
       "    </tr>\n",
       "    <tr>\n",
       "      <th>1335</th>\n",
       "      <td>18</td>\n",
       "      <td>female</td>\n",
       "      <td>36.850</td>\n",
       "      <td>0</td>\n",
       "      <td>no</td>\n",
       "      <td>southeast</td>\n",
       "      <td>4100.83350</td>\n",
       "    </tr>\n",
       "    <tr>\n",
       "      <th>1336</th>\n",
       "      <td>21</td>\n",
       "      <td>female</td>\n",
       "      <td>25.800</td>\n",
       "      <td>0</td>\n",
       "      <td>no</td>\n",
       "      <td>southwest</td>\n",
       "      <td>1402.94500</td>\n",
       "    </tr>\n",
       "    <tr>\n",
       "      <th>1337</th>\n",
       "      <td>61</td>\n",
       "      <td>female</td>\n",
       "      <td>29.070</td>\n",
       "      <td>0</td>\n",
       "      <td>yes</td>\n",
       "      <td>northwest</td>\n",
       "      <td>36900.36030</td>\n",
       "    </tr>\n",
       "  </tbody>\n",
       "</table>\n",
       "<p>1338 rows × 7 columns</p>\n",
       "</div>"
      ],
      "text/plain": [
       "      age     sex     bmi  children smoker     region      charges\n",
       "0      19  female  27.900         0    yes  southwest   2455.92400\n",
       "1      18    male  33.770         1     no  southeast   3650.55230\n",
       "2      28    male  33.000         3     no  southeast   4449.46200\n",
       "3      33    male  22.705         0     no  northwest   3840.47061\n",
       "4      32    male  28.880         0     no  northwest   3866.85520\n",
       "...   ...     ...     ...       ...    ...        ...          ...\n",
       "1333   50    male  30.970         3     no  northwest  12610.54830\n",
       "1334   18  female  31.920         0     no  northeast   2895.98080\n",
       "1335   18  female  36.850         0     no  southeast   4100.83350\n",
       "1336   21  female  25.800         0     no  southwest   1402.94500\n",
       "1337   61  female  29.070         0    yes  northwest  36900.36030\n",
       "\n",
       "[1338 rows x 7 columns]"
      ]
     },
     "execution_count": 2,
     "metadata": {},
     "output_type": "execute_result"
    }
   ],
   "source": [
    "#importing the dataset\n",
    "df=pd.read_csv(\"insurance.csv\")\n",
    "df"
   ]
  },
  {
   "cell_type": "code",
   "execution_count": 3,
   "id": "2567f539",
   "metadata": {},
   "outputs": [
    {
     "data": {
      "text/html": [
       "<div>\n",
       "<style scoped>\n",
       "    .dataframe tbody tr th:only-of-type {\n",
       "        vertical-align: middle;\n",
       "    }\n",
       "\n",
       "    .dataframe tbody tr th {\n",
       "        vertical-align: top;\n",
       "    }\n",
       "\n",
       "    .dataframe thead th {\n",
       "        text-align: right;\n",
       "    }\n",
       "</style>\n",
       "<table border=\"1\" class=\"dataframe\">\n",
       "  <thead>\n",
       "    <tr style=\"text-align: right;\">\n",
       "      <th></th>\n",
       "      <th>age</th>\n",
       "      <th>sex</th>\n",
       "      <th>bmi</th>\n",
       "      <th>children</th>\n",
       "      <th>smoker</th>\n",
       "      <th>region</th>\n",
       "      <th>charges</th>\n",
       "    </tr>\n",
       "  </thead>\n",
       "  <tbody>\n",
       "    <tr>\n",
       "      <th>0</th>\n",
       "      <td>19</td>\n",
       "      <td>female</td>\n",
       "      <td>27.900</td>\n",
       "      <td>0</td>\n",
       "      <td>yes</td>\n",
       "      <td>southwest</td>\n",
       "      <td>2455.92400</td>\n",
       "    </tr>\n",
       "    <tr>\n",
       "      <th>1</th>\n",
       "      <td>18</td>\n",
       "      <td>male</td>\n",
       "      <td>33.770</td>\n",
       "      <td>1</td>\n",
       "      <td>no</td>\n",
       "      <td>southeast</td>\n",
       "      <td>3650.55230</td>\n",
       "    </tr>\n",
       "    <tr>\n",
       "      <th>2</th>\n",
       "      <td>28</td>\n",
       "      <td>male</td>\n",
       "      <td>33.000</td>\n",
       "      <td>3</td>\n",
       "      <td>no</td>\n",
       "      <td>southeast</td>\n",
       "      <td>4449.46200</td>\n",
       "    </tr>\n",
       "    <tr>\n",
       "      <th>3</th>\n",
       "      <td>33</td>\n",
       "      <td>male</td>\n",
       "      <td>22.705</td>\n",
       "      <td>0</td>\n",
       "      <td>no</td>\n",
       "      <td>northwest</td>\n",
       "      <td>3840.47061</td>\n",
       "    </tr>\n",
       "    <tr>\n",
       "      <th>4</th>\n",
       "      <td>32</td>\n",
       "      <td>male</td>\n",
       "      <td>28.880</td>\n",
       "      <td>0</td>\n",
       "      <td>no</td>\n",
       "      <td>northwest</td>\n",
       "      <td>3866.85520</td>\n",
       "    </tr>\n",
       "  </tbody>\n",
       "</table>\n",
       "</div>"
      ],
      "text/plain": [
       "   age     sex     bmi  children smoker     region     charges\n",
       "0   19  female  27.900         0    yes  southwest  2455.92400\n",
       "1   18    male  33.770         1     no  southeast  3650.55230\n",
       "2   28    male  33.000         3     no  southeast  4449.46200\n",
       "3   33    male  22.705         0     no  northwest  3840.47061\n",
       "4   32    male  28.880         0     no  northwest  3866.85520"
      ]
     },
     "execution_count": 3,
     "metadata": {},
     "output_type": "execute_result"
    }
   ],
   "source": [
    "#printing the first five rows of data\n",
    "df.head()"
   ]
  },
  {
   "cell_type": "code",
   "execution_count": 4,
   "id": "045c04aa",
   "metadata": {},
   "outputs": [
    {
     "data": {
      "text/html": [
       "<div>\n",
       "<style scoped>\n",
       "    .dataframe tbody tr th:only-of-type {\n",
       "        vertical-align: middle;\n",
       "    }\n",
       "\n",
       "    .dataframe tbody tr th {\n",
       "        vertical-align: top;\n",
       "    }\n",
       "\n",
       "    .dataframe thead th {\n",
       "        text-align: right;\n",
       "    }\n",
       "</style>\n",
       "<table border=\"1\" class=\"dataframe\">\n",
       "  <thead>\n",
       "    <tr style=\"text-align: right;\">\n",
       "      <th></th>\n",
       "      <th>age</th>\n",
       "      <th>sex</th>\n",
       "      <th>bmi</th>\n",
       "      <th>children</th>\n",
       "      <th>smoker</th>\n",
       "      <th>region</th>\n",
       "      <th>charges</th>\n",
       "    </tr>\n",
       "  </thead>\n",
       "  <tbody>\n",
       "    <tr>\n",
       "      <th>1333</th>\n",
       "      <td>50</td>\n",
       "      <td>male</td>\n",
       "      <td>30.97</td>\n",
       "      <td>3</td>\n",
       "      <td>no</td>\n",
       "      <td>northwest</td>\n",
       "      <td>12610.5483</td>\n",
       "    </tr>\n",
       "    <tr>\n",
       "      <th>1334</th>\n",
       "      <td>18</td>\n",
       "      <td>female</td>\n",
       "      <td>31.92</td>\n",
       "      <td>0</td>\n",
       "      <td>no</td>\n",
       "      <td>northeast</td>\n",
       "      <td>2895.9808</td>\n",
       "    </tr>\n",
       "    <tr>\n",
       "      <th>1335</th>\n",
       "      <td>18</td>\n",
       "      <td>female</td>\n",
       "      <td>36.85</td>\n",
       "      <td>0</td>\n",
       "      <td>no</td>\n",
       "      <td>southeast</td>\n",
       "      <td>4100.8335</td>\n",
       "    </tr>\n",
       "    <tr>\n",
       "      <th>1336</th>\n",
       "      <td>21</td>\n",
       "      <td>female</td>\n",
       "      <td>25.80</td>\n",
       "      <td>0</td>\n",
       "      <td>no</td>\n",
       "      <td>southwest</td>\n",
       "      <td>1402.9450</td>\n",
       "    </tr>\n",
       "    <tr>\n",
       "      <th>1337</th>\n",
       "      <td>61</td>\n",
       "      <td>female</td>\n",
       "      <td>29.07</td>\n",
       "      <td>0</td>\n",
       "      <td>yes</td>\n",
       "      <td>northwest</td>\n",
       "      <td>36900.3603</td>\n",
       "    </tr>\n",
       "  </tbody>\n",
       "</table>\n",
       "</div>"
      ],
      "text/plain": [
       "      age     sex    bmi  children smoker     region     charges\n",
       "1333   50    male  30.97         3     no  northwest  12610.5483\n",
       "1334   18  female  31.92         0     no  northeast   2895.9808\n",
       "1335   18  female  36.85         0     no  southeast   4100.8335\n",
       "1336   21  female  25.80         0     no  southwest   1402.9450\n",
       "1337   61  female  29.07         0    yes  northwest  36900.3603"
      ]
     },
     "execution_count": 4,
     "metadata": {},
     "output_type": "execute_result"
    }
   ],
   "source": [
    "#printing the last five rows of the data\n",
    "df.tail()"
   ]
  },
  {
   "cell_type": "code",
   "execution_count": 5,
   "id": "96bbabf9",
   "metadata": {},
   "outputs": [
    {
     "data": {
      "text/plain": [
       "(1338, 7)"
      ]
     },
     "execution_count": 5,
     "metadata": {},
     "output_type": "execute_result"
    }
   ],
   "source": [
    "#the shape of the dataset\n",
    "df.shape"
   ]
  },
  {
   "cell_type": "code",
   "execution_count": 6,
   "id": "1ae79532",
   "metadata": {},
   "outputs": [
    {
     "data": {
      "text/plain": [
       "9366"
      ]
     },
     "execution_count": 6,
     "metadata": {},
     "output_type": "execute_result"
    }
   ],
   "source": [
    "#the size of the dataset\n",
    "df.size"
   ]
  },
  {
   "cell_type": "code",
   "execution_count": 7,
   "id": "c67596ea",
   "metadata": {},
   "outputs": [
    {
     "data": {
      "text/plain": [
       "age           int64\n",
       "sex          object\n",
       "bmi         float64\n",
       "children      int64\n",
       "smoker       object\n",
       "region       object\n",
       "charges     float64\n",
       "dtype: object"
      ]
     },
     "execution_count": 7,
     "metadata": {},
     "output_type": "execute_result"
    }
   ],
   "source": [
    "#data types of all columns in the dataset\n",
    "df.dtypes"
   ]
  },
  {
   "cell_type": "code",
   "execution_count": 8,
   "id": "97a8a649",
   "metadata": {},
   "outputs": [
    {
     "name": "stdout",
     "output_type": "stream",
     "text": [
      "<class 'pandas.core.frame.DataFrame'>\n",
      "RangeIndex: 1338 entries, 0 to 1337\n",
      "Data columns (total 7 columns):\n",
      " #   Column    Non-Null Count  Dtype  \n",
      "---  ------    --------------  -----  \n",
      " 0   age       1338 non-null   int64  \n",
      " 1   sex       1338 non-null   object \n",
      " 2   bmi       1338 non-null   float64\n",
      " 3   children  1338 non-null   int64  \n",
      " 4   smoker    1338 non-null   object \n",
      " 5   region    1338 non-null   object \n",
      " 6   charges   1338 non-null   float64\n",
      "dtypes: float64(2), int64(2), object(3)\n",
      "memory usage: 73.3+ KB\n"
     ]
    }
   ],
   "source": [
    "#the information about the dataset\n",
    "df.info()"
   ]
  },
  {
   "cell_type": "code",
   "execution_count": 9,
   "id": "d05dbcfd",
   "metadata": {},
   "outputs": [
    {
     "data": {
      "text/html": [
       "<div>\n",
       "<style scoped>\n",
       "    .dataframe tbody tr th:only-of-type {\n",
       "        vertical-align: middle;\n",
       "    }\n",
       "\n",
       "    .dataframe tbody tr th {\n",
       "        vertical-align: top;\n",
       "    }\n",
       "\n",
       "    .dataframe thead th {\n",
       "        text-align: right;\n",
       "    }\n",
       "</style>\n",
       "<table border=\"1\" class=\"dataframe\">\n",
       "  <thead>\n",
       "    <tr style=\"text-align: right;\">\n",
       "      <th></th>\n",
       "      <th>age</th>\n",
       "      <th>bmi</th>\n",
       "      <th>children</th>\n",
       "      <th>charges</th>\n",
       "    </tr>\n",
       "  </thead>\n",
       "  <tbody>\n",
       "    <tr>\n",
       "      <th>count</th>\n",
       "      <td>1338.000000</td>\n",
       "      <td>1338.000000</td>\n",
       "      <td>1338.000000</td>\n",
       "      <td>1338.000000</td>\n",
       "    </tr>\n",
       "    <tr>\n",
       "      <th>mean</th>\n",
       "      <td>39.207025</td>\n",
       "      <td>30.663397</td>\n",
       "      <td>1.094918</td>\n",
       "      <td>13241.257093</td>\n",
       "    </tr>\n",
       "    <tr>\n",
       "      <th>std</th>\n",
       "      <td>14.049960</td>\n",
       "      <td>6.098187</td>\n",
       "      <td>1.205493</td>\n",
       "      <td>12133.611059</td>\n",
       "    </tr>\n",
       "    <tr>\n",
       "      <th>min</th>\n",
       "      <td>18.000000</td>\n",
       "      <td>15.960000</td>\n",
       "      <td>0.000000</td>\n",
       "      <td>1121.873900</td>\n",
       "    </tr>\n",
       "    <tr>\n",
       "      <th>25%</th>\n",
       "      <td>27.000000</td>\n",
       "      <td>26.296250</td>\n",
       "      <td>0.000000</td>\n",
       "      <td>4686.740775</td>\n",
       "    </tr>\n",
       "    <tr>\n",
       "      <th>50%</th>\n",
       "      <td>39.000000</td>\n",
       "      <td>30.400000</td>\n",
       "      <td>1.000000</td>\n",
       "      <td>9296.016525</td>\n",
       "    </tr>\n",
       "    <tr>\n",
       "      <th>75%</th>\n",
       "      <td>51.000000</td>\n",
       "      <td>34.693750</td>\n",
       "      <td>2.000000</td>\n",
       "      <td>16454.504562</td>\n",
       "    </tr>\n",
       "    <tr>\n",
       "      <th>max</th>\n",
       "      <td>64.000000</td>\n",
       "      <td>53.130000</td>\n",
       "      <td>5.000000</td>\n",
       "      <td>63770.428010</td>\n",
       "    </tr>\n",
       "  </tbody>\n",
       "</table>\n",
       "</div>"
      ],
      "text/plain": [
       "               age          bmi     children       charges\n",
       "count  1338.000000  1338.000000  1338.000000   1338.000000\n",
       "mean     39.207025    30.663397     1.094918  13241.257093\n",
       "std      14.049960     6.098187     1.205493  12133.611059\n",
       "min      18.000000    15.960000     0.000000   1121.873900\n",
       "25%      27.000000    26.296250     0.000000   4686.740775\n",
       "50%      39.000000    30.400000     1.000000   9296.016525\n",
       "75%      51.000000    34.693750     2.000000  16454.504562\n",
       "max      64.000000    53.130000     5.000000  63770.428010"
      ]
     },
     "execution_count": 9,
     "metadata": {},
     "output_type": "execute_result"
    }
   ],
   "source": [
    "df.describe()"
   ]
  },
  {
   "cell_type": "code",
   "execution_count": 10,
   "id": "fd13d31f",
   "metadata": {},
   "outputs": [
    {
     "data": {
      "text/plain": [
       "['age', 'bmi', 'children', 'charges']"
      ]
     },
     "execution_count": 10,
     "metadata": {},
     "output_type": "execute_result"
    }
   ],
   "source": [
    "#printing the numerical columns\n",
    "[features for features in df.dtypes[df.dtypes !=\"object\"].index]"
   ]
  },
  {
   "cell_type": "code",
   "execution_count": 11,
   "id": "cfc78419",
   "metadata": {},
   "outputs": [],
   "source": [
    "num_features=df.dtypes[df.dtypes!=\"object\"].index"
   ]
  },
  {
   "cell_type": "code",
   "execution_count": 12,
   "id": "8b271f49",
   "metadata": {},
   "outputs": [
    {
     "data": {
      "text/plain": [
       "Index(['age', 'bmi', 'children', 'charges'], dtype='object')"
      ]
     },
     "execution_count": 12,
     "metadata": {},
     "output_type": "execute_result"
    }
   ],
   "source": [
    "num_features"
   ]
  },
  {
   "cell_type": "code",
   "execution_count": 13,
   "id": "e5ffeb98",
   "metadata": {},
   "outputs": [
    {
     "data": {
      "text/plain": [
       "4"
      ]
     },
     "execution_count": 13,
     "metadata": {},
     "output_type": "execute_result"
    }
   ],
   "source": [
    "len(num_features)"
   ]
  },
  {
   "cell_type": "code",
   "execution_count": 14,
   "id": "3437565f",
   "metadata": {},
   "outputs": [
    {
     "data": {
      "text/html": [
       "<div>\n",
       "<style scoped>\n",
       "    .dataframe tbody tr th:only-of-type {\n",
       "        vertical-align: middle;\n",
       "    }\n",
       "\n",
       "    .dataframe tbody tr th {\n",
       "        vertical-align: top;\n",
       "    }\n",
       "\n",
       "    .dataframe thead th {\n",
       "        text-align: right;\n",
       "    }\n",
       "</style>\n",
       "<table border=\"1\" class=\"dataframe\">\n",
       "  <thead>\n",
       "    <tr style=\"text-align: right;\">\n",
       "      <th></th>\n",
       "      <th>age</th>\n",
       "      <th>bmi</th>\n",
       "      <th>children</th>\n",
       "      <th>charges</th>\n",
       "    </tr>\n",
       "  </thead>\n",
       "  <tbody>\n",
       "    <tr>\n",
       "      <th>count</th>\n",
       "      <td>1338.000000</td>\n",
       "      <td>1338.000000</td>\n",
       "      <td>1338.000000</td>\n",
       "      <td>1338.000000</td>\n",
       "    </tr>\n",
       "    <tr>\n",
       "      <th>mean</th>\n",
       "      <td>39.207025</td>\n",
       "      <td>30.663397</td>\n",
       "      <td>1.094918</td>\n",
       "      <td>13241.257093</td>\n",
       "    </tr>\n",
       "    <tr>\n",
       "      <th>std</th>\n",
       "      <td>14.049960</td>\n",
       "      <td>6.098187</td>\n",
       "      <td>1.205493</td>\n",
       "      <td>12133.611059</td>\n",
       "    </tr>\n",
       "    <tr>\n",
       "      <th>min</th>\n",
       "      <td>18.000000</td>\n",
       "      <td>15.960000</td>\n",
       "      <td>0.000000</td>\n",
       "      <td>1121.873900</td>\n",
       "    </tr>\n",
       "    <tr>\n",
       "      <th>25%</th>\n",
       "      <td>27.000000</td>\n",
       "      <td>26.296250</td>\n",
       "      <td>0.000000</td>\n",
       "      <td>4686.740775</td>\n",
       "    </tr>\n",
       "    <tr>\n",
       "      <th>50%</th>\n",
       "      <td>39.000000</td>\n",
       "      <td>30.400000</td>\n",
       "      <td>1.000000</td>\n",
       "      <td>9296.016525</td>\n",
       "    </tr>\n",
       "    <tr>\n",
       "      <th>75%</th>\n",
       "      <td>51.000000</td>\n",
       "      <td>34.693750</td>\n",
       "      <td>2.000000</td>\n",
       "      <td>16454.504562</td>\n",
       "    </tr>\n",
       "    <tr>\n",
       "      <th>max</th>\n",
       "      <td>64.000000</td>\n",
       "      <td>53.130000</td>\n",
       "      <td>5.000000</td>\n",
       "      <td>63770.428010</td>\n",
       "    </tr>\n",
       "  </tbody>\n",
       "</table>\n",
       "</div>"
      ],
      "text/plain": [
       "               age          bmi     children       charges\n",
       "count  1338.000000  1338.000000  1338.000000   1338.000000\n",
       "mean     39.207025    30.663397     1.094918  13241.257093\n",
       "std      14.049960     6.098187     1.205493  12133.611059\n",
       "min      18.000000    15.960000     0.000000   1121.873900\n",
       "25%      27.000000    26.296250     0.000000   4686.740775\n",
       "50%      39.000000    30.400000     1.000000   9296.016525\n",
       "75%      51.000000    34.693750     2.000000  16454.504562\n",
       "max      64.000000    53.130000     5.000000  63770.428010"
      ]
     },
     "execution_count": 14,
     "metadata": {},
     "output_type": "execute_result"
    }
   ],
   "source": [
    "df[num_features].describe()"
   ]
  },
  {
   "cell_type": "code",
   "execution_count": 15,
   "id": "bac2eab5",
   "metadata": {},
   "outputs": [],
   "source": [
    "cat_features=df.dtypes[df.dtypes==\"object\"].index"
   ]
  },
  {
   "cell_type": "code",
   "execution_count": 16,
   "id": "de2cbc4f",
   "metadata": {},
   "outputs": [
    {
     "data": {
      "text/plain": [
       "Index(['sex', 'smoker', 'region'], dtype='object')"
      ]
     },
     "execution_count": 16,
     "metadata": {},
     "output_type": "execute_result"
    }
   ],
   "source": [
    "cat_features"
   ]
  },
  {
   "cell_type": "code",
   "execution_count": 17,
   "id": "4897704c",
   "metadata": {},
   "outputs": [
    {
     "data": {
      "text/html": [
       "<div>\n",
       "<style scoped>\n",
       "    .dataframe tbody tr th:only-of-type {\n",
       "        vertical-align: middle;\n",
       "    }\n",
       "\n",
       "    .dataframe tbody tr th {\n",
       "        vertical-align: top;\n",
       "    }\n",
       "\n",
       "    .dataframe thead th {\n",
       "        text-align: right;\n",
       "    }\n",
       "</style>\n",
       "<table border=\"1\" class=\"dataframe\">\n",
       "  <thead>\n",
       "    <tr style=\"text-align: right;\">\n",
       "      <th></th>\n",
       "      <th>sex</th>\n",
       "      <th>smoker</th>\n",
       "      <th>region</th>\n",
       "    </tr>\n",
       "  </thead>\n",
       "  <tbody>\n",
       "    <tr>\n",
       "      <th>count</th>\n",
       "      <td>1338</td>\n",
       "      <td>1338</td>\n",
       "      <td>1338</td>\n",
       "    </tr>\n",
       "    <tr>\n",
       "      <th>unique</th>\n",
       "      <td>2</td>\n",
       "      <td>2</td>\n",
       "      <td>4</td>\n",
       "    </tr>\n",
       "    <tr>\n",
       "      <th>top</th>\n",
       "      <td>male</td>\n",
       "      <td>no</td>\n",
       "      <td>southeast</td>\n",
       "    </tr>\n",
       "    <tr>\n",
       "      <th>freq</th>\n",
       "      <td>676</td>\n",
       "      <td>1064</td>\n",
       "      <td>364</td>\n",
       "    </tr>\n",
       "  </tbody>\n",
       "</table>\n",
       "</div>"
      ],
      "text/plain": [
       "         sex smoker     region\n",
       "count   1338   1338       1338\n",
       "unique     2      2          4\n",
       "top     male     no  southeast\n",
       "freq     676   1064        364"
      ]
     },
     "execution_count": 17,
     "metadata": {},
     "output_type": "execute_result"
    }
   ],
   "source": [
    "df[cat_features].describe()"
   ]
  },
  {
   "cell_type": "markdown",
   "id": "da6e77fd",
   "metadata": {},
   "source": [
    "# check the UNIQUE libraries in the categorical variables"
   ]
  },
  {
   "cell_type": "code",
   "execution_count": 18,
   "id": "6d67c29a",
   "metadata": {},
   "outputs": [
    {
     "data": {
      "text/plain": [
       "array(['female', 'male'], dtype=object)"
      ]
     },
     "execution_count": 18,
     "metadata": {},
     "output_type": "execute_result"
    }
   ],
   "source": [
    "#check the unique values in the \"sex\" column\n",
    "df[\"sex\"].unique()"
   ]
  },
  {
   "cell_type": "code",
   "execution_count": 19,
   "id": "aaea24d0",
   "metadata": {},
   "outputs": [
    {
     "name": "stdout",
     "output_type": "stream",
     "text": [
      "male      676\n",
      "female    662\n",
      "Name: sex, dtype: int64\n"
     ]
    }
   ],
   "source": [
    "#print the no.of lables of \"sex\" variables\n",
    "print(df.sex.value_counts())"
   ]
  },
  {
   "cell_type": "code",
   "execution_count": 20,
   "id": "c9a13ee1",
   "metadata": {},
   "outputs": [
    {
     "data": {
      "text/plain": [
       "array(['yes', 'no'], dtype=object)"
      ]
     },
     "execution_count": 20,
     "metadata": {},
     "output_type": "execute_result"
    }
   ],
   "source": [
    "#check the unique values in the \"smoker\" column\n",
    "df[\"smoker\"].unique()"
   ]
  },
  {
   "cell_type": "code",
   "execution_count": 21,
   "id": "c1cd116c",
   "metadata": {},
   "outputs": [
    {
     "name": "stdout",
     "output_type": "stream",
     "text": [
      "no     1064\n",
      "yes     274\n",
      "Name: smoker, dtype: int64\n"
     ]
    }
   ],
   "source": [
    "#print the no.of lables of \"smoker\" variables\n",
    "print(df.smoker.value_counts())"
   ]
  },
  {
   "cell_type": "code",
   "execution_count": 22,
   "id": "577b713e",
   "metadata": {},
   "outputs": [
    {
     "data": {
      "text/plain": [
       "array(['southwest', 'southeast', 'northwest', 'northeast'], dtype=object)"
      ]
     },
     "execution_count": 22,
     "metadata": {},
     "output_type": "execute_result"
    }
   ],
   "source": [
    "#check the unique va;ues in the \"region\" column\n",
    "df[\"region\"].unique()"
   ]
  },
  {
   "cell_type": "code",
   "execution_count": 23,
   "id": "160e7e7e",
   "metadata": {},
   "outputs": [
    {
     "name": "stdout",
     "output_type": "stream",
     "text": [
      "southeast    364\n",
      "southwest    325\n",
      "northwest    325\n",
      "northeast    324\n",
      "Name: region, dtype: int64\n"
     ]
    }
   ],
   "source": [
    "#print the no.of lables of \"region\" variables\n",
    "print(df.region.value_counts())"
   ]
  },
  {
   "cell_type": "markdown",
   "id": "936b3da6",
   "metadata": {},
   "source": [
    "# DATA CLEANING"
   ]
  },
  {
   "cell_type": "code",
   "execution_count": 24,
   "id": "468df94e",
   "metadata": {},
   "outputs": [],
   "source": [
    "#checking the shape\n",
    "#df.shape"
   ]
  },
  {
   "cell_type": "code",
   "execution_count": 25,
   "id": "bcde5a2c",
   "metadata": {},
   "outputs": [],
   "source": [
    "#removing the duplicates\n",
    "#df=df.drop_duplicates()"
   ]
  },
  {
   "cell_type": "code",
   "execution_count": 26,
   "id": "3614aa0f",
   "metadata": {},
   "outputs": [],
   "source": [
    "#df"
   ]
  },
  {
   "cell_type": "code",
   "execution_count": 27,
   "id": "f0841d91",
   "metadata": {},
   "outputs": [
    {
     "data": {
      "text/plain": [
       "(1338, 7)"
      ]
     },
     "execution_count": 27,
     "metadata": {},
     "output_type": "execute_result"
    }
   ],
   "source": [
    "#after removing the duplicates the shape is\n",
    "df.shape"
   ]
  },
  {
   "cell_type": "markdown",
   "id": "8a06194b",
   "metadata": {},
   "source": [
    "# CHECKING THE NULL VALUES"
   ]
  },
  {
   "cell_type": "code",
   "execution_count": 28,
   "id": "18e68ab6",
   "metadata": {},
   "outputs": [
    {
     "data": {
      "text/html": [
       "<div>\n",
       "<style scoped>\n",
       "    .dataframe tbody tr th:only-of-type {\n",
       "        vertical-align: middle;\n",
       "    }\n",
       "\n",
       "    .dataframe tbody tr th {\n",
       "        vertical-align: top;\n",
       "    }\n",
       "\n",
       "    .dataframe thead th {\n",
       "        text-align: right;\n",
       "    }\n",
       "</style>\n",
       "<table border=\"1\" class=\"dataframe\">\n",
       "  <thead>\n",
       "    <tr style=\"text-align: right;\">\n",
       "      <th></th>\n",
       "      <th>age</th>\n",
       "      <th>sex</th>\n",
       "      <th>bmi</th>\n",
       "      <th>children</th>\n",
       "      <th>smoker</th>\n",
       "      <th>region</th>\n",
       "      <th>charges</th>\n",
       "    </tr>\n",
       "  </thead>\n",
       "  <tbody>\n",
       "    <tr>\n",
       "      <th>0</th>\n",
       "      <td>False</td>\n",
       "      <td>False</td>\n",
       "      <td>False</td>\n",
       "      <td>False</td>\n",
       "      <td>False</td>\n",
       "      <td>False</td>\n",
       "      <td>False</td>\n",
       "    </tr>\n",
       "    <tr>\n",
       "      <th>1</th>\n",
       "      <td>False</td>\n",
       "      <td>False</td>\n",
       "      <td>False</td>\n",
       "      <td>False</td>\n",
       "      <td>False</td>\n",
       "      <td>False</td>\n",
       "      <td>False</td>\n",
       "    </tr>\n",
       "    <tr>\n",
       "      <th>2</th>\n",
       "      <td>False</td>\n",
       "      <td>False</td>\n",
       "      <td>False</td>\n",
       "      <td>False</td>\n",
       "      <td>False</td>\n",
       "      <td>False</td>\n",
       "      <td>False</td>\n",
       "    </tr>\n",
       "    <tr>\n",
       "      <th>3</th>\n",
       "      <td>False</td>\n",
       "      <td>False</td>\n",
       "      <td>False</td>\n",
       "      <td>False</td>\n",
       "      <td>False</td>\n",
       "      <td>False</td>\n",
       "      <td>False</td>\n",
       "    </tr>\n",
       "    <tr>\n",
       "      <th>4</th>\n",
       "      <td>False</td>\n",
       "      <td>False</td>\n",
       "      <td>False</td>\n",
       "      <td>False</td>\n",
       "      <td>False</td>\n",
       "      <td>False</td>\n",
       "      <td>False</td>\n",
       "    </tr>\n",
       "    <tr>\n",
       "      <th>...</th>\n",
       "      <td>...</td>\n",
       "      <td>...</td>\n",
       "      <td>...</td>\n",
       "      <td>...</td>\n",
       "      <td>...</td>\n",
       "      <td>...</td>\n",
       "      <td>...</td>\n",
       "    </tr>\n",
       "    <tr>\n",
       "      <th>1333</th>\n",
       "      <td>False</td>\n",
       "      <td>False</td>\n",
       "      <td>False</td>\n",
       "      <td>False</td>\n",
       "      <td>False</td>\n",
       "      <td>False</td>\n",
       "      <td>False</td>\n",
       "    </tr>\n",
       "    <tr>\n",
       "      <th>1334</th>\n",
       "      <td>False</td>\n",
       "      <td>False</td>\n",
       "      <td>False</td>\n",
       "      <td>False</td>\n",
       "      <td>False</td>\n",
       "      <td>False</td>\n",
       "      <td>False</td>\n",
       "    </tr>\n",
       "    <tr>\n",
       "      <th>1335</th>\n",
       "      <td>False</td>\n",
       "      <td>False</td>\n",
       "      <td>False</td>\n",
       "      <td>False</td>\n",
       "      <td>False</td>\n",
       "      <td>False</td>\n",
       "      <td>False</td>\n",
       "    </tr>\n",
       "    <tr>\n",
       "      <th>1336</th>\n",
       "      <td>False</td>\n",
       "      <td>False</td>\n",
       "      <td>False</td>\n",
       "      <td>False</td>\n",
       "      <td>False</td>\n",
       "      <td>False</td>\n",
       "      <td>False</td>\n",
       "    </tr>\n",
       "    <tr>\n",
       "      <th>1337</th>\n",
       "      <td>False</td>\n",
       "      <td>False</td>\n",
       "      <td>False</td>\n",
       "      <td>False</td>\n",
       "      <td>False</td>\n",
       "      <td>False</td>\n",
       "      <td>False</td>\n",
       "    </tr>\n",
       "  </tbody>\n",
       "</table>\n",
       "<p>1338 rows × 7 columns</p>\n",
       "</div>"
      ],
      "text/plain": [
       "        age    sex    bmi  children  smoker  region  charges\n",
       "0     False  False  False     False   False   False    False\n",
       "1     False  False  False     False   False   False    False\n",
       "2     False  False  False     False   False   False    False\n",
       "3     False  False  False     False   False   False    False\n",
       "4     False  False  False     False   False   False    False\n",
       "...     ...    ...    ...       ...     ...     ...      ...\n",
       "1333  False  False  False     False   False   False    False\n",
       "1334  False  False  False     False   False   False    False\n",
       "1335  False  False  False     False   False   False    False\n",
       "1336  False  False  False     False   False   False    False\n",
       "1337  False  False  False     False   False   False    False\n",
       "\n",
       "[1338 rows x 7 columns]"
      ]
     },
     "execution_count": 28,
     "metadata": {},
     "output_type": "execute_result"
    }
   ],
   "source": [
    "#checking the null values\n",
    "df.isnull()"
   ]
  },
  {
   "cell_type": "code",
   "execution_count": 29,
   "id": "86efb913",
   "metadata": {},
   "outputs": [
    {
     "data": {
      "text/plain": [
       "age         0\n",
       "sex         0\n",
       "bmi         0\n",
       "children    0\n",
       "smoker      0\n",
       "region      0\n",
       "charges     0\n",
       "dtype: int64"
      ]
     },
     "execution_count": 29,
     "metadata": {},
     "output_type": "execute_result"
    }
   ],
   "source": [
    "df.isnull().sum()"
   ]
  },
  {
   "cell_type": "markdown",
   "id": "4efaa3cf",
   "metadata": {},
   "source": [
    "# DATA VISULIZATION"
   ]
  },
  {
   "cell_type": "markdown",
   "id": "e238ecc9",
   "metadata": {},
   "source": [
    "# HISTOGRAM"
   ]
  },
  {
   "cell_type": "code",
   "execution_count": 30,
   "id": "0f2c45ac",
   "metadata": {},
   "outputs": [
    {
     "data": {
      "image/png": "[encoded data removed]",
      "text/plain": [
       "<Figure size 720x720 with 4 Axes>"
      ]
     },
     "metadata": {
      "needs_background": "light"
     },
     "output_type": "display_data"
    }
   ],
   "source": [
    "#histogram of each feature\n",
    "df.hist(bins=10,figsize=(10,10))\n",
    "plt.show()"
   ]
  },
  {
   "cell_type": "code",
   "execution_count": 31,
   "id": "57683dcb",
   "metadata": {},
   "outputs": [
    {
     "data": {
      "image/png": "[encoded data removed]",
      "text/plain": [
       "<Figure size 432x432 with 1 Axes>"
      ]
     },
     "metadata": {},
     "output_type": "display_data"
    }
   ],
   "source": [
    "# distribution of age values\n",
    "import warnings\n",
    "warnings.filterwarnings(\"ignore\")\n",
    "sns.set()\n",
    "plt.figure(figsize=(6,6))\n",
    "sns.distplot(df[\"age\"])\n",
    "plt.title(\"age distribution\")\n",
    "plt.show()"
   ]
  },
  {
   "cell_type": "code",
   "execution_count": 32,
   "id": "3b3f281d",
   "metadata": {},
   "outputs": [
    {
     "data": {
      "image/png": "[encoded data removed]",
      "text/plain": [
       "<Figure size 432x432 with 1 Axes>"
      ]
     },
     "metadata": {},
     "output_type": "display_data"
    }
   ],
   "source": [
    "#distribution for gender columns\n",
    "plt.figure(figsize=(6,6))\n",
    "sns.countplot(x=\"sex\",data=df)\n",
    "plt.title(\"sex distribution\")\n",
    "plt.show()"
   ]
  },
  {
   "cell_type": "code",
   "execution_count": 33,
   "id": "e7c6ec67",
   "metadata": {},
   "outputs": [
    {
     "name": "stdout",
     "output_type": "stream",
     "text": [
      "male      676\n",
      "female    662\n",
      "Name: sex, dtype: int64\n"
     ]
    }
   ],
   "source": [
    "#print the no.of lables of \"sex\" variables\n",
    "print(df.sex.value_counts())"
   ]
  },
  {
   "cell_type": "code",
   "execution_count": 34,
   "id": "2dc314ca",
   "metadata": {},
   "outputs": [
    {
     "data": {
      "image/png": "[encoded data removed]",
      "text/plain": [
       "<Figure size 432x432 with 1 Axes>"
      ]
     },
     "metadata": {},
     "output_type": "display_data"
    }
   ],
   "source": [
    "#bmi distribution (body mass index)\n",
    "import warnings\n",
    "warnings.filterwarnings(\"ignore\")\n",
    "plt.figure(figsize=(6,6))\n",
    "sns.distplot(df[\"bmi\"])\n",
    "plt.title(\"bmi distribution\")\n",
    "plt.show()"
   ]
  },
  {
   "cell_type": "markdown",
   "id": "de68863d",
   "metadata": {},
   "source": [
    "normal bmi range-->18.5 to 24.9"
   ]
  },
  {
   "cell_type": "code",
   "execution_count": 35,
   "id": "14e17de8",
   "metadata": {},
   "outputs": [
    {
     "data": {
      "image/png": "[encoded data removed]",
      "text/plain": [
       "<Figure size 432x432 with 1 Axes>"
      ]
     },
     "metadata": {},
     "output_type": "display_data"
    }
   ],
   "source": [
    "#children column\n",
    "plt.figure(figsize=(6,6))\n",
    "sns.countplot(x=\"children\",data=df)\n",
    "plt.title(\"children\")\n",
    "plt.show()"
   ]
  },
  {
   "cell_type": "code",
   "execution_count": 36,
   "id": "44b0bb7f",
   "metadata": {},
   "outputs": [
    {
     "name": "stdout",
     "output_type": "stream",
     "text": [
      "0    574\n",
      "1    324\n",
      "2    240\n",
      "3    157\n",
      "4     25\n",
      "5     18\n",
      "Name: children, dtype: int64\n"
     ]
    }
   ],
   "source": [
    "print(df[\"children\"].value_counts())"
   ]
  },
  {
   "cell_type": "code",
   "execution_count": 37,
   "id": "7a930e1c",
   "metadata": {},
   "outputs": [
    {
     "data": {
      "image/png": "[encoded data removed]",
      "text/plain": [
       "<Figure size 432x432 with 1 Axes>"
      ]
     },
     "metadata": {},
     "output_type": "display_data"
    }
   ],
   "source": [
    "#smoker column\n",
    "plt.figure(figsize=(6,6))\n",
    "sns.countplot(x=\"smoker\",data=df)\n",
    "plt.title(\"smoker\")\n",
    "plt.show()"
   ]
  },
  {
   "cell_type": "code",
   "execution_count": 38,
   "id": "dda97a83",
   "metadata": {},
   "outputs": [
    {
     "name": "stdout",
     "output_type": "stream",
     "text": [
      "no     1064\n",
      "yes     274\n",
      "Name: smoker, dtype: int64\n"
     ]
    }
   ],
   "source": [
    "print(df[\"smoker\"].value_counts())"
   ]
  },
  {
   "cell_type": "code",
   "execution_count": 39,
   "id": "45c6eafd",
   "metadata": {},
   "outputs": [
    {
     "data": {
      "image/png": "[encoded data removed]",
      "text/plain": [
       "<Figure size 432x432 with 1 Axes>"
      ]
     },
     "metadata": {},
     "output_type": "display_data"
    }
   ],
   "source": [
    "#region column\n",
    "plt.figure(figsize=(6,6))\n",
    "sns.countplot(x=\"region\",data=df)\n",
    "plt.title(\"region\")\n",
    "plt.show()"
   ]
  },
  {
   "cell_type": "code",
   "execution_count": 40,
   "id": "d4ac6bcb",
   "metadata": {},
   "outputs": [
    {
     "name": "stdout",
     "output_type": "stream",
     "text": [
      "southeast    364\n",
      "southwest    325\n",
      "northwest    325\n",
      "northeast    324\n",
      "Name: region, dtype: int64\n"
     ]
    }
   ],
   "source": [
    "print(df[\"region\"].value_counts())"
   ]
  },
  {
   "cell_type": "code",
   "execution_count": 41,
   "id": "662e9a34",
   "metadata": {},
   "outputs": [
    {
     "data": {
      "image/png": "[encoded data removed]",
      "text/plain": [
       "<Figure size 432x288 with 1 Axes>"
      ]
     },
     "metadata": {},
     "output_type": "display_data"
    }
   ],
   "source": [
    "#pie chart for the region column\n",
    "import pandas as pd\n",
    "import numpy as np\n",
    "from matplotlib import pyplot as plt\n",
    "x=df[\"region\"].value_counts()\n",
    "names=[\"southeast\",\"southwest\",\"northeast\",\"northwest\"]\n",
    "fig=plt.pie(x,labels=names)"
   ]
  },
  {
   "cell_type": "code",
   "execution_count": 42,
   "id": "5f4ae9cb",
   "metadata": {},
   "outputs": [
    {
     "data": {
      "image/png": "[encoded data removed]",
      "text/plain": [
       "<Figure size 432x432 with 1 Axes>"
      ]
     },
     "metadata": {},
     "output_type": "display_data"
    }
   ],
   "source": [
    "#distibution of charges values\n",
    "plt.figure(figsize=(6,6))\n",
    "sns.distplot(df[\"charges\"])\n",
    "plt.title(\"charge distribution\")\n",
    "plt.show()"
   ]
  },
  {
   "cell_type": "code",
   "execution_count": 43,
   "id": "ac49dd04",
   "metadata": {},
   "outputs": [],
   "source": [
    "#value counts() of charges"
   ]
  },
  {
   "cell_type": "code",
   "execution_count": 44,
   "id": "98724596",
   "metadata": {},
   "outputs": [
    {
     "name": "stdout",
     "output_type": "stream",
     "text": [
      "1639.56310     2\n",
      "2455.92400     1\n",
      "29330.98315    1\n",
      "2221.56445     1\n",
      "19798.05455    1\n",
      "              ..\n",
      "7345.08400     1\n",
      "26109.32905    1\n",
      "28287.89766    1\n",
      "1149.39590     1\n",
      "36900.36030    1\n",
      "Name: charges, Length: 1337, dtype: int64\n"
     ]
    }
   ],
   "source": [
    "print(df[\"charges\"].value_counts())"
   ]
  },
  {
   "cell_type": "code",
   "execution_count": 45,
   "id": "541f273d",
   "metadata": {},
   "outputs": [
    {
     "name": "stdout",
     "output_type": "stream",
     "text": [
      "               age       bmi  children   charges\n",
      "age       1.000000  0.109272  0.042469  0.301798\n",
      "bmi       0.109272  1.000000  0.012759  0.199459\n",
      "children  0.042469  0.012759  1.000000  0.068919\n",
      "charges   0.301798  0.199459  0.068919  1.000000\n"
     ]
    }
   ],
   "source": [
    "#correlation\n",
    "print(df.corr())"
   ]
  },
  {
   "cell_type": "code",
   "execution_count": 46,
   "id": "1345ed70",
   "metadata": {},
   "outputs": [
    {
     "name": "stdout",
     "output_type": "stream",
     "text": [
      "age            14.049960\n",
      "bmi             6.098187\n",
      "children        1.205493\n",
      "charges     12133.611059\n",
      "dtype: float64\n"
     ]
    }
   ],
   "source": [
    "#standard deviation\n",
    "print(df.std())"
   ]
  },
  {
   "cell_type": "code",
   "execution_count": 47,
   "id": "a00c5279",
   "metadata": {},
   "outputs": [
    {
     "name": "stdout",
     "output_type": "stream",
     "text": [
      "age         1.974014e+02\n",
      "bmi         3.718788e+01\n",
      "children    1.453213e+00\n",
      "charges     1.472245e+08\n",
      "dtype: float64\n"
     ]
    }
   ],
   "source": [
    "#variance\n",
    "\n",
    "print(df.var())"
   ]
  },
  {
   "cell_type": "code",
   "execution_count": 48,
   "id": "637d0cec",
   "metadata": {},
   "outputs": [
    {
     "name": "stdout",
     "output_type": "stream",
     "text": [
      "age                                                     52459\n",
      "sex         femalemalemalemalemalefemalefemalefemalemalefe...\n",
      "bmi                                                 41027.625\n",
      "children                                                 1465\n",
      "smoker      yesnonononononononononoyesnonoyesnonononoyesno...\n",
      "region      southwestsoutheastsoutheastnorthwestnorthwests...\n",
      "charges                                       17716801.990759\n",
      "dtype: object\n"
     ]
    }
   ],
   "source": [
    "#print the sum\n",
    "print(df.sum())"
   ]
  },
  {
   "cell_type": "code",
   "execution_count": 49,
   "id": "a4a4f0b8",
   "metadata": {},
   "outputs": [
    {
     "name": "stdout",
     "output_type": "stream",
     "text": [
      "age            39.207025\n",
      "bmi            30.663397\n",
      "children        1.094918\n",
      "charges     13241.257093\n",
      "dtype: float64\n"
     ]
    }
   ],
   "source": [
    "#mean()\n",
    "print(df.mean())"
   ]
  },
  {
   "cell_type": "markdown",
   "id": "1a1299ba",
   "metadata": {},
   "source": [
    "# DATA PRE-PREOCESSING"
   ]
  },
  {
   "cell_type": "markdown",
   "id": "9012e79b",
   "metadata": {},
   "source": [
    "# ENCODING THE CATEGORIACAL FEATURES"
   ]
  },
  {
   "cell_type": "code",
   "execution_count": 50,
   "id": "02ba4486",
   "metadata": {},
   "outputs": [],
   "source": [
    "#encoding the sex column\n",
    "df.replace({\"sex\":{\"male\":0,\"female\":1}},inplace=True)\n",
    "\n",
    "#encoding the smoker column\n",
    "df.replace({\"smoker\":{\"yes\":0,\"no\":1}},inplace=True)\n",
    "\n",
    "#encoding the region column\n",
    "df.replace({\"region\":{\"southeast\":0,\"southwest\":1,\"northeast\":2,\"northwest\":3}},inplace=True)"
   ]
  },
  {
   "cell_type": "markdown",
   "id": "e8fd4913",
   "metadata": {},
   "source": [
    "sex column\n",
    "male-->0\n",
    "female-->1\n",
    "smoker column\n",
    "yes-->0\n",
    "no-->1\n",
    "region column\n",
    "southeast-->0\n",
    "southwest-->1\n",
    "northeast-->2\n",
    "northwest-->3"
   ]
  },
  {
   "cell_type": "markdown",
   "id": "2ea6bd8f",
   "metadata": {},
   "source": [
    "# checking the relationship between the dependent varable and independent vaiables"
   ]
  },
  {
   "cell_type": "code",
   "execution_count": 51,
   "id": "69735ff4",
   "metadata": {},
   "outputs": [
    {
     "data": {
      "image/png": "[encoded data removed]",
      "text/plain": [
       "<Figure size 432x288 with 1 Axes>"
      ]
     },
     "metadata": {},
     "output_type": "display_data"
    }
   ],
   "source": [
    "#checking the linear relationship between the dependent varaible and independent variable\n",
    "x=df[\"age\"]\n",
    "y=df[\"charges\"]\n",
    "plt.scatter(x,y)\n",
    "plt.xlabel(\"age\")\n",
    "plt.ylabel(\"charges\")\n",
    "plt.show()"
   ]
  },
  {
   "cell_type": "code",
   "execution_count": 52,
   "id": "98a2f80e",
   "metadata": {},
   "outputs": [
    {
     "data": {
      "image/png": "[encoded data removed]",
      "text/plain": [
       "<Figure size 432x288 with 1 Axes>"
      ]
     },
     "metadata": {},
     "output_type": "display_data"
    }
   ],
   "source": [
    "#checking the relationship between bmi and charges\n",
    "x=df[\"bmi\"]\n",
    "y=df[\"charges\"]\n",
    "plt.scatter(x,y)\n",
    "plt.xlabel(\"bmi\")\n",
    "plt.ylabel(\"charges\")\n",
    "plt.show()"
   ]
  },
  {
   "cell_type": "code",
   "execution_count": 53,
   "id": "c21b1db5",
   "metadata": {},
   "outputs": [
    {
     "data": {
      "image/png": "[encoded data removed]",
      "text/plain": [
       "<Figure size 432x288 with 1 Axes>"
      ]
     },
     "metadata": {},
     "output_type": "display_data"
    }
   ],
   "source": [
    "#checking the relationship between bmi and charges\n",
    "x=df[\"children\"]\n",
    "y=df[\"charges\"]\n",
    "plt.scatter(x,y)\n",
    "plt.xlabel(\"children\")\n",
    "plt.ylabel(\"charges\")\n",
    "plt.show()"
   ]
  },
  {
   "cell_type": "code",
   "execution_count": 54,
   "id": "b308af73",
   "metadata": {},
   "outputs": [],
   "source": [
    "#checking the relationships between the independent variables"
   ]
  },
  {
   "cell_type": "code",
   "execution_count": 55,
   "id": "5ddc03e1",
   "metadata": {},
   "outputs": [
    {
     "data": {
      "image/png": "[encoded data removed]",
      "text/plain": [
       "<Figure size 432x288 with 1 Axes>"
      ]
     },
     "metadata": {},
     "output_type": "display_data"
    }
   ],
   "source": [
    "#checking the relatonship between the age and bmi columns\n",
    "x=df[\"age\"]\n",
    "y=df[\"bmi\"]\n",
    "plt.scatter(x,y)\n",
    "plt.show()"
   ]
  },
  {
   "cell_type": "code",
   "execution_count": 56,
   "id": "d85b1870",
   "metadata": {},
   "outputs": [
    {
     "data": {
      "image/png": "[encoded data removed]",
      "text/plain": [
       "<Figure size 432x288 with 1 Axes>"
      ]
     },
     "metadata": {},
     "output_type": "display_data"
    }
   ],
   "source": [
    "#relationship between the bmi and children columns\n",
    "x=df[\"bmi\"]\n",
    "y=df[\"children\"]\n",
    "plt.xlabel(\"bmi\")\n",
    "plt.ylabel(\"children\")\n",
    "plt.scatter(x,y)\n",
    "plt.show()"
   ]
  },
  {
   "cell_type": "code",
   "execution_count": 57,
   "id": "9be75875",
   "metadata": {},
   "outputs": [
    {
     "data": {
      "image/png": "[encoded data removed]",
      "text/plain": [
       "<Figure size 432x288 with 1 Axes>"
      ]
     },
     "metadata": {},
     "output_type": "display_data"
    }
   ],
   "source": [
    "#relationship between the age and children columns\n",
    "x=df[\"age\"]\n",
    "y=df[\"children\"]\n",
    "plt.xlabel(\"age\")\n",
    "plt.ylabel(\"chindren\")\n",
    "plt.scatter(x,y)\n",
    "plt.show()"
   ]
  },
  {
   "cell_type": "code",
   "execution_count": 58,
   "id": "1c16dd1e",
   "metadata": {},
   "outputs": [
    {
     "data": {
      "image/png": "[encoded data removed]",
      "text/plain": [
       "<Figure size 432x288 with 1 Axes>"
      ]
     },
     "metadata": {},
     "output_type": "display_data"
    }
   ],
   "source": [
    "#barchart for the sex and charges\n",
    "x=df[\"sex\"]\n",
    "y=df[\"charges\"]\n",
    "plt.xlabel(\"sex\")\n",
    "plt.ylabel(\"charges\")\n",
    "plt.bar(x,y)\n",
    "plt.show()"
   ]
  },
  {
   "cell_type": "code",
   "execution_count": 59,
   "id": "e759f30b",
   "metadata": {},
   "outputs": [
    {
     "data": {
      "image/png": "[encoded data removed]",
      "text/plain": [
       "<Figure size 432x288 with 1 Axes>"
      ]
     },
     "metadata": {},
     "output_type": "display_data"
    }
   ],
   "source": [
    "#barchart for the smoker and charges\n",
    "x=df[\"smoker\"]\n",
    "y=df[\"charges\"]\n",
    "plt.xlabel(\"smoker\")\n",
    "plt.ylabel(\"charges\")\n",
    "plt.bar(x,y)\n",
    "plt.show()"
   ]
  },
  {
   "cell_type": "code",
   "execution_count": 60,
   "id": "8dc19feb",
   "metadata": {},
   "outputs": [
    {
     "data": {
      "image/png": "[encoded data removed]",
      "text/plain": [
       "<Figure size 432x288 with 1 Axes>"
      ]
     },
     "metadata": {},
     "output_type": "display_data"
    }
   ],
   "source": [
    "#barchart for the region and charges\n",
    "x=df[\"region\"]\n",
    "y=df[\"charges\"]\n",
    "plt.xlabel(\"region\")\n",
    "plt.ylabel(\"charges\")\n",
    "plt.bar(x,y)\n",
    "plt.show()"
   ]
  },
  {
   "cell_type": "code",
   "execution_count": 1,
   "id": "f40a26af",
   "metadata": {},
   "outputs": [
    {
     "ename": "SyntaxError",
     "evalue": "invalid syntax (1495456989.py, line 2)",
     "output_type": "error",
     "traceback": [
      "\u001b[1;36m  Input \u001b[1;32mIn [1]\u001b[1;36m\u001b[0m\n\u001b[1;33m    X=df.drop([\"Position\",\"Salary\",axis=1)\u001b[0m\n\u001b[1;37m                                       ^\u001b[0m\n\u001b[1;31mSyntaxError\u001b[0m\u001b[1;31m:\u001b[0m invalid syntax\n"
     ]
    }
   ],
   "source": [
    "#splitting the features and target\n",
    "X=df.drop([\"Position\",\"Salary\",axis=1)\n",
    "Y=df[\"Salary\"]"
   ]
  },
  {
   "cell_type": "code",
   "execution_count": 62,
   "id": "34d78c12",
   "metadata": {},
   "outputs": [
    {
     "name": "stdout",
     "output_type": "stream",
     "text": [
      "      age  sex     bmi  children  smoker  region\n",
      "0      19    1  27.900         0       0       1\n",
      "1      18    0  33.770         1       1       0\n",
      "2      28    0  33.000         3       1       0\n",
      "3      33    0  22.705         0       1       3\n",
      "4      32    0  28.880         0       1       3\n",
      "...   ...  ...     ...       ...     ...     ...\n",
      "1333   50    0  30.970         3       1       3\n",
      "1334   18    1  31.920         0       1       2\n",
      "1335   18    1  36.850         0       1       0\n",
      "1336   21    1  25.800         0       1       1\n",
      "1337   61    1  29.070         0       0       3\n",
      "\n",
      "[1338 rows x 6 columns]\n"
     ]
    }
   ],
   "source": [
    "print(X)"
   ]
  },
  {
   "cell_type": "code",
   "execution_count": 63,
   "id": "2ad525ae",
   "metadata": {},
   "outputs": [
    {
     "name": "stdout",
     "output_type": "stream",
     "text": [
      "0        2455.92400\n",
      "1        3650.55230\n",
      "2        4449.46200\n",
      "3        3840.47061\n",
      "4        3866.85520\n",
      "           ...     \n",
      "1333    12610.54830\n",
      "1334     2895.98080\n",
      "1335     4100.83350\n",
      "1336     1402.94500\n",
      "1337    36900.36030\n",
      "Name: charges, Length: 1338, dtype: float64\n"
     ]
    }
   ],
   "source": [
    "print(Y)"
   ]
  },
  {
   "cell_type": "markdown",
   "id": "bbb5dceb",
   "metadata": {},
   "source": [
    "# splitting the data into training and testing data"
   ]
  },
  {
   "cell_type": "code",
   "execution_count": 64,
   "id": "47390d03",
   "metadata": {},
   "outputs": [],
   "source": [
    "from sklearn.model_selection import train_test_split\n",
    "from sklearn.linear_model import LinearRegression\n",
    "from sklearn import metrics\n",
    "X_train, X_test,Y_train,Y_test=train_test_split(X,Y,test_size=0.2,random_state=2)"
   ]
  },
  {
   "cell_type": "code",
   "execution_count": 65,
   "id": "76f4a797",
   "metadata": {},
   "outputs": [
    {
     "name": "stdout",
     "output_type": "stream",
     "text": [
      "(1070, 6)\n"
     ]
    }
   ],
   "source": [
    "print(X_train.shape)"
   ]
  },
  {
   "cell_type": "code",
   "execution_count": 66,
   "id": "4a9a424c",
   "metadata": {},
   "outputs": [
    {
     "name": "stdout",
     "output_type": "stream",
     "text": [
      "(268, 6)\n"
     ]
    }
   ],
   "source": [
    "print(X_test.shape)"
   ]
  },
  {
   "cell_type": "code",
   "execution_count": 67,
   "id": "14d5bb40",
   "metadata": {},
   "outputs": [
    {
     "name": "stdout",
     "output_type": "stream",
     "text": [
      "(1338, 6)\n"
     ]
    }
   ],
   "source": [
    "print(X.shape)"
   ]
  },
  {
   "cell_type": "code",
   "execution_count": 68,
   "id": "a3c3bf80",
   "metadata": {},
   "outputs": [
    {
     "data": {
      "text/html": [
       "<div>\n",
       "<style scoped>\n",
       "    .dataframe tbody tr th:only-of-type {\n",
       "        vertical-align: middle;\n",
       "    }\n",
       "\n",
       "    .dataframe tbody tr th {\n",
       "        vertical-align: top;\n",
       "    }\n",
       "\n",
       "    .dataframe thead th {\n",
       "        text-align: right;\n",
       "    }\n",
       "</style>\n",
       "<table border=\"1\" class=\"dataframe\">\n",
       "  <thead>\n",
       "    <tr style=\"text-align: right;\">\n",
       "      <th></th>\n",
       "      <th>age</th>\n",
       "      <th>sex</th>\n",
       "      <th>bmi</th>\n",
       "      <th>children</th>\n",
       "      <th>smoker</th>\n",
       "      <th>region</th>\n",
       "    </tr>\n",
       "  </thead>\n",
       "  <tbody>\n",
       "    <tr>\n",
       "      <th>882</th>\n",
       "      <td>21</td>\n",
       "      <td>1</td>\n",
       "      <td>22.135</td>\n",
       "      <td>0</td>\n",
       "      <td>1</td>\n",
       "      <td>2</td>\n",
       "    </tr>\n",
       "    <tr>\n",
       "      <th>505</th>\n",
       "      <td>37</td>\n",
       "      <td>0</td>\n",
       "      <td>30.875</td>\n",
       "      <td>3</td>\n",
       "      <td>1</td>\n",
       "      <td>3</td>\n",
       "    </tr>\n",
       "    <tr>\n",
       "      <th>798</th>\n",
       "      <td>58</td>\n",
       "      <td>1</td>\n",
       "      <td>33.100</td>\n",
       "      <td>0</td>\n",
       "      <td>1</td>\n",
       "      <td>1</td>\n",
       "    </tr>\n",
       "    <tr>\n",
       "      <th>792</th>\n",
       "      <td>22</td>\n",
       "      <td>1</td>\n",
       "      <td>23.180</td>\n",
       "      <td>0</td>\n",
       "      <td>1</td>\n",
       "      <td>2</td>\n",
       "    </tr>\n",
       "    <tr>\n",
       "      <th>201</th>\n",
       "      <td>48</td>\n",
       "      <td>1</td>\n",
       "      <td>32.230</td>\n",
       "      <td>1</td>\n",
       "      <td>1</td>\n",
       "      <td>0</td>\n",
       "    </tr>\n",
       "    <tr>\n",
       "      <th>...</th>\n",
       "      <td>...</td>\n",
       "      <td>...</td>\n",
       "      <td>...</td>\n",
       "      <td>...</td>\n",
       "      <td>...</td>\n",
       "      <td>...</td>\n",
       "    </tr>\n",
       "    <tr>\n",
       "      <th>466</th>\n",
       "      <td>60</td>\n",
       "      <td>1</td>\n",
       "      <td>28.700</td>\n",
       "      <td>1</td>\n",
       "      <td>1</td>\n",
       "      <td>1</td>\n",
       "    </tr>\n",
       "    <tr>\n",
       "      <th>299</th>\n",
       "      <td>48</td>\n",
       "      <td>1</td>\n",
       "      <td>28.880</td>\n",
       "      <td>1</td>\n",
       "      <td>1</td>\n",
       "      <td>3</td>\n",
       "    </tr>\n",
       "    <tr>\n",
       "      <th>493</th>\n",
       "      <td>61</td>\n",
       "      <td>0</td>\n",
       "      <td>43.400</td>\n",
       "      <td>0</td>\n",
       "      <td>1</td>\n",
       "      <td>1</td>\n",
       "    </tr>\n",
       "    <tr>\n",
       "      <th>527</th>\n",
       "      <td>51</td>\n",
       "      <td>1</td>\n",
       "      <td>25.800</td>\n",
       "      <td>1</td>\n",
       "      <td>1</td>\n",
       "      <td>1</td>\n",
       "    </tr>\n",
       "    <tr>\n",
       "      <th>1192</th>\n",
       "      <td>58</td>\n",
       "      <td>1</td>\n",
       "      <td>32.395</td>\n",
       "      <td>1</td>\n",
       "      <td>1</td>\n",
       "      <td>2</td>\n",
       "    </tr>\n",
       "  </tbody>\n",
       "</table>\n",
       "<p>1070 rows × 6 columns</p>\n",
       "</div>"
      ],
      "text/plain": [
       "      age  sex     bmi  children  smoker  region\n",
       "882    21    1  22.135         0       1       2\n",
       "505    37    0  30.875         3       1       3\n",
       "798    58    1  33.100         0       1       1\n",
       "792    22    1  23.180         0       1       2\n",
       "201    48    1  32.230         1       1       0\n",
       "...   ...  ...     ...       ...     ...     ...\n",
       "466    60    1  28.700         1       1       1\n",
       "299    48    1  28.880         1       1       3\n",
       "493    61    0  43.400         0       1       1\n",
       "527    51    1  25.800         1       1       1\n",
       "1192   58    1  32.395         1       1       2\n",
       "\n",
       "[1070 rows x 6 columns]"
      ]
     },
     "execution_count": 68,
     "metadata": {},
     "output_type": "execute_result"
    }
   ],
   "source": [
    "X_train"
   ]
  },
  {
   "cell_type": "code",
   "execution_count": 69,
   "id": "d3320efe",
   "metadata": {},
   "outputs": [
    {
     "data": {
      "text/html": [
       "<div>\n",
       "<style scoped>\n",
       "    .dataframe tbody tr th:only-of-type {\n",
       "        vertical-align: middle;\n",
       "    }\n",
       "\n",
       "    .dataframe tbody tr th {\n",
       "        vertical-align: top;\n",
       "    }\n",
       "\n",
       "    .dataframe thead th {\n",
       "        text-align: right;\n",
       "    }\n",
       "</style>\n",
       "<table border=\"1\" class=\"dataframe\">\n",
       "  <thead>\n",
       "    <tr style=\"text-align: right;\">\n",
       "      <th></th>\n",
       "      <th>age</th>\n",
       "      <th>sex</th>\n",
       "      <th>bmi</th>\n",
       "      <th>children</th>\n",
       "      <th>smoker</th>\n",
       "      <th>region</th>\n",
       "    </tr>\n",
       "  </thead>\n",
       "  <tbody>\n",
       "    <tr>\n",
       "      <th>17</th>\n",
       "      <td>23</td>\n",
       "      <td>0</td>\n",
       "      <td>23.845</td>\n",
       "      <td>0</td>\n",
       "      <td>1</td>\n",
       "      <td>2</td>\n",
       "    </tr>\n",
       "    <tr>\n",
       "      <th>1091</th>\n",
       "      <td>55</td>\n",
       "      <td>1</td>\n",
       "      <td>29.830</td>\n",
       "      <td>0</td>\n",
       "      <td>1</td>\n",
       "      <td>2</td>\n",
       "    </tr>\n",
       "    <tr>\n",
       "      <th>273</th>\n",
       "      <td>50</td>\n",
       "      <td>0</td>\n",
       "      <td>27.455</td>\n",
       "      <td>1</td>\n",
       "      <td>1</td>\n",
       "      <td>2</td>\n",
       "    </tr>\n",
       "    <tr>\n",
       "      <th>270</th>\n",
       "      <td>18</td>\n",
       "      <td>0</td>\n",
       "      <td>29.370</td>\n",
       "      <td>1</td>\n",
       "      <td>1</td>\n",
       "      <td>0</td>\n",
       "    </tr>\n",
       "    <tr>\n",
       "      <th>874</th>\n",
       "      <td>44</td>\n",
       "      <td>0</td>\n",
       "      <td>21.850</td>\n",
       "      <td>3</td>\n",
       "      <td>1</td>\n",
       "      <td>2</td>\n",
       "    </tr>\n",
       "    <tr>\n",
       "      <th>...</th>\n",
       "      <td>...</td>\n",
       "      <td>...</td>\n",
       "      <td>...</td>\n",
       "      <td>...</td>\n",
       "      <td>...</td>\n",
       "      <td>...</td>\n",
       "    </tr>\n",
       "    <tr>\n",
       "      <th>232</th>\n",
       "      <td>19</td>\n",
       "      <td>1</td>\n",
       "      <td>17.800</td>\n",
       "      <td>0</td>\n",
       "      <td>1</td>\n",
       "      <td>1</td>\n",
       "    </tr>\n",
       "    <tr>\n",
       "      <th>323</th>\n",
       "      <td>57</td>\n",
       "      <td>0</td>\n",
       "      <td>40.945</td>\n",
       "      <td>0</td>\n",
       "      <td>1</td>\n",
       "      <td>2</td>\n",
       "    </tr>\n",
       "    <tr>\n",
       "      <th>1337</th>\n",
       "      <td>61</td>\n",
       "      <td>1</td>\n",
       "      <td>29.070</td>\n",
       "      <td>0</td>\n",
       "      <td>0</td>\n",
       "      <td>3</td>\n",
       "    </tr>\n",
       "    <tr>\n",
       "      <th>1066</th>\n",
       "      <td>48</td>\n",
       "      <td>0</td>\n",
       "      <td>37.290</td>\n",
       "      <td>2</td>\n",
       "      <td>1</td>\n",
       "      <td>0</td>\n",
       "    </tr>\n",
       "    <tr>\n",
       "      <th>966</th>\n",
       "      <td>51</td>\n",
       "      <td>0</td>\n",
       "      <td>24.795</td>\n",
       "      <td>2</td>\n",
       "      <td>0</td>\n",
       "      <td>3</td>\n",
       "    </tr>\n",
       "  </tbody>\n",
       "</table>\n",
       "<p>268 rows × 6 columns</p>\n",
       "</div>"
      ],
      "text/plain": [
       "      age  sex     bmi  children  smoker  region\n",
       "17     23    0  23.845         0       1       2\n",
       "1091   55    1  29.830         0       1       2\n",
       "273    50    0  27.455         1       1       2\n",
       "270    18    0  29.370         1       1       0\n",
       "874    44    0  21.850         3       1       2\n",
       "...   ...  ...     ...       ...     ...     ...\n",
       "232    19    1  17.800         0       1       1\n",
       "323    57    0  40.945         0       1       2\n",
       "1337   61    1  29.070         0       0       3\n",
       "1066   48    0  37.290         2       1       0\n",
       "966    51    0  24.795         2       0       3\n",
       "\n",
       "[268 rows x 6 columns]"
      ]
     },
     "execution_count": 69,
     "metadata": {},
     "output_type": "execute_result"
    }
   ],
   "source": [
    "X_test"
   ]
  },
  {
   "cell_type": "code",
   "execution_count": 70,
   "id": "5c2d7930",
   "metadata": {},
   "outputs": [
    {
     "data": {
      "text/plain": [
       "882      2585.85065\n",
       "505      6796.86325\n",
       "798     11848.14100\n",
       "792      2731.91220\n",
       "201      8871.15170\n",
       "           ...     \n",
       "466     13224.69300\n",
       "299      9249.49520\n",
       "493     12574.04900\n",
       "527      9861.02500\n",
       "1192    13019.16105\n",
       "Name: charges, Length: 1070, dtype: float64"
      ]
     },
     "execution_count": 70,
     "metadata": {},
     "output_type": "execute_result"
    }
   ],
   "source": [
    "Y_train"
   ]
  },
  {
   "cell_type": "code",
   "execution_count": 71,
   "id": "5d262ea0",
   "metadata": {},
   "outputs": [
    {
     "data": {
      "text/plain": [
       "17       2395.17155\n",
       "1091    11286.53870\n",
       "273      9617.66245\n",
       "270      1719.43630\n",
       "874      8891.13950\n",
       "           ...     \n",
       "232      1727.78500\n",
       "323     11566.30055\n",
       "1337    36900.36030\n",
       "1066     8978.18510\n",
       "966     23967.38305\n",
       "Name: charges, Length: 268, dtype: float64"
      ]
     },
     "execution_count": 71,
     "metadata": {},
     "output_type": "execute_result"
    }
   ],
   "source": [
    "Y_test"
   ]
  },
  {
   "cell_type": "markdown",
   "id": "73f85a78",
   "metadata": {},
   "source": [
    "# MODEL TRAINING"
   ]
  },
  {
   "cell_type": "code",
   "execution_count": 72,
   "id": "fd0c5735",
   "metadata": {},
   "outputs": [],
   "source": [
    "#LINEAR REGRESSION MODEL\n",
    "regressor=LinearRegression()"
   ]
  },
  {
   "cell_type": "code",
   "execution_count": 73,
   "id": "c8985956",
   "metadata": {},
   "outputs": [
    {
     "data": {
      "text/plain": [
       "LinearRegression()"
      ]
     },
     "execution_count": 73,
     "metadata": {},
     "output_type": "execute_result"
    }
   ],
   "source": [
    "regressor.fit(X_train,Y_train)"
   ]
  },
  {
   "cell_type": "markdown",
   "id": "723b054b",
   "metadata": {},
   "source": [
    "# MODEL EVALUATION"
   ]
  },
  {
   "cell_type": "code",
   "execution_count": 74,
   "id": "6c04a3ee",
   "metadata": {},
   "outputs": [],
   "source": [
    "#prediction on training data\n",
    "training_data_prediction=regressor.predict(X_train)"
   ]
  },
  {
   "cell_type": "code",
   "execution_count": 75,
   "id": "6ea580fb",
   "metadata": {},
   "outputs": [
    {
     "name": "stdout",
     "output_type": "stream",
     "text": [
      "R squared value: 0.7537525683396303\n"
     ]
    }
   ],
   "source": [
    "#R squared value\n",
    "r2_train=metrics.r2_score(Y_train,training_data_prediction)\n",
    "print(\"R squared value:\",r2_train)"
   ]
  },
  {
   "cell_type": "code",
   "execution_count": 76,
   "id": "ee7f87dd",
   "metadata": {},
   "outputs": [
    {
     "data": {
      "text/plain": [
       "array([  306.2283386 ,  9306.71658004, 13162.81141009, ...,\n",
       "       17379.00271813,  9548.7500756 , 13730.2443782 ])"
      ]
     },
     "execution_count": 76,
     "metadata": {},
     "output_type": "execute_result"
    }
   ],
   "source": [
    "training_data_prediction"
   ]
  },
  {
   "cell_type": "code",
   "execution_count": 77,
   "id": "fe1e62f9",
   "metadata": {},
   "outputs": [],
   "source": [
    "#prediction on test data\n",
    "test_data_prediction=regressor.predict(X_test)"
   ]
  },
  {
   "cell_type": "code",
   "execution_count": 78,
   "id": "4ff1254c",
   "metadata": {},
   "outputs": [
    {
     "data": {
      "text/plain": [
       "array([ 1405.01362234, 11514.07548469, 10070.41662993,  2166.50795173,\n",
       "        7874.12783765, 11028.95665938,  3443.2619621 ,   525.23508163,\n",
       "       12168.2825605 ,  9544.4479592 , 11593.89272142,  4785.98422518,\n",
       "       29909.4684892 ,  -485.32434964, 12359.80826604, 13297.49626554,\n",
       "        3722.75618929,  7795.79584938, 29431.26040526,  2203.49093913,\n",
       "       12447.97002227,  2122.59476734, 34528.08881128, 31685.10734551,\n",
       "       30303.95419793,  9008.30612496,  1766.36068339, 15321.2083728 ,\n",
       "        6447.69472787,  1939.40707405,  9418.14775046,  5673.73934012,\n",
       "        4329.94696557,  4937.70920273,  9632.73060897,  4480.71026279,\n",
       "       29792.79913391,  6744.96179355, 27166.298361  , 14048.1567031 ,\n",
       "         128.30778484, 28362.4053685 ,  7781.70291386,  1324.01024505,\n",
       "       10229.3815021 ,  7938.21360062, 11628.87529861,  8152.61425491,\n",
       "       10765.3316331 , 13820.53403311,  5725.27130923,  -863.91915941,\n",
       "       26205.36134176, 37214.60360272,  7285.80522788, 17876.30350679,\n",
       "        1307.06364043, 11065.91700992,  2011.52844388, 34095.27326927,\n",
       "       11647.33079827,   776.39304714,  3869.21810976, 35972.2412174 ,\n",
       "       -1163.9053107 , 13975.34780767, 14870.68530447,  3265.86622098,\n",
       "       12915.85145378, 11133.40303065, 11533.57014323, 16192.63579908,\n",
       "       10176.204243  ,  9842.54204375, 15180.39205294, 12348.62082097,\n",
       "        4257.20816877,  3570.31822811,  5285.69200752, 13241.36660439,\n",
       "        9152.704243  , 11939.5469469 ,  9487.54859103, 27660.94015882,\n",
       "       12672.03733327,  3841.96905653, 38617.44187242, 11172.74817197,\n",
       "        8047.77188687, 11085.51660298, 10904.09207287, 15175.08760739,\n",
       "       11074.534703  , 13026.14858214,  5180.99576332, 25874.40080867,\n",
       "        4814.75810388, 10493.59748052,  2564.17341713, 28974.72222407,\n",
       "        6250.54688591,  3396.26300103,  2539.84142521, 15995.70927369,\n",
       "        7855.32420133, 10300.212778  ,  9945.71550574,  4959.72061157,\n",
       "       14843.33814645, 33745.20445914,  3661.32419975, 11479.75552525,\n",
       "       24532.7869758 , 14798.51682389,  1570.18684196, 10329.93421806,\n",
       "        9139.93623729,  6204.71284363, 11796.20783199, 28835.41217528,\n",
       "        6532.92102221,  7094.24727992, 15853.73796308, 16235.32848332,\n",
       "        8178.67716758, 26200.35650897, 35346.90933487, 11826.38304726,\n",
       "        7995.50261212,  9292.73493247,  8384.71282024,  2829.06461065,\n",
       "        3182.1579224 ,  4611.82940431,  8241.36296181,  7914.3143613 ,\n",
       "        7006.49583858, 28917.30561263, 35166.40848476,  4081.86544122,\n",
       "       27824.68050346,  4017.03770733,  6500.96303431, 13358.66073092,\n",
       "        7997.74195256, 36467.59894527, 11783.18061785, 11323.12512333,\n",
       "        8193.35057701,   422.19279419,  6410.34626534,  7171.65728818,\n",
       "        4517.37523683, 11666.41687241, 11610.76165803, 15479.94968791,\n",
       "        5781.87773541, 27609.61122902,  1813.62948494, 11419.96310044,\n",
       "       16968.43979326, 13994.13077243,  9510.52168021,  2113.7947065 ,\n",
       "        4275.65872815,  8882.28168326, 19399.21571348, 28219.19919426,\n",
       "       12682.37379043,  2880.50341525, 32240.06611742, 13070.84936221,\n",
       "       32722.1100329 , 34350.37627275, 11099.77813055,  7502.66163454,\n",
       "        2571.02371076,  2203.49093913, 11672.36750043,  7821.7520614 ,\n",
       "        2809.47008118,  1035.33537878, 31671.47987935,  7086.1315349 ,\n",
       "        5491.06641995, 27239.04975513,  6539.19296103,  2522.76694352,\n",
       "        7797.46997285, 35423.38441475,  7931.65361988,  4216.41002141,\n",
       "        9413.24785219, 26767.28505887,  5647.7556268 , 40289.11967106,\n",
       "       37547.11245403, 12967.62977063, 26787.07352694, 11911.81010992,\n",
       "       37467.85992941,  7352.2138449 ,  4109.50994103,  1803.51850479,\n",
       "       14068.54298867, 14020.85014857,  2068.21646372, 35750.01273668,\n",
       "       12836.92737541,  8687.21395571,  1034.61458428, 30627.0960053 ,\n",
       "        3359.33645989,  3377.97185715, 12548.2650188 , 15050.69943294,\n",
       "       29671.05868516,  -198.66181547,  3050.77627497,  8424.01921188,\n",
       "       39778.28242124,  7983.21638775, 35081.62878486, 27454.81306243,\n",
       "       13686.44593305, 28822.06458912, 16503.13850429,  7557.44271932,\n",
       "       16132.66936758,  7115.68829672, 10176.28014488,  3654.39780507,\n",
       "        8731.52188266,  1797.94998636, 32835.52787823, 31980.79385054,\n",
       "       14874.5829969 , 11371.78792685,   893.95419298,  6186.16978356,\n",
       "       11141.50296854,  4109.7515762 , 10955.73972003,   948.84671953,\n",
       "       34917.62436734, 32457.51491989, 10472.94221743, 26250.91208324,\n",
       "       12832.15308323,  1648.31661824, 11213.08132431,  2266.82134884,\n",
       "        7430.59632235, 10692.50260658, 17122.52120246,  5643.35281216,\n",
       "       10490.93374855,  -657.64084508, -2494.22272687,  1802.62440762,\n",
       "       27737.91290302, 33951.59017812, 37359.8494112 , -1850.94306036,\n",
       "       15747.71604942, 36945.29625757, 13031.12591363, 34195.90271445])"
      ]
     },
     "execution_count": 78,
     "metadata": {},
     "output_type": "execute_result"
    }
   ],
   "source": [
    "test_data_prediction"
   ]
  },
  {
   "cell_type": "code",
   "execution_count": 79,
   "id": "b38386ed",
   "metadata": {},
   "outputs": [
    {
     "name": "stdout",
     "output_type": "stream",
     "text": [
      "R squared value: 0.7481525625631971\n"
     ]
    }
   ],
   "source": [
    "#R squared value\n",
    "r2_test=metrics.r2_score(Y_test,test_data_prediction)\n",
    "print(\"R squared value:\",r2_test)"
   ]
  },
  {
   "cell_type": "code",
   "execution_count": 80,
   "id": "3af0378d",
   "metadata": {},
   "outputs": [],
   "source": [
    "#BUILDING THE PRESICTIVE SYSTEM(PREDICTION)"
   ]
  },
  {
   "cell_type": "code",
   "execution_count": 81,
   "id": "ed6bb21e",
   "metadata": {},
   "outputs": [
    {
     "name": "stdout",
     "output_type": "stream",
     "text": [
      "[11666.70668045]\n",
      "the health insurance cost is: 11666.706680453555\n"
     ]
    }
   ],
   "source": [
    "input_data=(52,1,30.78,1,1,2)\n",
    "#cahnging the input_data to numpy array\n",
    "input_data_as_numpy_array=np.asarray(input_data)\n",
    "#reshape the array\n",
    "input_data_reshaped=input_data_as_numpy_array.reshape(1,-1)\n",
    "prediction=regressor.predict(input_data_reshaped)\n",
    "print(prediction)\n",
    "\n",
    "print(\"the health insurance cost is:\",prediction[0])"
   ]
  },
  {
   "cell_type": "code",
   "execution_count": 82,
   "id": "8d0f323e",
   "metadata": {},
   "outputs": [
    {
     "name": "stdout",
     "output_type": "stream",
     "text": [
      "[1405.01362234]\n",
      "the helath insurance cost is: 1405.0136223434401\n"
     ]
    }
   ],
   "source": [
    "import numpy as np\n",
    "input_data=(23,0,23.845,0,1,2)\n",
    "#changinf the input_data to numpy array\n",
    "input_data_as_numpy_array=np.asarray(input_data)\n",
    "#reshape the array\n",
    "input_data_reshaped=input_data_as_numpy_array.reshape(1,-1)\n",
    "prediction=regressor.predict(input_data_reshaped)\n",
    "print(prediction)\n",
    "print(\"the helath insurance cost is:\",prediction[0])"
   ]
  },
  {
   "cell_type": "code",
   "execution_count": 83,
   "id": "5e727c06",
   "metadata": {},
   "outputs": [
    {
     "name": "stdout",
     "output_type": "stream",
     "text": [
      "enter the age:23\n",
      "enter the sex:1\n",
      "enter the bmi:23.45\n",
      "enter the no of children:1\n",
      "enter the status of the smoker:1\n",
      "enter the region:0\n",
      "[1443.88820019]\n",
      "the health insurance cost is: 1443.8882001881684\n"
     ]
    }
   ],
   "source": [
    "#prediction from the user input\n",
    "#taking the input from the user\n",
    "age=input(\"enter the age:\")\n",
    "sex=input(\"enter the sex:\")\n",
    "bmi=input(\"enter the bmi:\")\n",
    "children=input(\"enter the no of children:\")\n",
    "smoker=input(\"enter the status of the smoker:\")\n",
    "region=input(\"enter the region:\")\n",
    "input_data=(age,sex,bmi,children,smoker,region)\n",
    "input_data_as_numpy_array=np.asarray(input_data)\n",
    "input_data_reshaped=input_data_as_numpy_array.reshape(1,-1)\n",
    "prediction=regressor.predict(input_data_reshaped)\n",
    "print(prediction)\n",
    "print(\"the health insurance cost is:\",prediction[0])"
   ]
  },
  {
   "cell_type": "code",
   "execution_count": 84,
   "id": "684af540",
   "metadata": {},
   "outputs": [
    {
     "name": "stdout",
     "output_type": "stream",
     "text": [
      "INVALID INPUT\n"
     ]
    }
   ],
   "source": [
    "input_data=(0,1,30.78,1,1,2)\n",
    "a=list(input_data)\n",
    "#print(a)\n",
    "if(a[0]==0):\n",
    "    print(\"INVALID INPUT\")\n",
    "else:\n",
    "    #cahnging the input_data to numpy array\n",
    "    input_data_as_numpy_array=np.asarray(input_data)\n",
    "    #reshape the array\n",
    "    input_data_reshaped=input_data_as_numpy_array.reshape(1,-1)\n",
    "    prediction=regressor.predict(input_data_reshaped)\n",
    "    print(prediction)\n",
    "    print(\"the health insurance cost is:\",prediction[0])"
   ]
  },
  {
   "cell_type": "code",
   "execution_count": 85,
   "id": "4528f522",
   "metadata": {},
   "outputs": [
    {
     "name": "stdout",
     "output_type": "stream",
     "text": [
      "enter the age:0\n",
      "enter the sex:0\n",
      "enter the bmi:0\n",
      "enter the no of children:0\n",
      "enter the status of the smoker:0\n",
      "enter the region:0\n",
      "['0', '0', '0', '0', '0', '0']\n",
      "INVALID INPUT\n",
      " the charges are:0\n"
     ]
    }
   ],
   "source": [
    "#prediction from the user input\n",
    "#taking the input from the user\n",
    "age=input(\"enter the age:\")\n",
    "sex=input(\"enter the sex:\")\n",
    "bmi=input(\"enter the bmi:\")\n",
    "children=input(\"enter the no of children:\")\n",
    "smoker=input(\"enter the status of the smoker:\")\n",
    "region=input(\"enter the region:\")\n",
    "input_data=(age,sex,bmi,children,smoker,region)\n",
    "a=list(input_data)\n",
    "print(a)\n",
    "if(a[0]==\"0\"or a[0]==\"1\"or a[0]==\"2\" or a[0]==\"3\" or a[0]==\"4\" or a[0]==\"5\" or a[0]==\"6\" or a[0]==\"7\" or a[0]==\"8\" or a[0]==\"9\" or a[0]==\"10\" or a[0]==\"11\" or a[0]==\"12\" or a[0]==\"13\" or a[0]==\"14\" or a[0]==\"15\" or a[0]==\"16\" or a[0]==\"17\" or a[0]==\"18\"):\n",
    "    print(\"INVALID INPUT\\n the charges are:0\")\n",
    "else:\n",
    "    #cahnging the input_data to numpy array\n",
    "    input_data_as_numpy_array=np.asarray(input_data)\n",
    "    #reshape the array\n",
    "    input_data_reshaped=input_data_as_numpy_array.reshape(1,-1)\n",
    "    prediction=regressor.predict(input_data_reshaped)\n",
    "    print(prediction)\n",
    "    print(\"the health insurance cost is:\",prediction[0])"
   ]
  },
  {
   "cell_type": "code",
   "execution_count": 89,
   "id": "ed850cce",
   "metadata": {},
   "outputs": [
    {
     "data": {
      "text/html": [
       "<div>\n",
       "<style scoped>\n",
       "    .dataframe tbody tr th:only-of-type {\n",
       "        vertical-align: middle;\n",
       "    }\n",
       "\n",
       "    .dataframe tbody tr th {\n",
       "        vertical-align: top;\n",
       "    }\n",
       "\n",
       "    .dataframe thead th {\n",
       "        text-align: right;\n",
       "    }\n",
       "</style>\n",
       "<table border=\"1\" class=\"dataframe\">\n",
       "  <thead>\n",
       "    <tr style=\"text-align: right;\">\n",
       "      <th></th>\n",
       "      <th>age</th>\n",
       "      <th>sex</th>\n",
       "      <th>children</th>\n",
       "    </tr>\n",
       "  </thead>\n",
       "  <tbody>\n",
       "    <tr>\n",
       "      <th>0</th>\n",
       "      <td>19</td>\n",
       "      <td>1</td>\n",
       "      <td>0</td>\n",
       "    </tr>\n",
       "    <tr>\n",
       "      <th>1</th>\n",
       "      <td>18</td>\n",
       "      <td>0</td>\n",
       "      <td>1</td>\n",
       "    </tr>\n",
       "    <tr>\n",
       "      <th>2</th>\n",
       "      <td>28</td>\n",
       "      <td>0</td>\n",
       "      <td>3</td>\n",
       "    </tr>\n",
       "    <tr>\n",
       "      <th>3</th>\n",
       "      <td>33</td>\n",
       "      <td>0</td>\n",
       "      <td>0</td>\n",
       "    </tr>\n",
       "    <tr>\n",
       "      <th>4</th>\n",
       "      <td>32</td>\n",
       "      <td>0</td>\n",
       "      <td>0</td>\n",
       "    </tr>\n",
       "    <tr>\n",
       "      <th>...</th>\n",
       "      <td>...</td>\n",
       "      <td>...</td>\n",
       "      <td>...</td>\n",
       "    </tr>\n",
       "    <tr>\n",
       "      <th>1333</th>\n",
       "      <td>50</td>\n",
       "      <td>0</td>\n",
       "      <td>3</td>\n",
       "    </tr>\n",
       "    <tr>\n",
       "      <th>1334</th>\n",
       "      <td>18</td>\n",
       "      <td>1</td>\n",
       "      <td>0</td>\n",
       "    </tr>\n",
       "    <tr>\n",
       "      <th>1335</th>\n",
       "      <td>18</td>\n",
       "      <td>1</td>\n",
       "      <td>0</td>\n",
       "    </tr>\n",
       "    <tr>\n",
       "      <th>1336</th>\n",
       "      <td>21</td>\n",
       "      <td>1</td>\n",
       "      <td>0</td>\n",
       "    </tr>\n",
       "    <tr>\n",
       "      <th>1337</th>\n",
       "      <td>61</td>\n",
       "      <td>1</td>\n",
       "      <td>0</td>\n",
       "    </tr>\n",
       "  </tbody>\n",
       "</table>\n",
       "<p>1338 rows × 3 columns</p>\n",
       "</div>"
      ],
      "text/plain": [
       "      age  sex  children\n",
       "0      19    1         0\n",
       "1      18    0         1\n",
       "2      28    0         3\n",
       "3      33    0         0\n",
       "4      32    0         0\n",
       "...   ...  ...       ...\n",
       "1333   50    0         3\n",
       "1334   18    1         0\n",
       "1335   18    1         0\n",
       "1336   21    1         0\n",
       "1337   61    1         0\n",
       "\n",
       "[1338 rows x 3 columns]"
      ]
     },
     "execution_count": 89,
     "metadata": {},
     "output_type": "execute_result"
    }
   ],
   "source": [
    "df[[\"age\",\"sex\",\"children\"]]"
   ]
  },
  {
   "cell_type": "code",
   "execution_count": null,
   "id": "449150c9",
   "metadata": {},
   "outputs": [],
   "source": []
  }
 ],
 "metadata": {
  "kernelspec": {
   "display_name": "Python 3 (ipykernel)",
   "language": "python",
   "name": "python3"
  },
  "language_info": {
   "codemirror_mode": {
    "name": "ipython",
    "version": 3
   },
   "file_extension": ".py",
   "mimetype": "text/x-python",
   "name": "python",
   "nbconvert_exporter": "python",
   "pygments_lexer": "ipython3",
   "version": "3.9.12"
  }
 },
 "nbformat": 4,
 "nbformat_minor": 5
}
