{
 "cells": [
  {
   "cell_type": "markdown",
   "id": "fd0bd42b",
   "metadata": {},
   "source": [
    "# TSLA STOCK MARKET ANALYSIS"
   ]
  },
  {
   "cell_type": "code",
   "execution_count": 229,
   "id": "8e3b2074",
   "metadata": {},
   "outputs": [],
   "source": [
    "import pandas as pd\n",
    "import numpy as np\n",
    "import matplotlib.pyplot as plt\n",
    "import seaborn as sns\n",
    "import warnings\n",
    "warnings.filterwarnings(\"ignore\")"
   ]
  },
  {
   "cell_type": "code",
   "execution_count": 222,
   "id": "ba5f06ed",
   "metadata": {},
   "outputs": [
    {
     "data": {
      "text/html": [
       "<div>\n",
       "<style scoped>\n",
       "    .dataframe tbody tr th:only-of-type {\n",
       "        vertical-align: middle;\n",
       "    }\n",
       "\n",
       "    .dataframe tbody tr th {\n",
       "        vertical-align: top;\n",
       "    }\n",
       "\n",
       "    .dataframe thead th {\n",
       "        text-align: right;\n",
       "    }\n",
       "</style>\n",
       "<table border=\"1\" class=\"dataframe\">\n",
       "  <thead>\n",
       "    <tr style=\"text-align: right;\">\n",
       "      <th></th>\n",
       "      <th>Date</th>\n",
       "      <th>Open</th>\n",
       "      <th>High</th>\n",
       "      <th>Low</th>\n",
       "      <th>Close</th>\n",
       "      <th>Adj Close</th>\n",
       "      <th>Volume</th>\n",
       "    </tr>\n",
       "  </thead>\n",
       "  <tbody>\n",
       "    <tr>\n",
       "      <th>0</th>\n",
       "      <td>2010-06-29</td>\n",
       "      <td>19.000000</td>\n",
       "      <td>25.000000</td>\n",
       "      <td>17.540001</td>\n",
       "      <td>23.889999</td>\n",
       "      <td>23.889999</td>\n",
       "      <td>18766300</td>\n",
       "    </tr>\n",
       "    <tr>\n",
       "      <th>1</th>\n",
       "      <td>2010-06-30</td>\n",
       "      <td>25.790001</td>\n",
       "      <td>30.420000</td>\n",
       "      <td>23.299999</td>\n",
       "      <td>23.830000</td>\n",
       "      <td>23.830000</td>\n",
       "      <td>17187100</td>\n",
       "    </tr>\n",
       "    <tr>\n",
       "      <th>2</th>\n",
       "      <td>2010-07-01</td>\n",
       "      <td>25.000000</td>\n",
       "      <td>25.920000</td>\n",
       "      <td>20.270000</td>\n",
       "      <td>21.959999</td>\n",
       "      <td>21.959999</td>\n",
       "      <td>8218800</td>\n",
       "    </tr>\n",
       "    <tr>\n",
       "      <th>3</th>\n",
       "      <td>2010-07-02</td>\n",
       "      <td>23.000000</td>\n",
       "      <td>23.100000</td>\n",
       "      <td>18.709999</td>\n",
       "      <td>19.200001</td>\n",
       "      <td>19.200001</td>\n",
       "      <td>5139800</td>\n",
       "    </tr>\n",
       "    <tr>\n",
       "      <th>4</th>\n",
       "      <td>2010-07-06</td>\n",
       "      <td>20.000000</td>\n",
       "      <td>20.000000</td>\n",
       "      <td>15.830000</td>\n",
       "      <td>16.110001</td>\n",
       "      <td>16.110001</td>\n",
       "      <td>6866900</td>\n",
       "    </tr>\n",
       "    <tr>\n",
       "      <th>...</th>\n",
       "      <td>...</td>\n",
       "      <td>...</td>\n",
       "      <td>...</td>\n",
       "      <td>...</td>\n",
       "      <td>...</td>\n",
       "      <td>...</td>\n",
       "      <td>...</td>\n",
       "    </tr>\n",
       "    <tr>\n",
       "      <th>2411</th>\n",
       "      <td>2020-01-28</td>\n",
       "      <td>568.489990</td>\n",
       "      <td>576.809998</td>\n",
       "      <td>558.080017</td>\n",
       "      <td>566.900024</td>\n",
       "      <td>566.900024</td>\n",
       "      <td>11788500</td>\n",
       "    </tr>\n",
       "    <tr>\n",
       "      <th>2412</th>\n",
       "      <td>2020-01-29</td>\n",
       "      <td>575.690002</td>\n",
       "      <td>589.799988</td>\n",
       "      <td>567.429993</td>\n",
       "      <td>580.989990</td>\n",
       "      <td>580.989990</td>\n",
       "      <td>17801500</td>\n",
       "    </tr>\n",
       "    <tr>\n",
       "      <th>2413</th>\n",
       "      <td>2020-01-30</td>\n",
       "      <td>632.419983</td>\n",
       "      <td>650.880005</td>\n",
       "      <td>618.000000</td>\n",
       "      <td>640.809998</td>\n",
       "      <td>640.809998</td>\n",
       "      <td>29005700</td>\n",
       "    </tr>\n",
       "    <tr>\n",
       "      <th>2414</th>\n",
       "      <td>2020-01-31</td>\n",
       "      <td>640.000000</td>\n",
       "      <td>653.000000</td>\n",
       "      <td>632.520020</td>\n",
       "      <td>650.570007</td>\n",
       "      <td>650.570007</td>\n",
       "      <td>15719300</td>\n",
       "    </tr>\n",
       "    <tr>\n",
       "      <th>2415</th>\n",
       "      <td>2020-02-03</td>\n",
       "      <td>673.690002</td>\n",
       "      <td>786.140015</td>\n",
       "      <td>673.520020</td>\n",
       "      <td>780.000000</td>\n",
       "      <td>780.000000</td>\n",
       "      <td>47065000</td>\n",
       "    </tr>\n",
       "  </tbody>\n",
       "</table>\n",
       "<p>2416 rows × 7 columns</p>\n",
       "</div>"
      ],
      "text/plain": [
       "            Date        Open        High         Low       Close   Adj Close  \\\n",
       "0     2010-06-29   19.000000   25.000000   17.540001   23.889999   23.889999   \n",
       "1     2010-06-30   25.790001   30.420000   23.299999   23.830000   23.830000   \n",
       "2     2010-07-01   25.000000   25.920000   20.270000   21.959999   21.959999   \n",
       "3     2010-07-02   23.000000   23.100000   18.709999   19.200001   19.200001   \n",
       "4     2010-07-06   20.000000   20.000000   15.830000   16.110001   16.110001   \n",
       "...          ...         ...         ...         ...         ...         ...   \n",
       "2411  2020-01-28  568.489990  576.809998  558.080017  566.900024  566.900024   \n",
       "2412  2020-01-29  575.690002  589.799988  567.429993  580.989990  580.989990   \n",
       "2413  2020-01-30  632.419983  650.880005  618.000000  640.809998  640.809998   \n",
       "2414  2020-01-31  640.000000  653.000000  632.520020  650.570007  650.570007   \n",
       "2415  2020-02-03  673.690002  786.140015  673.520020  780.000000  780.000000   \n",
       "\n",
       "        Volume  \n",
       "0     18766300  \n",
       "1     17187100  \n",
       "2      8218800  \n",
       "3      5139800  \n",
       "4      6866900  \n",
       "...        ...  \n",
       "2411  11788500  \n",
       "2412  17801500  \n",
       "2413  29005700  \n",
       "2414  15719300  \n",
       "2415  47065000  \n",
       "\n",
       "[2416 rows x 7 columns]"
      ]
     },
     "execution_count": 222,
     "metadata": {},
     "output_type": "execute_result"
    }
   ],
   "source": [
    "df=pd.read_csv(\"TSLA.csv\")\n",
    "df"
   ]
  },
  {
   "cell_type": "code",
   "execution_count": 223,
   "id": "fa251135",
   "metadata": {},
   "outputs": [
    {
     "data": {
      "text/html": [
       "<div>\n",
       "<style scoped>\n",
       "    .dataframe tbody tr th:only-of-type {\n",
       "        vertical-align: middle;\n",
       "    }\n",
       "\n",
       "    .dataframe tbody tr th {\n",
       "        vertical-align: top;\n",
       "    }\n",
       "\n",
       "    .dataframe thead th {\n",
       "        text-align: right;\n",
       "    }\n",
       "</style>\n",
       "<table border=\"1\" class=\"dataframe\">\n",
       "  <thead>\n",
       "    <tr style=\"text-align: right;\">\n",
       "      <th></th>\n",
       "      <th>Date</th>\n",
       "      <th>Open</th>\n",
       "      <th>High</th>\n",
       "      <th>Low</th>\n",
       "      <th>Close</th>\n",
       "      <th>Adj Close</th>\n",
       "      <th>Volume</th>\n",
       "    </tr>\n",
       "  </thead>\n",
       "  <tbody>\n",
       "    <tr>\n",
       "      <th>0</th>\n",
       "      <td>False</td>\n",
       "      <td>False</td>\n",
       "      <td>False</td>\n",
       "      <td>False</td>\n",
       "      <td>False</td>\n",
       "      <td>False</td>\n",
       "      <td>False</td>\n",
       "    </tr>\n",
       "    <tr>\n",
       "      <th>1</th>\n",
       "      <td>False</td>\n",
       "      <td>False</td>\n",
       "      <td>False</td>\n",
       "      <td>False</td>\n",
       "      <td>False</td>\n",
       "      <td>False</td>\n",
       "      <td>False</td>\n",
       "    </tr>\n",
       "    <tr>\n",
       "      <th>2</th>\n",
       "      <td>False</td>\n",
       "      <td>False</td>\n",
       "      <td>False</td>\n",
       "      <td>False</td>\n",
       "      <td>False</td>\n",
       "      <td>False</td>\n",
       "      <td>False</td>\n",
       "    </tr>\n",
       "    <tr>\n",
       "      <th>3</th>\n",
       "      <td>False</td>\n",
       "      <td>False</td>\n",
       "      <td>False</td>\n",
       "      <td>False</td>\n",
       "      <td>False</td>\n",
       "      <td>False</td>\n",
       "      <td>False</td>\n",
       "    </tr>\n",
       "    <tr>\n",
       "      <th>4</th>\n",
       "      <td>False</td>\n",
       "      <td>False</td>\n",
       "      <td>False</td>\n",
       "      <td>False</td>\n",
       "      <td>False</td>\n",
       "      <td>False</td>\n",
       "      <td>False</td>\n",
       "    </tr>\n",
       "    <tr>\n",
       "      <th>...</th>\n",
       "      <td>...</td>\n",
       "      <td>...</td>\n",
       "      <td>...</td>\n",
       "      <td>...</td>\n",
       "      <td>...</td>\n",
       "      <td>...</td>\n",
       "      <td>...</td>\n",
       "    </tr>\n",
       "    <tr>\n",
       "      <th>2411</th>\n",
       "      <td>False</td>\n",
       "      <td>False</td>\n",
       "      <td>False</td>\n",
       "      <td>False</td>\n",
       "      <td>False</td>\n",
       "      <td>False</td>\n",
       "      <td>False</td>\n",
       "    </tr>\n",
       "    <tr>\n",
       "      <th>2412</th>\n",
       "      <td>False</td>\n",
       "      <td>False</td>\n",
       "      <td>False</td>\n",
       "      <td>False</td>\n",
       "      <td>False</td>\n",
       "      <td>False</td>\n",
       "      <td>False</td>\n",
       "    </tr>\n",
       "    <tr>\n",
       "      <th>2413</th>\n",
       "      <td>False</td>\n",
       "      <td>False</td>\n",
       "      <td>False</td>\n",
       "      <td>False</td>\n",
       "      <td>False</td>\n",
       "      <td>False</td>\n",
       "      <td>False</td>\n",
       "    </tr>\n",
       "    <tr>\n",
       "      <th>2414</th>\n",
       "      <td>False</td>\n",
       "      <td>False</td>\n",
       "      <td>False</td>\n",
       "      <td>False</td>\n",
       "      <td>False</td>\n",
       "      <td>False</td>\n",
       "      <td>False</td>\n",
       "    </tr>\n",
       "    <tr>\n",
       "      <th>2415</th>\n",
       "      <td>False</td>\n",
       "      <td>False</td>\n",
       "      <td>False</td>\n",
       "      <td>False</td>\n",
       "      <td>False</td>\n",
       "      <td>False</td>\n",
       "      <td>False</td>\n",
       "    </tr>\n",
       "  </tbody>\n",
       "</table>\n",
       "<p>2416 rows × 7 columns</p>\n",
       "</div>"
      ],
      "text/plain": [
       "       Date   Open   High    Low  Close  Adj Close  Volume\n",
       "0     False  False  False  False  False      False   False\n",
       "1     False  False  False  False  False      False   False\n",
       "2     False  False  False  False  False      False   False\n",
       "3     False  False  False  False  False      False   False\n",
       "4     False  False  False  False  False      False   False\n",
       "...     ...    ...    ...    ...    ...        ...     ...\n",
       "2411  False  False  False  False  False      False   False\n",
       "2412  False  False  False  False  False      False   False\n",
       "2413  False  False  False  False  False      False   False\n",
       "2414  False  False  False  False  False      False   False\n",
       "2415  False  False  False  False  False      False   False\n",
       "\n",
       "[2416 rows x 7 columns]"
      ]
     },
     "execution_count": 223,
     "metadata": {},
     "output_type": "execute_result"
    }
   ],
   "source": [
    "df.isnull()"
   ]
  },
  {
   "cell_type": "code",
   "execution_count": 224,
   "id": "117e5f58",
   "metadata": {},
   "outputs": [
    {
     "data": {
      "text/plain": [
       "Date         0\n",
       "Open         0\n",
       "High         0\n",
       "Low          0\n",
       "Close        0\n",
       "Adj Close    0\n",
       "Volume       0\n",
       "dtype: int64"
      ]
     },
     "execution_count": 224,
     "metadata": {},
     "output_type": "execute_result"
    }
   ],
   "source": [
    "df.isnull().sum()"
   ]
  },
  {
   "cell_type": "code",
   "execution_count": 142,
   "id": "3106224f",
   "metadata": {},
   "outputs": [],
   "source": [
    "a=df.drop(\"Date\",axis=1)"
   ]
  },
  {
   "cell_type": "code",
   "execution_count": 143,
   "id": "6ea51ae1",
   "metadata": {},
   "outputs": [
    {
     "data": {
      "text/html": [
       "<div>\n",
       "<style scoped>\n",
       "    .dataframe tbody tr th:only-of-type {\n",
       "        vertical-align: middle;\n",
       "    }\n",
       "\n",
       "    .dataframe tbody tr th {\n",
       "        vertical-align: top;\n",
       "    }\n",
       "\n",
       "    .dataframe thead th {\n",
       "        text-align: right;\n",
       "    }\n",
       "</style>\n",
       "<table border=\"1\" class=\"dataframe\">\n",
       "  <thead>\n",
       "    <tr style=\"text-align: right;\">\n",
       "      <th></th>\n",
       "      <th>Open</th>\n",
       "      <th>High</th>\n",
       "      <th>Low</th>\n",
       "      <th>Close</th>\n",
       "      <th>Adj Close</th>\n",
       "      <th>Volume</th>\n",
       "    </tr>\n",
       "  </thead>\n",
       "  <tbody>\n",
       "    <tr>\n",
       "      <th>0</th>\n",
       "      <td>19.000000</td>\n",
       "      <td>25.000000</td>\n",
       "      <td>17.540001</td>\n",
       "      <td>23.889999</td>\n",
       "      <td>23.889999</td>\n",
       "      <td>18766300</td>\n",
       "    </tr>\n",
       "    <tr>\n",
       "      <th>1</th>\n",
       "      <td>25.790001</td>\n",
       "      <td>30.420000</td>\n",
       "      <td>23.299999</td>\n",
       "      <td>23.830000</td>\n",
       "      <td>23.830000</td>\n",
       "      <td>17187100</td>\n",
       "    </tr>\n",
       "    <tr>\n",
       "      <th>2</th>\n",
       "      <td>25.000000</td>\n",
       "      <td>25.920000</td>\n",
       "      <td>20.270000</td>\n",
       "      <td>21.959999</td>\n",
       "      <td>21.959999</td>\n",
       "      <td>8218800</td>\n",
       "    </tr>\n",
       "    <tr>\n",
       "      <th>3</th>\n",
       "      <td>23.000000</td>\n",
       "      <td>23.100000</td>\n",
       "      <td>18.709999</td>\n",
       "      <td>19.200001</td>\n",
       "      <td>19.200001</td>\n",
       "      <td>5139800</td>\n",
       "    </tr>\n",
       "    <tr>\n",
       "      <th>4</th>\n",
       "      <td>20.000000</td>\n",
       "      <td>20.000000</td>\n",
       "      <td>15.830000</td>\n",
       "      <td>16.110001</td>\n",
       "      <td>16.110001</td>\n",
       "      <td>6866900</td>\n",
       "    </tr>\n",
       "    <tr>\n",
       "      <th>...</th>\n",
       "      <td>...</td>\n",
       "      <td>...</td>\n",
       "      <td>...</td>\n",
       "      <td>...</td>\n",
       "      <td>...</td>\n",
       "      <td>...</td>\n",
       "    </tr>\n",
       "    <tr>\n",
       "      <th>2411</th>\n",
       "      <td>568.489990</td>\n",
       "      <td>576.809998</td>\n",
       "      <td>558.080017</td>\n",
       "      <td>566.900024</td>\n",
       "      <td>566.900024</td>\n",
       "      <td>11788500</td>\n",
       "    </tr>\n",
       "    <tr>\n",
       "      <th>2412</th>\n",
       "      <td>575.690002</td>\n",
       "      <td>589.799988</td>\n",
       "      <td>567.429993</td>\n",
       "      <td>580.989990</td>\n",
       "      <td>580.989990</td>\n",
       "      <td>17801500</td>\n",
       "    </tr>\n",
       "    <tr>\n",
       "      <th>2413</th>\n",
       "      <td>632.419983</td>\n",
       "      <td>650.880005</td>\n",
       "      <td>618.000000</td>\n",
       "      <td>640.809998</td>\n",
       "      <td>640.809998</td>\n",
       "      <td>29005700</td>\n",
       "    </tr>\n",
       "    <tr>\n",
       "      <th>2414</th>\n",
       "      <td>640.000000</td>\n",
       "      <td>653.000000</td>\n",
       "      <td>632.520020</td>\n",
       "      <td>650.570007</td>\n",
       "      <td>650.570007</td>\n",
       "      <td>15719300</td>\n",
       "    </tr>\n",
       "    <tr>\n",
       "      <th>2415</th>\n",
       "      <td>673.690002</td>\n",
       "      <td>786.140015</td>\n",
       "      <td>673.520020</td>\n",
       "      <td>780.000000</td>\n",
       "      <td>780.000000</td>\n",
       "      <td>47065000</td>\n",
       "    </tr>\n",
       "  </tbody>\n",
       "</table>\n",
       "<p>2416 rows × 6 columns</p>\n",
       "</div>"
      ],
      "text/plain": [
       "            Open        High         Low       Close   Adj Close    Volume\n",
       "0      19.000000   25.000000   17.540001   23.889999   23.889999  18766300\n",
       "1      25.790001   30.420000   23.299999   23.830000   23.830000  17187100\n",
       "2      25.000000   25.920000   20.270000   21.959999   21.959999   8218800\n",
       "3      23.000000   23.100000   18.709999   19.200001   19.200001   5139800\n",
       "4      20.000000   20.000000   15.830000   16.110001   16.110001   6866900\n",
       "...          ...         ...         ...         ...         ...       ...\n",
       "2411  568.489990  576.809998  558.080017  566.900024  566.900024  11788500\n",
       "2412  575.690002  589.799988  567.429993  580.989990  580.989990  17801500\n",
       "2413  632.419983  650.880005  618.000000  640.809998  640.809998  29005700\n",
       "2414  640.000000  653.000000  632.520020  650.570007  650.570007  15719300\n",
       "2415  673.690002  786.140015  673.520020  780.000000  780.000000  47065000\n",
       "\n",
       "[2416 rows x 6 columns]"
      ]
     },
     "execution_count": 143,
     "metadata": {},
     "output_type": "execute_result"
    }
   ],
   "source": [
    "a"
   ]
  },
  {
   "cell_type": "code",
   "execution_count": 144,
   "id": "6a508c91",
   "metadata": {},
   "outputs": [],
   "source": [
    "#b=a.drop(\"Volume\",axis=1)"
   ]
  },
  {
   "cell_type": "code",
   "execution_count": 145,
   "id": "ddd61cd9",
   "metadata": {},
   "outputs": [],
   "source": [
    "#b"
   ]
  },
  {
   "cell_type": "code",
   "execution_count": 146,
   "id": "ed7a16a5",
   "metadata": {},
   "outputs": [],
   "source": [
    "x=a[[\"Open\",\"High\",\"Low\",\"Volume\"]]"
   ]
  },
  {
   "cell_type": "code",
   "execution_count": 147,
   "id": "e417a475",
   "metadata": {},
   "outputs": [
    {
     "data": {
      "text/html": [
       "<div>\n",
       "<style scoped>\n",
       "    .dataframe tbody tr th:only-of-type {\n",
       "        vertical-align: middle;\n",
       "    }\n",
       "\n",
       "    .dataframe tbody tr th {\n",
       "        vertical-align: top;\n",
       "    }\n",
       "\n",
       "    .dataframe thead th {\n",
       "        text-align: right;\n",
       "    }\n",
       "</style>\n",
       "<table border=\"1\" class=\"dataframe\">\n",
       "  <thead>\n",
       "    <tr style=\"text-align: right;\">\n",
       "      <th></th>\n",
       "      <th>Open</th>\n",
       "      <th>High</th>\n",
       "      <th>Low</th>\n",
       "      <th>Volume</th>\n",
       "    </tr>\n",
       "  </thead>\n",
       "  <tbody>\n",
       "    <tr>\n",
       "      <th>0</th>\n",
       "      <td>19.000000</td>\n",
       "      <td>25.000000</td>\n",
       "      <td>17.540001</td>\n",
       "      <td>18766300</td>\n",
       "    </tr>\n",
       "    <tr>\n",
       "      <th>1</th>\n",
       "      <td>25.790001</td>\n",
       "      <td>30.420000</td>\n",
       "      <td>23.299999</td>\n",
       "      <td>17187100</td>\n",
       "    </tr>\n",
       "    <tr>\n",
       "      <th>2</th>\n",
       "      <td>25.000000</td>\n",
       "      <td>25.920000</td>\n",
       "      <td>20.270000</td>\n",
       "      <td>8218800</td>\n",
       "    </tr>\n",
       "    <tr>\n",
       "      <th>3</th>\n",
       "      <td>23.000000</td>\n",
       "      <td>23.100000</td>\n",
       "      <td>18.709999</td>\n",
       "      <td>5139800</td>\n",
       "    </tr>\n",
       "    <tr>\n",
       "      <th>4</th>\n",
       "      <td>20.000000</td>\n",
       "      <td>20.000000</td>\n",
       "      <td>15.830000</td>\n",
       "      <td>6866900</td>\n",
       "    </tr>\n",
       "    <tr>\n",
       "      <th>...</th>\n",
       "      <td>...</td>\n",
       "      <td>...</td>\n",
       "      <td>...</td>\n",
       "      <td>...</td>\n",
       "    </tr>\n",
       "    <tr>\n",
       "      <th>2411</th>\n",
       "      <td>568.489990</td>\n",
       "      <td>576.809998</td>\n",
       "      <td>558.080017</td>\n",
       "      <td>11788500</td>\n",
       "    </tr>\n",
       "    <tr>\n",
       "      <th>2412</th>\n",
       "      <td>575.690002</td>\n",
       "      <td>589.799988</td>\n",
       "      <td>567.429993</td>\n",
       "      <td>17801500</td>\n",
       "    </tr>\n",
       "    <tr>\n",
       "      <th>2413</th>\n",
       "      <td>632.419983</td>\n",
       "      <td>650.880005</td>\n",
       "      <td>618.000000</td>\n",
       "      <td>29005700</td>\n",
       "    </tr>\n",
       "    <tr>\n",
       "      <th>2414</th>\n",
       "      <td>640.000000</td>\n",
       "      <td>653.000000</td>\n",
       "      <td>632.520020</td>\n",
       "      <td>15719300</td>\n",
       "    </tr>\n",
       "    <tr>\n",
       "      <th>2415</th>\n",
       "      <td>673.690002</td>\n",
       "      <td>786.140015</td>\n",
       "      <td>673.520020</td>\n",
       "      <td>47065000</td>\n",
       "    </tr>\n",
       "  </tbody>\n",
       "</table>\n",
       "<p>2416 rows × 4 columns</p>\n",
       "</div>"
      ],
      "text/plain": [
       "            Open        High         Low    Volume\n",
       "0      19.000000   25.000000   17.540001  18766300\n",
       "1      25.790001   30.420000   23.299999  17187100\n",
       "2      25.000000   25.920000   20.270000   8218800\n",
       "3      23.000000   23.100000   18.709999   5139800\n",
       "4      20.000000   20.000000   15.830000   6866900\n",
       "...          ...         ...         ...       ...\n",
       "2411  568.489990  576.809998  558.080017  11788500\n",
       "2412  575.690002  589.799988  567.429993  17801500\n",
       "2413  632.419983  650.880005  618.000000  29005700\n",
       "2414  640.000000  653.000000  632.520020  15719300\n",
       "2415  673.690002  786.140015  673.520020  47065000\n",
       "\n",
       "[2416 rows x 4 columns]"
      ]
     },
     "execution_count": 147,
     "metadata": {},
     "output_type": "execute_result"
    }
   ],
   "source": [
    "x"
   ]
  },
  {
   "cell_type": "code",
   "execution_count": 148,
   "id": "08b3d80e",
   "metadata": {},
   "outputs": [],
   "source": [
    "y=a[\"Close\"]"
   ]
  },
  {
   "cell_type": "code",
   "execution_count": 149,
   "id": "0fd9eb2a",
   "metadata": {},
   "outputs": [
    {
     "data": {
      "text/plain": [
       "0        23.889999\n",
       "1        23.830000\n",
       "2        21.959999\n",
       "3        19.200001\n",
       "4        16.110001\n",
       "           ...    \n",
       "2411    566.900024\n",
       "2412    580.989990\n",
       "2413    640.809998\n",
       "2414    650.570007\n",
       "2415    780.000000\n",
       "Name: Close, Length: 2416, dtype: float64"
      ]
     },
     "execution_count": 149,
     "metadata": {},
     "output_type": "execute_result"
    }
   ],
   "source": [
    "y"
   ]
  },
  {
   "cell_type": "code",
   "execution_count": 150,
   "id": "9d7c6565",
   "metadata": {},
   "outputs": [],
   "source": [
    "from sklearn.model_selection import train_test_split"
   ]
  },
  {
   "cell_type": "code",
   "execution_count": 151,
   "id": "1ebe2af7",
   "metadata": {},
   "outputs": [],
   "source": [
    "x_train,x_test,y_train,y_test=train_test_split(x,y,test_size=0.3,random_state=0)"
   ]
  },
  {
   "cell_type": "code",
   "execution_count": 152,
   "id": "7572dda4",
   "metadata": {},
   "outputs": [
    {
     "data": {
      "text/html": [
       "<div>\n",
       "<style scoped>\n",
       "    .dataframe tbody tr th:only-of-type {\n",
       "        vertical-align: middle;\n",
       "    }\n",
       "\n",
       "    .dataframe tbody tr th {\n",
       "        vertical-align: top;\n",
       "    }\n",
       "\n",
       "    .dataframe thead th {\n",
       "        text-align: right;\n",
       "    }\n",
       "</style>\n",
       "<table border=\"1\" class=\"dataframe\">\n",
       "  <thead>\n",
       "    <tr style=\"text-align: right;\">\n",
       "      <th></th>\n",
       "      <th>Open</th>\n",
       "      <th>High</th>\n",
       "      <th>Low</th>\n",
       "      <th>Volume</th>\n",
       "    </tr>\n",
       "  </thead>\n",
       "  <tbody>\n",
       "    <tr>\n",
       "      <th>805</th>\n",
       "      <td>161.449997</td>\n",
       "      <td>167.500000</td>\n",
       "      <td>160.630005</td>\n",
       "      <td>8967800</td>\n",
       "    </tr>\n",
       "    <tr>\n",
       "      <th>933</th>\n",
       "      <td>235.289993</td>\n",
       "      <td>236.940002</td>\n",
       "      <td>228.320007</td>\n",
       "      <td>8289700</td>\n",
       "    </tr>\n",
       "    <tr>\n",
       "      <th>376</th>\n",
       "      <td>27.600000</td>\n",
       "      <td>28.049999</td>\n",
       "      <td>27.299999</td>\n",
       "      <td>1009400</td>\n",
       "    </tr>\n",
       "    <tr>\n",
       "      <th>1580</th>\n",
       "      <td>202.460007</td>\n",
       "      <td>204.210007</td>\n",
       "      <td>200.210007</td>\n",
       "      <td>4703400</td>\n",
       "    </tr>\n",
       "    <tr>\n",
       "      <th>878</th>\n",
       "      <td>144.850006</td>\n",
       "      <td>146.240005</td>\n",
       "      <td>142.600006</td>\n",
       "      <td>5385500</td>\n",
       "    </tr>\n",
       "    <tr>\n",
       "      <th>...</th>\n",
       "      <td>...</td>\n",
       "      <td>...</td>\n",
       "      <td>...</td>\n",
       "      <td>...</td>\n",
       "    </tr>\n",
       "    <tr>\n",
       "      <th>1033</th>\n",
       "      <td>238.899994</td>\n",
       "      <td>251.419998</td>\n",
       "      <td>238.580002</td>\n",
       "      <td>9249300</td>\n",
       "    </tr>\n",
       "    <tr>\n",
       "      <th>1731</th>\n",
       "      <td>318.380005</td>\n",
       "      <td>320.200012</td>\n",
       "      <td>312.529999</td>\n",
       "      <td>7622000</td>\n",
       "    </tr>\n",
       "    <tr>\n",
       "      <th>763</th>\n",
       "      <td>124.879997</td>\n",
       "      <td>126.089996</td>\n",
       "      <td>122.349998</td>\n",
       "      <td>7483600</td>\n",
       "    </tr>\n",
       "    <tr>\n",
       "      <th>835</th>\n",
       "      <td>170.500000</td>\n",
       "      <td>177.779999</td>\n",
       "      <td>166.110001</td>\n",
       "      <td>11386700</td>\n",
       "    </tr>\n",
       "    <tr>\n",
       "      <th>1653</th>\n",
       "      <td>245.850006</td>\n",
       "      <td>250.889999</td>\n",
       "      <td>245.500000</td>\n",
       "      <td>6262900</td>\n",
       "    </tr>\n",
       "  </tbody>\n",
       "</table>\n",
       "<p>1691 rows × 4 columns</p>\n",
       "</div>"
      ],
      "text/plain": [
       "            Open        High         Low    Volume\n",
       "805   161.449997  167.500000  160.630005   8967800\n",
       "933   235.289993  236.940002  228.320007   8289700\n",
       "376    27.600000   28.049999   27.299999   1009400\n",
       "1580  202.460007  204.210007  200.210007   4703400\n",
       "878   144.850006  146.240005  142.600006   5385500\n",
       "...          ...         ...         ...       ...\n",
       "1033  238.899994  251.419998  238.580002   9249300\n",
       "1731  318.380005  320.200012  312.529999   7622000\n",
       "763   124.879997  126.089996  122.349998   7483600\n",
       "835   170.500000  177.779999  166.110001  11386700\n",
       "1653  245.850006  250.889999  245.500000   6262900\n",
       "\n",
       "[1691 rows x 4 columns]"
      ]
     },
     "execution_count": 152,
     "metadata": {},
     "output_type": "execute_result"
    }
   ],
   "source": [
    "x_train"
   ]
  },
  {
   "cell_type": "code",
   "execution_count": 153,
   "id": "bfb19660",
   "metadata": {},
   "outputs": [
    {
     "data": {
      "text/html": [
       "<div>\n",
       "<style scoped>\n",
       "    .dataframe tbody tr th:only-of-type {\n",
       "        vertical-align: middle;\n",
       "    }\n",
       "\n",
       "    .dataframe tbody tr th {\n",
       "        vertical-align: top;\n",
       "    }\n",
       "\n",
       "    .dataframe thead th {\n",
       "        text-align: right;\n",
       "    }\n",
       "</style>\n",
       "<table border=\"1\" class=\"dataframe\">\n",
       "  <thead>\n",
       "    <tr style=\"text-align: right;\">\n",
       "      <th></th>\n",
       "      <th>Open</th>\n",
       "      <th>High</th>\n",
       "      <th>Low</th>\n",
       "      <th>Volume</th>\n",
       "    </tr>\n",
       "  </thead>\n",
       "  <tbody>\n",
       "    <tr>\n",
       "      <th>966</th>\n",
       "      <td>207.080002</td>\n",
       "      <td>214.020004</td>\n",
       "      <td>205.690002</td>\n",
       "      <td>5439900</td>\n",
       "    </tr>\n",
       "    <tr>\n",
       "      <th>557</th>\n",
       "      <td>27.900000</td>\n",
       "      <td>28.580000</td>\n",
       "      <td>27.799999</td>\n",
       "      <td>1145200</td>\n",
       "    </tr>\n",
       "    <tr>\n",
       "      <th>148</th>\n",
       "      <td>24.879999</td>\n",
       "      <td>24.879999</td>\n",
       "      <td>23.750000</td>\n",
       "      <td>1048400</td>\n",
       "    </tr>\n",
       "    <tr>\n",
       "      <th>1917</th>\n",
       "      <td>343.309998</td>\n",
       "      <td>348.619995</td>\n",
       "      <td>314.600006</td>\n",
       "      <td>10314600</td>\n",
       "    </tr>\n",
       "    <tr>\n",
       "      <th>1585</th>\n",
       "      <td>200.500000</td>\n",
       "      <td>200.899994</td>\n",
       "      <td>197.050003</td>\n",
       "      <td>2494600</td>\n",
       "    </tr>\n",
       "    <tr>\n",
       "      <th>...</th>\n",
       "      <td>...</td>\n",
       "      <td>...</td>\n",
       "      <td>...</td>\n",
       "      <td>...</td>\n",
       "    </tr>\n",
       "    <tr>\n",
       "      <th>139</th>\n",
       "      <td>26.150000</td>\n",
       "      <td>26.580000</td>\n",
       "      <td>25.610001</td>\n",
       "      <td>1192000</td>\n",
       "    </tr>\n",
       "    <tr>\n",
       "      <th>620</th>\n",
       "      <td>35.259998</td>\n",
       "      <td>35.299999</td>\n",
       "      <td>32.750000</td>\n",
       "      <td>2151300</td>\n",
       "    </tr>\n",
       "    <tr>\n",
       "      <th>1419</th>\n",
       "      <td>172.419998</td>\n",
       "      <td>172.949997</td>\n",
       "      <td>164.770004</td>\n",
       "      <td>3887600</td>\n",
       "    </tr>\n",
       "    <tr>\n",
       "      <th>34</th>\n",
       "      <td>18.959999</td>\n",
       "      <td>19.400000</td>\n",
       "      <td>18.780001</td>\n",
       "      <td>447900</td>\n",
       "    </tr>\n",
       "    <tr>\n",
       "      <th>2122</th>\n",
       "      <td>341.829987</td>\n",
       "      <td>351.600006</td>\n",
       "      <td>338.260010</td>\n",
       "      <td>5629100</td>\n",
       "    </tr>\n",
       "  </tbody>\n",
       "</table>\n",
       "<p>725 rows × 4 columns</p>\n",
       "</div>"
      ],
      "text/plain": [
       "            Open        High         Low    Volume\n",
       "966   207.080002  214.020004  205.690002   5439900\n",
       "557    27.900000   28.580000   27.799999   1145200\n",
       "148    24.879999   24.879999   23.750000   1048400\n",
       "1917  343.309998  348.619995  314.600006  10314600\n",
       "1585  200.500000  200.899994  197.050003   2494600\n",
       "...          ...         ...         ...       ...\n",
       "139    26.150000   26.580000   25.610001   1192000\n",
       "620    35.259998   35.299999   32.750000   2151300\n",
       "1419  172.419998  172.949997  164.770004   3887600\n",
       "34     18.959999   19.400000   18.780001    447900\n",
       "2122  341.829987  351.600006  338.260010   5629100\n",
       "\n",
       "[725 rows x 4 columns]"
      ]
     },
     "execution_count": 153,
     "metadata": {},
     "output_type": "execute_result"
    }
   ],
   "source": [
    "x_test"
   ]
  },
  {
   "cell_type": "code",
   "execution_count": 154,
   "id": "7ad89589",
   "metadata": {},
   "outputs": [
    {
     "data": {
      "text/plain": [
       "805     166.369995\n",
       "933     230.970001\n",
       "376      27.770000\n",
       "1580    201.000000\n",
       "878     143.550003\n",
       "           ...    \n",
       "1033    248.929993\n",
       "1731    315.880005\n",
       "763     125.610001\n",
       "835     171.539993\n",
       "1653    248.919998\n",
       "Name: Close, Length: 1691, dtype: float64"
      ]
     },
     "execution_count": 154,
     "metadata": {},
     "output_type": "execute_result"
    }
   ],
   "source": [
    "y_train"
   ]
  },
  {
   "cell_type": "code",
   "execution_count": 155,
   "id": "2bfca259",
   "metadata": {},
   "outputs": [
    {
     "data": {
      "text/plain": [
       "966     207.729996\n",
       "557      28.280001\n",
       "148      24.010000\n",
       "1917    315.230011\n",
       "1585    200.240005\n",
       "           ...    \n",
       "139      25.750000\n",
       "620      33.610001\n",
       "1419    166.770004\n",
       "34       19.150000\n",
       "2122    350.480011\n",
       "Name: Close, Length: 725, dtype: float64"
      ]
     },
     "execution_count": 155,
     "metadata": {},
     "output_type": "execute_result"
    }
   ],
   "source": [
    "y_test"
   ]
  },
  {
   "cell_type": "code",
   "execution_count": 156,
   "id": "0d837eb5",
   "metadata": {},
   "outputs": [],
   "source": [
    "from sklearn.linear_model import LinearRegression"
   ]
  },
  {
   "cell_type": "code",
   "execution_count": 157,
   "id": "d4c7fd8b",
   "metadata": {},
   "outputs": [],
   "source": [
    "LR=LinearRegression()"
   ]
  },
  {
   "cell_type": "code",
   "execution_count": 158,
   "id": "dc1e61d2",
   "metadata": {},
   "outputs": [
    {
     "data": {
      "text/plain": [
       "LinearRegression()"
      ]
     },
     "execution_count": 158,
     "metadata": {},
     "output_type": "execute_result"
    }
   ],
   "source": [
    "LR.fit(x_train,y_train)"
   ]
  },
  {
   "cell_type": "code",
   "execution_count": 159,
   "id": "49798fb9",
   "metadata": {},
   "outputs": [],
   "source": [
    "y_pred=LR.predict(x_test)"
   ]
  },
  {
   "cell_type": "code",
   "execution_count": 160,
   "id": "a7ddc08b",
   "metadata": {},
   "outputs": [
    {
     "data": {
      "text/plain": [
       "array([211.94794087,  28.32368189,  23.95507504, 326.94211794,\n",
       "       197.97709775, 209.82821187,  26.55917508,  24.19037679,\n",
       "       218.63606078, 350.55332739, 216.69703164, 280.41132406,\n",
       "        31.67232598, 102.59131403,  20.37212676, 349.76896081,\n",
       "       103.75405424, 258.01828629,  27.70388618, 223.85539843,\n",
       "       363.93734502, 325.88585406, 221.7193727 , 341.86427885,\n",
       "       306.26524116, 180.76593515, 336.43452399, 271.66310508,\n",
       "       226.723959  , 244.98359983,  26.52765316,  31.4007792 ,\n",
       "        30.61821721, 228.04809024, 393.01940211, 222.92005825,\n",
       "       214.46410629, 138.08716238, 325.21282156, 219.91480414,\n",
       "       309.23772911,  36.62007338,  23.07537156, 214.1164132 ,\n",
       "        28.18450682, 231.66215448, 197.61207712,  34.02388465,\n",
       "       308.40686829, 272.86064487, 231.92471409, 298.3679713 ,\n",
       "        35.45307564, 217.44907392, 289.80534719, 232.30927624,\n",
       "        34.14469865, 237.48082507,  18.0488884 ,  52.3055303 ,\n",
       "       227.62993608,  34.07716703, 260.44809202, 323.50748089,\n",
       "        27.14320962,  28.00264807, 247.26411238, 228.41618339,\n",
       "        20.81729383,  33.06024441,  33.15476716, 170.85148969,\n",
       "       323.41107543,  23.66896372,  33.12703859, 299.23022152,\n",
       "       307.01479878,  18.5344521 ,  21.3961111 , 250.04471255,\n",
       "       328.58723641, 217.07868272,  54.8400676 , 213.43464696,\n",
       "        35.94754597, 335.13907765,  35.17824669, 531.91461206,\n",
       "        22.74134447, 222.27487892,  28.368324  , 326.91144222,\n",
       "        38.62124781, 246.55961834, 177.2378563 , 233.26703636,\n",
       "       345.84075972,  30.24128465,  28.41999018,  54.10859107,\n",
       "        33.16449532, 320.34808036, 253.86916753, 350.2738515 ,\n",
       "       226.07713843,  29.49498972, 191.45092817, 195.40155215,\n",
       "       254.57874663,  25.90853735, 228.84965401, 347.69630368,\n",
       "       229.53196509, 371.50108773, 232.12416252, 159.88611974,\n",
       "       203.07808486, 255.41776004, 300.0560254 ,  20.61453959,\n",
       "       214.04961484, 278.90315452, 220.9998827 ,  27.02814933,\n",
       "       348.10008127, 358.18658025, 215.87064679, 341.89880168,\n",
       "       313.52332646,  20.44004143, 196.68054738, 544.48024797,\n",
       "        19.92930248, 267.72060892, 224.22651326, 341.41018805,\n",
       "       338.60761958, 244.26072505, 205.26720018, 206.77104101,\n",
       "        27.79587646, 349.76659835, 365.14476148, 196.19888139,\n",
       "        22.5941938 ,  26.97471039,  27.81963061, 198.09340816,\n",
       "       225.02461107, 124.72514843, 245.4941533 ,  31.14529849,\n",
       "        34.04305776,  23.8557428 ,  20.70116275,  28.94798885,\n",
       "        19.8546434 , 193.1233239 , 372.94642001,  27.3356999 ,\n",
       "       258.6558345 ,  29.39448158, 233.79818645, 218.88586932,\n",
       "        32.70264652, 222.83843744, 359.52915539, 313.2391161 ,\n",
       "       294.35821856, 268.76949113, 272.17423091, 301.09503058,\n",
       "       205.64318259, 223.67420835, 315.91469188, 353.06491027,\n",
       "       225.07356351, 373.6071155 ,  35.21091351, 348.89241926,\n",
       "       238.85782699,  28.43469231, 254.19364549, 144.01057396,\n",
       "        31.28332039, 240.40831036, 140.82349408,  19.67125027,\n",
       "        19.63441157, 221.97231292, 349.4264189 ,  29.52245499,\n",
       "       304.7801104 , 282.5338361 , 334.13500609, 214.31188478,\n",
       "       235.81810924,  39.32070793, 226.26716114, 335.0438024 ,\n",
       "        29.9629785 , 265.6388566 ,  34.86157884, 260.20838389,\n",
       "       248.75916715, 176.69782785, 359.19161154,  24.50129914,\n",
       "       332.57730275, 303.78712601, 156.77637696,  35.40964213,\n",
       "       285.88180399, 233.29021613, 265.52423216, 255.9044588 ,\n",
       "        25.24574115, 520.51536944,  28.01074251,  37.1678627 ,\n",
       "       201.95681417, 105.86698089, 300.3991166 ,  37.22618234,\n",
       "        27.85101118, 245.67428032,  33.31680067,  19.35235539,\n",
       "       194.94021444, 238.38240491, 353.56458484, 281.9350503 ,\n",
       "       252.22384737, 243.33316247, 230.80945897, 228.17694633,\n",
       "       298.51441658,  28.42336925, 201.85977584, 337.47215049,\n",
       "       226.54268195,  29.17748217, 251.6032752 , 277.02577893,\n",
       "       204.48160562,  18.87365829,  36.08331125,  26.03310046,\n",
       "        28.07551578, 116.15187846, 348.5836384 , 329.64239827,\n",
       "       162.3489238 ,  34.11074524,  26.89533528, 218.92630749,\n",
       "       101.49072865, 196.51430601,  29.47803454, 364.31349154,\n",
       "       359.00422678,  27.79051826, 254.39732584, 313.97822738,\n",
       "        33.41107813, 211.58202823, 190.22352551, 253.27263782,\n",
       "       270.99446721, 339.8627839 , 189.71428962, 164.76368712,\n",
       "        39.45465607,  33.67048488, 202.84517498, 227.94212493,\n",
       "       187.55286354, 184.82209019, 250.04695276, 246.27752034,\n",
       "       227.60884063, 255.45115729, 379.27518461,  30.69017588,\n",
       "       249.15941419,  34.80494501, 207.27295504,  34.89769015,\n",
       "       269.35909979, 259.26563247,  27.85672289, 304.88025164,\n",
       "        20.34252504, 142.83034101,  27.98632408, 216.2347945 ,\n",
       "       251.29736827, 298.04028428, 303.15098475, 491.12482704,\n",
       "        30.12112875, 150.13590381, 237.21383348, 242.43157455,\n",
       "       361.08083918, 306.82937272,  36.53560063, 166.72987423,\n",
       "       246.85796264, 184.63820612, 235.38426542, 206.51513609,\n",
       "        34.39685875, 298.85589687, 147.19942316, 287.16601104,\n",
       "       254.47138304,  29.05163044,  31.62162378, 128.39650945,\n",
       "        28.34993598,  27.4291923 , 300.72332204,  27.25407225,\n",
       "       148.09364283, 380.44945133, 203.99978627, 249.64947828,\n",
       "       251.11327178, 253.02978126, 194.30186708, 264.11201581,\n",
       "        28.43939838,  20.78860219,  22.85770187,  27.26714107,\n",
       "       303.74787758, 228.0999008 , 118.71633947, 201.41393024,\n",
       "       252.30444112,  54.85544471, 184.59062341, 229.19152967,\n",
       "        26.94380993, 229.63911543,  33.89133837,  32.60047158,\n",
       "        24.14741064,  28.18779863,  29.27237515, 248.14049569,\n",
       "       246.78112935, 219.10001548, 211.92734792, 157.70654162,\n",
       "       197.14350365, 250.27412399,  26.17760326,  37.24636124,\n",
       "       202.69317747, 240.71151075,  51.69099003,  35.16593277,\n",
       "       337.02168633, 244.74302211, 225.36580106,  26.5710197 ,\n",
       "       258.23380263, 353.13092929,  38.00111195, 306.50383729,\n",
       "       213.62380291, 266.46511436, 166.70157223, 202.76082452,\n",
       "        27.22026749, 283.90589532, 177.46259252, 198.26781346,\n",
       "       339.68986109, 337.66993268,  27.59745211, 331.1149264 ,\n",
       "        35.64901863, 210.57047503, 205.90171174,  27.74514621,\n",
       "       251.89360525, 241.8590096 , 244.93263451, 200.03292288,\n",
       "       244.71036103, 383.59873216, 255.06354604, 211.66124256,\n",
       "       241.22987736, 287.02380445, 233.85672985, 343.9265143 ,\n",
       "        25.78142088, 205.02456299, 238.9681336 ,  20.54010324,\n",
       "       250.76900607, 184.77600393, 232.88496142, 223.22575311,\n",
       "        23.71042329, 166.48574786, 311.77803902, 238.43264339,\n",
       "        23.17301001, 282.55744738, 227.41809187, 232.73419992,\n",
       "       357.00574342, 254.9627753 , 226.4191832 ,  20.53300519,\n",
       "        28.12513107,  25.29073645, 347.56058589, 189.71587932,\n",
       "       227.48169014, 240.54264601,  33.40710247, 201.94390499,\n",
       "       147.87131945,  21.01035898,  24.34681933, 212.3372523 ,\n",
       "        29.37550249,  26.59816145,  24.56609715, 228.45673666,\n",
       "       249.45690996,  33.31347154,  21.32805155, 322.40106798,\n",
       "       178.74503783, 225.43902839,  27.05430584, 224.13791681,\n",
       "       311.34704423,  24.29702004,  87.21077918, 278.91026494,\n",
       "       134.32972354, 236.69690448, 156.68858949, 188.97247945,\n",
       "        33.6776349 ,  45.58639991, 199.96967425,  28.65783932,\n",
       "       325.42212373,  29.06342435, 222.33924375, 230.54677858,\n",
       "       269.58753268, 231.69834714, 252.56450818,  22.87838808,\n",
       "       186.08054235, 258.59625899,  28.83258939, 164.29304527,\n",
       "        18.15980692, 168.72466124,  79.14719286, 253.4805585 ,\n",
       "       355.26883638, 311.12474306, 263.54142373, 291.51666582,\n",
       "       331.46307762, 204.66922487,  28.87962973, 190.22108493,\n",
       "       355.53688082,  26.70060294, 184.04442907,  31.45849515,\n",
       "       212.85583151,  90.25628682, 190.45866971, 133.65577737,\n",
       "        56.15285143,  33.595571  , 191.26539006, 232.32414898,\n",
       "       270.10699718, 339.45590844,  25.46090555, 361.90095271,\n",
       "       209.19967252, 581.94633469, 197.14090116,  23.60689338,\n",
       "       225.09460353, 227.8184812 , 236.00930377, 226.13090188,\n",
       "       208.24994066, 202.24326941, 226.94184102,  32.01113276,\n",
       "       298.26870863,  31.69533366,  37.82343641, 313.56967416,\n",
       "       180.77738994, 234.8781706 , 352.97692979,  16.77645743,\n",
       "       206.71455133,  99.85854383, 310.27470989, 272.55935017,\n",
       "       354.05436197,  28.02557115,  44.65046569, 216.97473753,\n",
       "       197.86675503, 263.01336693,  37.20557628,  24.61961372,\n",
       "        26.84478043, 380.82213805, 220.53893849, 414.10461112,\n",
       "       326.17140561, 480.04978297, 195.70430163, 246.6490379 ,\n",
       "       204.70251502, 238.85459135, 191.26226412, 248.01095757,\n",
       "       190.88755961, 177.81717431, 132.04329547, 242.57266214,\n",
       "       261.50939988, 177.14497787, 193.29775062, 178.73324866,\n",
       "        31.79043393, 347.9563284 , 233.07907693, 342.29866484,\n",
       "       198.83698661,  29.76426901, 203.88367055, 322.0073147 ,\n",
       "       155.52329735, 121.17652595, 343.81185261,  31.62778495,\n",
       "        20.7042733 ,  31.50363144,  28.70283098, 226.75201393,\n",
       "       168.10053184,  29.49891275,  30.37729431, 353.61147385,\n",
       "        23.1506734 , 142.59110818, 194.11364944,  29.20155577,\n",
       "        28.80131941, 306.11113417, 216.62299278, 265.54869461,\n",
       "        25.88541875, 224.11841354,  31.81108331, 259.54467299,\n",
       "       311.51540577,  28.63013254, 211.25306288,  23.67338844,\n",
       "        28.60009417, 303.26357229, 159.70266555, 191.0930716 ,\n",
       "       212.93413867, 297.41519289, 218.57920641, 276.43143512,\n",
       "        17.4966262 , 320.69149139,  33.49761675,  37.20696587,\n",
       "       227.58161917,  34.39343379,  37.54754714, 220.78216247,\n",
       "       295.48890017, 325.05630737, 199.16431947,  32.28345261,\n",
       "        29.58915482,  24.81034171, 245.83683846, 356.79355905,\n",
       "       376.81553534, 317.45237515, 210.41590489,  22.12730004,\n",
       "       225.12602482, 222.00283592, 219.80168217,  24.22729765,\n",
       "       295.79321372,  45.05563452, 319.98689404, 343.31603307,\n",
       "       312.98657596,  30.83595034, 202.54511595, 360.09698182,\n",
       "        20.31780509, 211.81996974,  27.15262803, 191.97753131,\n",
       "        28.47503399, 335.07025759, 269.766685  ,  27.97879789,\n",
       "       201.38353511, 219.00312321,  86.72002632, 233.10857973,\n",
       "        38.22026405,  28.6530447 , 262.53063141, 212.72942303,\n",
       "       255.40560613, 207.94097652, 288.46670237, 346.55989004,\n",
       "       195.89333694,  29.44770821,  34.28457327,  21.08368165,\n",
       "        25.84394282,  19.93685996,  30.02180049, 567.50076168,\n",
       "        29.63844111, 191.74142179, 277.44766025, 241.75027216,\n",
       "        33.11452241, 245.65037223, 140.16986934, 261.31544452,\n",
       "        37.69743162, 262.07828385,  34.9885638 ,  99.04231705,\n",
       "       338.01250375, 270.25944557, 211.49448499,  31.43617093,\n",
       "       229.47348807, 241.68352677, 219.7071542 , 341.9057485 ,\n",
       "       286.42165691,  96.57882612, 243.8898988 ,  26.20191226,\n",
       "        22.82171254, 231.99302463, 351.06791718, 301.90617315,\n",
       "       210.78471681, 189.61582947, 354.50401951, 245.03914447,\n",
       "       229.78562328, 309.17785138,  30.20181537,  23.27728637,\n",
       "       256.76096526, 198.51659991, 227.97226793,  29.44115204,\n",
       "       334.57626977, 218.53677786, 320.34560217, 320.59568562,\n",
       "        24.35923218, 189.67260557, 277.96196441,  28.10887312,\n",
       "       243.29425795, 189.67182053, 366.77469037, 285.76055502,\n",
       "       208.81176048, 202.8312796 , 336.98405538, 201.34442964,\n",
       "       202.72698207, 236.35107432,  24.5387039 , 210.6759593 ,\n",
       "        28.55909028, 337.50725765, 190.45360062, 268.58680017,\n",
       "       339.2733539 , 222.00823856, 314.42331638, 200.28393861,\n",
       "        26.03387962,  33.35389578, 167.05037468,  19.13377023,\n",
       "       347.51287908])"
      ]
     },
     "execution_count": 160,
     "metadata": {},
     "output_type": "execute_result"
    }
   ],
   "source": [
    "y_pred"
   ]
  },
  {
   "cell_type": "code",
   "execution_count": 161,
   "id": "8729c9db",
   "metadata": {},
   "outputs": [],
   "source": [
    "from sklearn.metrics import r2_score"
   ]
  },
  {
   "cell_type": "code",
   "execution_count": 162,
   "id": "ce252826",
   "metadata": {},
   "outputs": [
    {
     "data": {
      "text/plain": [
       "0.9996944682449384"
      ]
     },
     "execution_count": 162,
     "metadata": {},
     "output_type": "execute_result"
    }
   ],
   "source": [
    "r2_score(y_test,y_pred)"
   ]
  },
  {
   "cell_type": "code",
   "execution_count": 163,
   "id": "c13b9393",
   "metadata": {},
   "outputs": [],
   "source": [
    "training_data_x_train=LR.predict(x_train)"
   ]
  },
  {
   "cell_type": "code",
   "execution_count": 164,
   "id": "c112dafa",
   "metadata": {},
   "outputs": [
    {
     "data": {
      "text/plain": [
       "0.9997145577523122"
      ]
     },
     "execution_count": 164,
     "metadata": {},
     "output_type": "execute_result"
    }
   ],
   "source": [
    "r2_score(y_train,training_data_x_train)"
   ]
  },
  {
   "cell_type": "code",
   "execution_count": 165,
   "id": "abcb06d6",
   "metadata": {},
   "outputs": [],
   "source": [
    "predict=LR.predict([[19.000000,25.000000,17.540001,18766300]])"
   ]
  },
  {
   "cell_type": "code",
   "execution_count": 166,
   "id": "7382d2ab",
   "metadata": {},
   "outputs": [
    {
     "data": {
      "text/plain": [
       "array([23.03759176])"
      ]
     },
     "execution_count": 166,
     "metadata": {},
     "output_type": "execute_result"
    }
   ],
   "source": [
    "predict"
   ]
  },
  {
   "cell_type": "code",
   "execution_count": 167,
   "id": "c8d6a887",
   "metadata": {},
   "outputs": [],
   "source": [
    "v=LR.predict([[283.09,284.50,272.82,63615400]])"
   ]
  },
  {
   "cell_type": "code",
   "execution_count": 168,
   "id": "2a101b84",
   "metadata": {},
   "outputs": [
    {
     "name": "stdout",
     "output_type": "stream",
     "text": [
      "The closing price will be: [275.45226617]\n"
     ]
    }
   ],
   "source": [
    "print(\"The closing price will be:\",v)"
   ]
  },
  {
   "cell_type": "code",
   "execution_count": 169,
   "id": "ed26ab9b",
   "metadata": {},
   "outputs": [],
   "source": [
    "e=LR.predict([[0,0,0,0]])"
   ]
  },
  {
   "cell_type": "code",
   "execution_count": 170,
   "id": "d199c940",
   "metadata": {},
   "outputs": [
    {
     "data": {
      "text/plain": [
       "array([-0.06207639])"
      ]
     },
     "execution_count": 170,
     "metadata": {},
     "output_type": "execute_result"
    }
   ],
   "source": [
    "e"
   ]
  },
  {
   "cell_type": "code",
   "execution_count": 171,
   "id": "327dc4a3",
   "metadata": {},
   "outputs": [
    {
     "data": {
      "text/plain": [
       "<AxesSubplot:xlabel='Close', ylabel='Open'>"
      ]
     },
     "execution_count": 171,
     "metadata": {},
     "output_type": "execute_result"
    },
    {
     "data": {
      "image/png": "[encoded data removed]",
      "text/plain": [
       "<Figure size 432x288 with 1 Axes>"
      ]
     },
     "metadata": {
      "needs_background": "light"
     },
     "output_type": "display_data"
    }
   ],
   "source": [
    "sns.regplot(df[\"Close\"],df[\"Open\"])"
   ]
  },
  {
   "cell_type": "code",
   "execution_count": 172,
   "id": "eb6002fa",
   "metadata": {},
   "outputs": [
    {
     "data": {
      "text/plain": [
       "<AxesSubplot:xlabel='Close', ylabel='High'>"
      ]
     },
     "execution_count": 172,
     "metadata": {},
     "output_type": "execute_result"
    },
    {
     "data": {
      "image/png": "[encoded data removed]",
      "text/plain": [
       "<Figure size 432x288 with 1 Axes>"
      ]
     },
     "metadata": {
      "needs_background": "light"
     },
     "output_type": "display_data"
    }
   ],
   "source": [
    "sns.regplot(df[\"Close\"],df[\"High\"])"
   ]
  },
  {
   "cell_type": "code",
   "execution_count": 173,
   "id": "291ed205",
   "metadata": {},
   "outputs": [
    {
     "data": {
      "text/plain": [
       "<AxesSubplot:xlabel='Close', ylabel='Low'>"
      ]
     },
     "execution_count": 173,
     "metadata": {},
     "output_type": "execute_result"
    },
    {
     "data": {
      "image/png": "[encoded data removed]",
      "text/plain": [
       "<Figure size 432x288 with 1 Axes>"
      ]
     },
     "metadata": {
      "needs_background": "light"
     },
     "output_type": "display_data"
    }
   ],
   "source": [
    "sns.regplot(df[\"Close\"],df[\"Low\"])"
   ]
  },
  {
   "cell_type": "code",
   "execution_count": 174,
   "id": "8ddf4c17",
   "metadata": {},
   "outputs": [
    {
     "data": {
      "text/plain": [
       "<AxesSubplot:xlabel='Close', ylabel='Adj Close'>"
      ]
     },
     "execution_count": 174,
     "metadata": {},
     "output_type": "execute_result"
    },
    {
     "data": {
      "image/png": "[encoded data removed]",
      "text/plain": [
       "<Figure size 432x288 with 1 Axes>"
      ]
     },
     "metadata": {
      "needs_background": "light"
     },
     "output_type": "display_data"
    }
   ],
   "source": [
    "sns.regplot(df[\"Close\"],df[\"Adj Close\"])"
   ]
  },
  {
   "cell_type": "code",
   "execution_count": 175,
   "id": "fc99ad5e",
   "metadata": {},
   "outputs": [
    {
     "data": {
      "text/plain": [
       "<AxesSubplot:xlabel='Close', ylabel='Volume'>"
      ]
     },
     "execution_count": 175,
     "metadata": {},
     "output_type": "execute_result"
    },
    {
     "data": {
      "image/png": "[encoded data removed]",
      "text/plain": [
       "<Figure size 432x288 with 1 Axes>"
      ]
     },
     "metadata": {
      "needs_background": "light"
     },
     "output_type": "display_data"
    }
   ],
   "source": [
    "sns.regplot(df[\"Close\"],df[\"Volume\"])"
   ]
  },
  {
   "cell_type": "code",
   "execution_count": 176,
   "id": "0b907152",
   "metadata": {},
   "outputs": [],
   "source": [
    "data=pd.DataFrame({\"actual_values\":y_test,\"predicted values\":y_pred})"
   ]
  },
  {
   "cell_type": "code",
   "execution_count": 177,
   "id": "271b9b6b",
   "metadata": {},
   "outputs": [
    {
     "data": {
      "text/html": [
       "<div>\n",
       "<style scoped>\n",
       "    .dataframe tbody tr th:only-of-type {\n",
       "        vertical-align: middle;\n",
       "    }\n",
       "\n",
       "    .dataframe tbody tr th {\n",
       "        vertical-align: top;\n",
       "    }\n",
       "\n",
       "    .dataframe thead th {\n",
       "        text-align: right;\n",
       "    }\n",
       "</style>\n",
       "<table border=\"1\" class=\"dataframe\">\n",
       "  <thead>\n",
       "    <tr style=\"text-align: right;\">\n",
       "      <th></th>\n",
       "      <th>actual_values</th>\n",
       "      <th>predicted values</th>\n",
       "    </tr>\n",
       "  </thead>\n",
       "  <tbody>\n",
       "    <tr>\n",
       "      <th>966</th>\n",
       "      <td>207.729996</td>\n",
       "      <td>211.947941</td>\n",
       "    </tr>\n",
       "    <tr>\n",
       "      <th>557</th>\n",
       "      <td>28.280001</td>\n",
       "      <td>28.323682</td>\n",
       "    </tr>\n",
       "    <tr>\n",
       "      <th>148</th>\n",
       "      <td>24.010000</td>\n",
       "      <td>23.955075</td>\n",
       "    </tr>\n",
       "    <tr>\n",
       "      <th>1917</th>\n",
       "      <td>315.230011</td>\n",
       "      <td>326.942118</td>\n",
       "    </tr>\n",
       "    <tr>\n",
       "      <th>1585</th>\n",
       "      <td>200.240005</td>\n",
       "      <td>197.977098</td>\n",
       "    </tr>\n",
       "    <tr>\n",
       "      <th>...</th>\n",
       "      <td>...</td>\n",
       "      <td>...</td>\n",
       "    </tr>\n",
       "    <tr>\n",
       "      <th>139</th>\n",
       "      <td>25.750000</td>\n",
       "      <td>26.033880</td>\n",
       "    </tr>\n",
       "    <tr>\n",
       "      <th>620</th>\n",
       "      <td>33.610001</td>\n",
       "      <td>33.353896</td>\n",
       "    </tr>\n",
       "    <tr>\n",
       "      <th>1419</th>\n",
       "      <td>166.770004</td>\n",
       "      <td>167.050375</td>\n",
       "    </tr>\n",
       "    <tr>\n",
       "      <th>34</th>\n",
       "      <td>19.150000</td>\n",
       "      <td>19.133770</td>\n",
       "    </tr>\n",
       "    <tr>\n",
       "      <th>2122</th>\n",
       "      <td>350.480011</td>\n",
       "      <td>347.512879</td>\n",
       "    </tr>\n",
       "  </tbody>\n",
       "</table>\n",
       "<p>725 rows × 2 columns</p>\n",
       "</div>"
      ],
      "text/plain": [
       "      actual_values  predicted values\n",
       "966      207.729996        211.947941\n",
       "557       28.280001         28.323682\n",
       "148       24.010000         23.955075\n",
       "1917     315.230011        326.942118\n",
       "1585     200.240005        197.977098\n",
       "...             ...               ...\n",
       "139       25.750000         26.033880\n",
       "620       33.610001         33.353896\n",
       "1419     166.770004        167.050375\n",
       "34        19.150000         19.133770\n",
       "2122     350.480011        347.512879\n",
       "\n",
       "[725 rows x 2 columns]"
      ]
     },
     "execution_count": 177,
     "metadata": {},
     "output_type": "execute_result"
    }
   ],
   "source": [
    "data"
   ]
  },
  {
   "cell_type": "markdown",
   "id": "ac7ecdc7",
   "metadata": {},
   "source": [
    "# RANDOM FOREST REGRESSION"
   ]
  },
  {
   "cell_type": "code",
   "execution_count": 178,
   "id": "9a375172",
   "metadata": {},
   "outputs": [
    {
     "data": {
      "text/plain": [
       "RandomForestRegressor(n_estimators=10, random_state=0)"
      ]
     },
     "execution_count": 178,
     "metadata": {},
     "output_type": "execute_result"
    }
   ],
   "source": [
    "from sklearn.ensemble import RandomForestRegressor\n",
    "regressor=RandomForestRegressor(n_estimators=10,random_state=0)\n",
    "regressor.fit(x_train,y_train)"
   ]
  },
  {
   "cell_type": "code",
   "execution_count": 179,
   "id": "be2be522",
   "metadata": {},
   "outputs": [],
   "source": [
    "y_prediction=regressor.predict(x_test)"
   ]
  },
  {
   "cell_type": "code",
   "execution_count": 180,
   "id": "36a1ad80",
   "metadata": {},
   "outputs": [
    {
     "data": {
      "text/plain": [
       "array([211.0910004,  28.2799998,  24.226    , 344.7160066, 199.4420043,\n",
       "       211.3999988,  26.8680001,  24.144    , 220.9179992, 349.0789978,\n",
       "       217.7580001, 283.4350066,  31.4820004, 103.8180009,  20.57     ,\n",
       "       347.3070037, 109.7010003, 257.2419982,  27.8609998, 223.0349992,\n",
       "       358.2749969, 325.7340116, 220.2020004, 339.2080017, 303.4599944,\n",
       "       180.5010011, 333.5710023, 270.7370027, 226.3319978, 248.4250014,\n",
       "        26.6049995,  31.5540006,  29.3970001, 226.890999 , 383.5309998,\n",
       "       215.7250013, 213.6639983, 140.1999986, 324.5080017, 220.0690018,\n",
       "       309.599005 ,  36.2239997,  23.3100003, 212.2220018,  28.2530001,\n",
       "       230.6569993, 200.678    ,  34.132    , 308.548996 , 270.6630096,\n",
       "       233.6190002, 298.6789949,  36.2159995, 213.4920046, 289.2850003,\n",
       "       231.5689986,  33.8019997, 237.3050018,  17.4439996,  50.8829999,\n",
       "       228.8959994,  34.0770005, 261.4349977, 322.1429934,  27.3240001,\n",
       "        28.1569999, 248.0480025, 230.2699969,  20.57     ,  32.9340001,\n",
       "        33.4789996, 169.4759979, 322.8179993,  23.837    ,  33.5589997,\n",
       "       299.893997 , 306.2109986,  19.1470007,  20.9810001, 249.5510024,\n",
       "       326.8980101, 217.3929992,  52.3929994, 213.6010009,  35.7829998,\n",
       "       335.8550018,  35.0429998, 525.103003 ,  22.8450006, 222.4980011,\n",
       "        28.6840002, 329.4399993,  37.9689991, 247.8320053, 178.789    ,\n",
       "       235.8939986, 345.3690002,  30.5779998,  28.3180002,  51.9559995,\n",
       "        34.5549993, 319.1779999, 254.8420016, 350.4839998, 224.729001 ,\n",
       "        29.24     , 195.3490021, 192.5850048, 254.0370024,  26.0820001,\n",
       "       228.8430009, 346.0399992, 232.1979981, 369.750998 , 235.7019987,\n",
       "       155.5829971, 203.012001 , 257.9849991, 297.7319913,  20.9029998,\n",
       "       213.1990004, 277.5960081, 221.0119981,  26.2169994, 343.3339998,\n",
       "       354.8729951, 217.491002 , 337.7630006, 313.7970002,  20.6240002,\n",
       "       193.5190032, 521.151001 ,  20.2610004, 266.4410034, 225.7369995,\n",
       "       345.3280029, 339.7799988, 244.1859985, 203.7799989, 208.1359985,\n",
       "        27.9099999, 344.2130003, 362.8099914, 199.1949983,  22.7019998,\n",
       "        27.1490003,  27.719    , 198.0090027, 221.4020003, 122.595999 ,\n",
       "       244.7819991,  31.3180002,  34.3340001,  23.4800001,  20.6859997,\n",
       "        29.1359999,  20.0400002, 191.3919968, 374.6169985,  27.4900006,\n",
       "       260.5829988,  29.3040001, 232.6729982, 218.4470032,  33.0880005,\n",
       "       222.7780013, 363.3929932, 313.4310059, 294.0040039, 269.3980041,\n",
       "       267.8110015, 302.6849977, 206.7129975, 223.3710008, 316.9980013,\n",
       "       350.6559997, 222.8510009, 373.6560059,  35.1470008, 349.6039977,\n",
       "       238.2070007,  28.0649999, 253.7109985, 145.5969957,  31.0969994,\n",
       "       241.4240008, 142.6      ,  19.4599998,  19.7419997, 220.8100019,\n",
       "       348.0360045,  29.3300006, 304.0239958, 277.7080015, 332.071997 ,\n",
       "       212.3260043, 238.2210007,  39.0660006, 225.7599977, 325.5550017,\n",
       "        30.2509995, 265.4699984,  35.3400012, 261.6899935, 247.5290023,\n",
       "       178.015999 , 359.9799928,  24.7209999, 339.8310029, 304.8520052,\n",
       "       152.4319962,  35.2890014, 289.7630005, 231.0969971, 262.0329957,\n",
       "       256.4339997,  25.2809998, 506.3249938,  27.7160002,  37.3909988,\n",
       "       203.6360018, 104.4209999, 303.125998 ,  37.8449993,  27.6150006,\n",
       "       240.8110001,  32.463    ,  19.1310005, 193.7240064, 240.2050004,\n",
       "       354.4930022, 281.4549987, 251.5400024, 245.4889967, 231.0250002,\n",
       "       229.8739976, 298.9619992,  28.5789999, 203.8249984, 334.6239961,\n",
       "       225.715001 ,  29.355    , 251.9930036, 277.0750031, 204.0829989,\n",
       "        19.2100003,  36.1099984,  26.5540008,  27.9790004, 118.826998 ,\n",
       "       345.1410004, 329.8580019, 164.8349976,  33.838    ,  26.8440002,\n",
       "       218.2019987, 101.2440009, 193.4390043,  29.3770002, 366.346997 ,\n",
       "       359.2459991,  27.9300001, 250.4700013, 309.3919984,  33.6839993,\n",
       "       211.5670014, 189.6969986, 254.4830003, 269.9990051, 345.0850037,\n",
       "       189.5409958, 166.3710006,  38.8709999,  33.6230002, 203.7049987,\n",
       "       229.3109971, 185.2680023, 186.2580001, 248.938997 , 245.438002 ,\n",
       "       229.1349979, 256.1670014, 347.3679962,  30.0649999, 249.6620011,\n",
       "        34.5949995, 205.4679977,  35.1380003, 269.022003 , 261.4610019,\n",
       "        24.8890002, 303.0609985,  20.6049998, 142.4170025,  27.9689997,\n",
       "       217.5359984, 255.2629991, 299.6649963, 296.9199951, 473.6709963,\n",
       "        30.469    , 150.3400009, 238.8909987, 241.4729969, 355.6940032,\n",
       "       303.9649964,  36.1099984, 167.712999 , 247.0110016, 183.1930021,\n",
       "       237.8770002, 206.3049987,  34.5139997, 302.8339997, 148.2810012,\n",
       "       289.4209959, 252.8579987,  28.7449998,  31.3750004, 126.8409986,\n",
       "        28.2350001,  27.618    , 307.8479979,  27.3480001, 146.4999971,\n",
       "       379.5569946, 203.2430008, 248.807997 , 250.2780016, 255.3000033,\n",
       "       194.2610045, 263.0670012,  28.1879997,  20.8769999,  23.0249998,\n",
       "        27.3460007, 296.6139953, 227.0719987, 120.7179993, 201.4780011,\n",
       "       254.0839998,  55.0929993, 184.981001 , 226.4270005,  26.8779998,\n",
       "       232.1000001,  32.805    ,  32.6829998,  24.4350001,  27.4500002,\n",
       "        28.6290004, 248.6989961, 247.7660017, 219.0109986, 211.5210022,\n",
       "       163.4599961, 196.6900024, 249.1729996,  26.1350001,  37.7999991,\n",
       "       203.6709993, 238.9830031,  51.6999997,  34.9999998, 337.1880004,\n",
       "       246.0019973, 222.1760009,  26.2299998, 258.1740066, 351.8809998,\n",
       "        37.6789988, 308.0779968, 212.1459992, 266.4920043, 168.1010008,\n",
       "       202.9409974,  27.2289998, 282.3450012, 178.3339998, 199.1529999,\n",
       "       340.1100037, 346.456006 ,  27.4929997, 332.2640014,  35.6130001,\n",
       "       210.849002 , 206.9980013,  27.688    , 251.8070035, 241.4919999,\n",
       "       246.8530058, 199.2920014, 244.2540021, 380.5019958, 257.1520021,\n",
       "       212.8449996, 242.8859986, 285.9260009, 233.9910034, 344.2640016,\n",
       "        26.0689994, 206.070996 , 239.2160002,  19.5250002, 248.9199997,\n",
       "       180.5630007, 232.3289992, 222.9459963,  23.6350008, 167.803    ,\n",
       "       313.4979978, 241.2809999,  23.1260004, 280.2629973, 225.6650041,\n",
       "       231.2309968, 354.7889984, 254.841005 , 224.4820025,  20.9439999,\n",
       "        27.5430003,  25.4279995, 349.2749999, 192.3529998, 228.7339984,\n",
       "       238.8570007,  33.2690001, 202.587999 , 149.4500017,  20.967    ,\n",
       "        24.3990006, 212.0179976,  29.5020002,  26.2070002,  24.8809999,\n",
       "       230.0659976, 247.0789994,  33.2050002,  21.1480002, 321.7980043,\n",
       "       178.3179994, 223.5060014,  27.0560007, 222.7169982, 313.2279939,\n",
       "        24.649    ,  88.7909988, 279.2110044, 134.5139986, 234.9339982,\n",
       "       149.3410003, 189.8680007,  33.7359998,  43.9669996, 199.5440034,\n",
       "        27.85     , 326.4499971,  28.6930002, 222.6549973, 230.7539996,\n",
       "       268.329007 , 232.2079972, 253.1120008,  22.6989997, 183.0830017,\n",
       "       256.322998 ,  29.0650003, 165.6749969,  19.2530007, 170.3979981,\n",
       "        74.3280009, 252.1520033, 357.0890014, 312.4479953, 263.4410034,\n",
       "       292.9800018, 335.3430024, 205.0129989,  28.3180005, 189.5769987,\n",
       "       356.9930025,  26.7579997, 184.7749985,  31.5470001, 213.0760025,\n",
       "        91.2109992, 190.4909987, 129.7999993,  55.9909993,  33.2939988,\n",
       "       191.9500014, 230.390996 , 270.0170074, 332.1680055,  24.9610001,\n",
       "       356.6350005, 207.9830002, 579.5420043, 198.204999 ,  23.9699998,\n",
       "       223.7860002, 226.7330002, 238.6309997, 226.4009981, 208.5680008,\n",
       "       202.5159988, 226.0580003,  32.6800007, 295.9879885,  31.9390004,\n",
       "        38.0529989, 312.4969971, 178.1630006, 239.358003 , 346.1809996,\n",
       "        16.0840004, 209.1639999, 102.5300013, 310.0930052, 270.6810029,\n",
       "       343.819995 ,  28.0950001,  43.9669996, 217.0759978, 199.0729997,\n",
       "       261.3339965,  37.3739986,  24.2119996,  27.1390005, 373.3700074,\n",
       "       222.1210009, 425.9920043, 326.058008 , 489.3259949, 199.9240007,\n",
       "       250.5170014, 202.6829987, 241.9069934, 191.433003 , 248.4160032,\n",
       "       194.9740021, 174.5449967, 130.7319992, 241.3749987, 263.4540009,\n",
       "       176.504001 , 192.3090025, 180.6799987,  31.3059995, 345.7660004,\n",
       "       233.437001 , 342.3600036, 201.280003 ,  29.8089998, 202.9490007,\n",
       "       320.1919987, 150.3000016, 122.4449982, 342.3940006,  31.3069997,\n",
       "        20.7579993,  31.2740003,  28.6740003, 226.5869995, 167.2319992,\n",
       "        29.3569999,  29.4330005, 352.2330019,  23.4850003, 143.3490004,\n",
       "       194.7690034,  29.2570002,  29.1190003, 302.6509947, 215.7690016,\n",
       "       262.6780059,  26.1160005, 223.9039995,  31.7200001, 261.8609957,\n",
       "       309.8469973,  28.3589999, 211.4860017,  24.1270003,  28.3620005,\n",
       "       304.2620027, 153.8939972, 191.3020018, 213.633998 , 298.1060026,\n",
       "       218.128003 , 277.5210053,  18.7990001, 318.7449982,  33.6539997,\n",
       "        37.3059984, 229.6739977,  34.6380002,  37.7229995, 219.724002 ,\n",
       "       294.9839906, 313.4160004, 199.2540024,  32.453001 ,  29.4979997,\n",
       "        24.5700002, 246.3929976, 354.3129946, 376.9179964, 317.1139952,\n",
       "       210.6969973,  22.2000001, 226.6170013, 222.0549972, 219.5409989,\n",
       "        24.1799999, 294.9179903,  45.3250002, 318.3619994, 345.1420044,\n",
       "       314.4910005,  31.2620003, 202.8899994, 359.3539948,  20.4930001,\n",
       "       212.1669983,  27.2300007, 192.808003 ,  28.1249997, 333.6649995,\n",
       "       270.2460083,  28.0289997, 202.1560013, 219.6450027,  92.5599989,\n",
       "       235.0189987,  38.17     ,  28.6920001, 263.1900053, 211.7759997,\n",
       "       260.0240052, 210.2790009, 289.9920013, 341.1720004, 196.8940017,\n",
       "        29.4820004,  34.8660004,  21.2420003,  26.0819996,  20.0669999,\n",
       "        29.5969995, 572.0840025,  29.6000004, 193.1640011, 277.6350067,\n",
       "       239.9099979,  33.6529998, 239.6480013, 143.0229996, 256.7510026,\n",
       "        38.1299993, 261.6539948,  35.1700003,  98.5529996, 335.2880005,\n",
       "       269.8880005, 211.4919999,  31.6710005, 229.6110001, 239.3840012,\n",
       "       218.0560011, 334.6239961, 285.9530028,  93.3929991, 241.8579989,\n",
       "        26.2699998,  22.6750003, 231.0979998, 342.3600009, 299.8209992,\n",
       "       210.7860001, 192.534001 , 354.1940005, 244.9899978, 230.8839981,\n",
       "       305.749997 ,  30.4269997,  23.2510008, 260.3880004, 201.9929992,\n",
       "       227.4959976,  29.368    , 332.9260043, 218.655002 , 324.0299989,\n",
       "       319.7250031,  24.0379997, 189.6399978, 277.5410064,  28.409    ,\n",
       "       243.8009951, 187.5300032, 359.6889985, 286.2060027, 206.7399995,\n",
       "       200.9119995, 337.2149994, 200.8190033, 201.5969959, 235.0149994,\n",
       "        24.5470003, 211.4369983,  28.9930001, 333.5219971, 189.4299957,\n",
       "       265.5330048, 338.1910066, 220.8310012, 315.0429994, 200.5470017,\n",
       "        26.2319999,  34.7090002, 169.7069991,  19.2780004, 342.0700045])"
      ]
     },
     "execution_count": 180,
     "metadata": {},
     "output_type": "execute_result"
    }
   ],
   "source": [
    "y_prediction"
   ]
  },
  {
   "cell_type": "code",
   "execution_count": 182,
   "id": "82c6c585",
   "metadata": {},
   "outputs": [
    {
     "data": {
      "text/plain": [
       "0.9990363035387835"
      ]
     },
     "execution_count": 182,
     "metadata": {},
     "output_type": "execute_result"
    }
   ],
   "source": [
    "#testing data accuracy\n",
    "r2_score(y_test,y_prediction)"
   ]
  },
  {
   "cell_type": "code",
   "execution_count": 183,
   "id": "4d2231e7",
   "metadata": {},
   "outputs": [],
   "source": [
    "#training data accuracy\n",
    "training_data_x_train=regressor.predict(x_train)"
   ]
  },
  {
   "cell_type": "code",
   "execution_count": 184,
   "id": "222cd4d0",
   "metadata": {},
   "outputs": [
    {
     "data": {
      "text/plain": [
       "0.999621783151155"
      ]
     },
     "execution_count": 184,
     "metadata": {},
     "output_type": "execute_result"
    }
   ],
   "source": [
    "r2_score(y_train,training_data_x_train)"
   ]
  },
  {
   "cell_type": "code",
   "execution_count": 185,
   "id": "8981119b",
   "metadata": {},
   "outputs": [],
   "source": [
    "vahi=regressor.predict([[283.09,284.50,272.82,63615400]])"
   ]
  },
  {
   "cell_type": "code",
   "execution_count": 186,
   "id": "ac7a8253",
   "metadata": {},
   "outputs": [
    {
     "data": {
      "text/plain": [
       "array([277.7130005])"
      ]
     },
     "execution_count": 186,
     "metadata": {},
     "output_type": "execute_result"
    }
   ],
   "source": [
    "vahi"
   ]
  },
  {
   "cell_type": "code",
   "execution_count": 187,
   "id": "ef79ed8c",
   "metadata": {},
   "outputs": [],
   "source": [
    "r=regressor.predict([[299.86,301.29,285.82,70545400]])"
   ]
  },
  {
   "cell_type": "code",
   "execution_count": 188,
   "id": "7f46b33b",
   "metadata": {},
   "outputs": [
    {
     "data": {
      "text/plain": [
       "array([291.9139984])"
      ]
     },
     "execution_count": 188,
     "metadata": {},
     "output_type": "execute_result"
    }
   ],
   "source": [
    "r"
   ]
  },
  {
   "cell_type": "code",
   "execution_count": 189,
   "id": "e3713123",
   "metadata": {},
   "outputs": [],
   "source": [
    "data1=pd.DataFrame({\"actual_values\":y_test,\"predicted_values\":y_prediction})"
   ]
  },
  {
   "cell_type": "code",
   "execution_count": 190,
   "id": "871cd3ee",
   "metadata": {},
   "outputs": [
    {
     "data": {
      "text/html": [
       "<div>\n",
       "<style scoped>\n",
       "    .dataframe tbody tr th:only-of-type {\n",
       "        vertical-align: middle;\n",
       "    }\n",
       "\n",
       "    .dataframe tbody tr th {\n",
       "        vertical-align: top;\n",
       "    }\n",
       "\n",
       "    .dataframe thead th {\n",
       "        text-align: right;\n",
       "    }\n",
       "</style>\n",
       "<table border=\"1\" class=\"dataframe\">\n",
       "  <thead>\n",
       "    <tr style=\"text-align: right;\">\n",
       "      <th></th>\n",
       "      <th>actual_values</th>\n",
       "      <th>predicted_values</th>\n",
       "    </tr>\n",
       "  </thead>\n",
       "  <tbody>\n",
       "    <tr>\n",
       "      <th>966</th>\n",
       "      <td>207.729996</td>\n",
       "      <td>211.091000</td>\n",
       "    </tr>\n",
       "    <tr>\n",
       "      <th>557</th>\n",
       "      <td>28.280001</td>\n",
       "      <td>28.280000</td>\n",
       "    </tr>\n",
       "    <tr>\n",
       "      <th>148</th>\n",
       "      <td>24.010000</td>\n",
       "      <td>24.226000</td>\n",
       "    </tr>\n",
       "    <tr>\n",
       "      <th>1917</th>\n",
       "      <td>315.230011</td>\n",
       "      <td>344.716007</td>\n",
       "    </tr>\n",
       "    <tr>\n",
       "      <th>1585</th>\n",
       "      <td>200.240005</td>\n",
       "      <td>199.442004</td>\n",
       "    </tr>\n",
       "    <tr>\n",
       "      <th>...</th>\n",
       "      <td>...</td>\n",
       "      <td>...</td>\n",
       "    </tr>\n",
       "    <tr>\n",
       "      <th>139</th>\n",
       "      <td>25.750000</td>\n",
       "      <td>26.232000</td>\n",
       "    </tr>\n",
       "    <tr>\n",
       "      <th>620</th>\n",
       "      <td>33.610001</td>\n",
       "      <td>34.709000</td>\n",
       "    </tr>\n",
       "    <tr>\n",
       "      <th>1419</th>\n",
       "      <td>166.770004</td>\n",
       "      <td>169.706999</td>\n",
       "    </tr>\n",
       "    <tr>\n",
       "      <th>34</th>\n",
       "      <td>19.150000</td>\n",
       "      <td>19.278000</td>\n",
       "    </tr>\n",
       "    <tr>\n",
       "      <th>2122</th>\n",
       "      <td>350.480011</td>\n",
       "      <td>342.070004</td>\n",
       "    </tr>\n",
       "  </tbody>\n",
       "</table>\n",
       "<p>725 rows × 2 columns</p>\n",
       "</div>"
      ],
      "text/plain": [
       "      actual_values  predicted_values\n",
       "966      207.729996        211.091000\n",
       "557       28.280001         28.280000\n",
       "148       24.010000         24.226000\n",
       "1917     315.230011        344.716007\n",
       "1585     200.240005        199.442004\n",
       "...             ...               ...\n",
       "139       25.750000         26.232000\n",
       "620       33.610001         34.709000\n",
       "1419     166.770004        169.706999\n",
       "34        19.150000         19.278000\n",
       "2122     350.480011        342.070004\n",
       "\n",
       "[725 rows x 2 columns]"
      ]
     },
     "execution_count": 190,
     "metadata": {},
     "output_type": "execute_result"
    }
   ],
   "source": [
    "data1"
   ]
  },
  {
   "cell_type": "markdown",
   "id": "cf9518f3",
   "metadata": {},
   "source": [
    "# DECISION TREE REGRESSION"
   ]
  },
  {
   "cell_type": "code",
   "execution_count": 191,
   "id": "5e712503",
   "metadata": {},
   "outputs": [
    {
     "data": {
      "text/plain": [
       "DecisionTreeRegressor()"
      ]
     },
     "execution_count": 191,
     "metadata": {},
     "output_type": "execute_result"
    }
   ],
   "source": [
    "from sklearn.tree import DecisionTreeRegressor\n",
    "dt= DecisionTreeRegressor()\n",
    "dt.fit(x_train, y_train)"
   ]
  },
  {
   "cell_type": "code",
   "execution_count": 192,
   "id": "fd71e056",
   "metadata": {},
   "outputs": [
    {
     "data": {
      "text/html": [
       "<div>\n",
       "<style scoped>\n",
       "    .dataframe tbody tr th:only-of-type {\n",
       "        vertical-align: middle;\n",
       "    }\n",
       "\n",
       "    .dataframe tbody tr th {\n",
       "        vertical-align: top;\n",
       "    }\n",
       "\n",
       "    .dataframe thead th {\n",
       "        text-align: right;\n",
       "    }\n",
       "</style>\n",
       "<table border=\"1\" class=\"dataframe\">\n",
       "  <thead>\n",
       "    <tr style=\"text-align: right;\">\n",
       "      <th></th>\n",
       "      <th>Open</th>\n",
       "      <th>High</th>\n",
       "      <th>Low</th>\n",
       "      <th>Volume</th>\n",
       "    </tr>\n",
       "  </thead>\n",
       "  <tbody>\n",
       "    <tr>\n",
       "      <th>805</th>\n",
       "      <td>161.449997</td>\n",
       "      <td>167.500000</td>\n",
       "      <td>160.630005</td>\n",
       "      <td>8967800</td>\n",
       "    </tr>\n",
       "    <tr>\n",
       "      <th>933</th>\n",
       "      <td>235.289993</td>\n",
       "      <td>236.940002</td>\n",
       "      <td>228.320007</td>\n",
       "      <td>8289700</td>\n",
       "    </tr>\n",
       "    <tr>\n",
       "      <th>376</th>\n",
       "      <td>27.600000</td>\n",
       "      <td>28.049999</td>\n",
       "      <td>27.299999</td>\n",
       "      <td>1009400</td>\n",
       "    </tr>\n",
       "    <tr>\n",
       "      <th>1580</th>\n",
       "      <td>202.460007</td>\n",
       "      <td>204.210007</td>\n",
       "      <td>200.210007</td>\n",
       "      <td>4703400</td>\n",
       "    </tr>\n",
       "    <tr>\n",
       "      <th>878</th>\n",
       "      <td>144.850006</td>\n",
       "      <td>146.240005</td>\n",
       "      <td>142.600006</td>\n",
       "      <td>5385500</td>\n",
       "    </tr>\n",
       "    <tr>\n",
       "      <th>...</th>\n",
       "      <td>...</td>\n",
       "      <td>...</td>\n",
       "      <td>...</td>\n",
       "      <td>...</td>\n",
       "    </tr>\n",
       "    <tr>\n",
       "      <th>1033</th>\n",
       "      <td>238.899994</td>\n",
       "      <td>251.419998</td>\n",
       "      <td>238.580002</td>\n",
       "      <td>9249300</td>\n",
       "    </tr>\n",
       "    <tr>\n",
       "      <th>1731</th>\n",
       "      <td>318.380005</td>\n",
       "      <td>320.200012</td>\n",
       "      <td>312.529999</td>\n",
       "      <td>7622000</td>\n",
       "    </tr>\n",
       "    <tr>\n",
       "      <th>763</th>\n",
       "      <td>124.879997</td>\n",
       "      <td>126.089996</td>\n",
       "      <td>122.349998</td>\n",
       "      <td>7483600</td>\n",
       "    </tr>\n",
       "    <tr>\n",
       "      <th>835</th>\n",
       "      <td>170.500000</td>\n",
       "      <td>177.779999</td>\n",
       "      <td>166.110001</td>\n",
       "      <td>11386700</td>\n",
       "    </tr>\n",
       "    <tr>\n",
       "      <th>1653</th>\n",
       "      <td>245.850006</td>\n",
       "      <td>250.889999</td>\n",
       "      <td>245.500000</td>\n",
       "      <td>6262900</td>\n",
       "    </tr>\n",
       "  </tbody>\n",
       "</table>\n",
       "<p>1691 rows × 4 columns</p>\n",
       "</div>"
      ],
      "text/plain": [
       "            Open        High         Low    Volume\n",
       "805   161.449997  167.500000  160.630005   8967800\n",
       "933   235.289993  236.940002  228.320007   8289700\n",
       "376    27.600000   28.049999   27.299999   1009400\n",
       "1580  202.460007  204.210007  200.210007   4703400\n",
       "878   144.850006  146.240005  142.600006   5385500\n",
       "...          ...         ...         ...       ...\n",
       "1033  238.899994  251.419998  238.580002   9249300\n",
       "1731  318.380005  320.200012  312.529999   7622000\n",
       "763   124.879997  126.089996  122.349998   7483600\n",
       "835   170.500000  177.779999  166.110001  11386700\n",
       "1653  245.850006  250.889999  245.500000   6262900\n",
       "\n",
       "[1691 rows x 4 columns]"
      ]
     },
     "execution_count": 192,
     "metadata": {},
     "output_type": "execute_result"
    }
   ],
   "source": [
    "x_train"
   ]
  },
  {
   "cell_type": "code",
   "execution_count": 193,
   "id": "0b5012e1",
   "metadata": {},
   "outputs": [
    {
     "data": {
      "text/html": [
       "<div>\n",
       "<style scoped>\n",
       "    .dataframe tbody tr th:only-of-type {\n",
       "        vertical-align: middle;\n",
       "    }\n",
       "\n",
       "    .dataframe tbody tr th {\n",
       "        vertical-align: top;\n",
       "    }\n",
       "\n",
       "    .dataframe thead th {\n",
       "        text-align: right;\n",
       "    }\n",
       "</style>\n",
       "<table border=\"1\" class=\"dataframe\">\n",
       "  <thead>\n",
       "    <tr style=\"text-align: right;\">\n",
       "      <th></th>\n",
       "      <th>Open</th>\n",
       "      <th>High</th>\n",
       "      <th>Low</th>\n",
       "      <th>Volume</th>\n",
       "    </tr>\n",
       "  </thead>\n",
       "  <tbody>\n",
       "    <tr>\n",
       "      <th>966</th>\n",
       "      <td>207.080002</td>\n",
       "      <td>214.020004</td>\n",
       "      <td>205.690002</td>\n",
       "      <td>5439900</td>\n",
       "    </tr>\n",
       "    <tr>\n",
       "      <th>557</th>\n",
       "      <td>27.900000</td>\n",
       "      <td>28.580000</td>\n",
       "      <td>27.799999</td>\n",
       "      <td>1145200</td>\n",
       "    </tr>\n",
       "    <tr>\n",
       "      <th>148</th>\n",
       "      <td>24.879999</td>\n",
       "      <td>24.879999</td>\n",
       "      <td>23.750000</td>\n",
       "      <td>1048400</td>\n",
       "    </tr>\n",
       "    <tr>\n",
       "      <th>1917</th>\n",
       "      <td>343.309998</td>\n",
       "      <td>348.619995</td>\n",
       "      <td>314.600006</td>\n",
       "      <td>10314600</td>\n",
       "    </tr>\n",
       "    <tr>\n",
       "      <th>1585</th>\n",
       "      <td>200.500000</td>\n",
       "      <td>200.899994</td>\n",
       "      <td>197.050003</td>\n",
       "      <td>2494600</td>\n",
       "    </tr>\n",
       "    <tr>\n",
       "      <th>...</th>\n",
       "      <td>...</td>\n",
       "      <td>...</td>\n",
       "      <td>...</td>\n",
       "      <td>...</td>\n",
       "    </tr>\n",
       "    <tr>\n",
       "      <th>139</th>\n",
       "      <td>26.150000</td>\n",
       "      <td>26.580000</td>\n",
       "      <td>25.610001</td>\n",
       "      <td>1192000</td>\n",
       "    </tr>\n",
       "    <tr>\n",
       "      <th>620</th>\n",
       "      <td>35.259998</td>\n",
       "      <td>35.299999</td>\n",
       "      <td>32.750000</td>\n",
       "      <td>2151300</td>\n",
       "    </tr>\n",
       "    <tr>\n",
       "      <th>1419</th>\n",
       "      <td>172.419998</td>\n",
       "      <td>172.949997</td>\n",
       "      <td>164.770004</td>\n",
       "      <td>3887600</td>\n",
       "    </tr>\n",
       "    <tr>\n",
       "      <th>34</th>\n",
       "      <td>18.959999</td>\n",
       "      <td>19.400000</td>\n",
       "      <td>18.780001</td>\n",
       "      <td>447900</td>\n",
       "    </tr>\n",
       "    <tr>\n",
       "      <th>2122</th>\n",
       "      <td>341.829987</td>\n",
       "      <td>351.600006</td>\n",
       "      <td>338.260010</td>\n",
       "      <td>5629100</td>\n",
       "    </tr>\n",
       "  </tbody>\n",
       "</table>\n",
       "<p>725 rows × 4 columns</p>\n",
       "</div>"
      ],
      "text/plain": [
       "            Open        High         Low    Volume\n",
       "966   207.080002  214.020004  205.690002   5439900\n",
       "557    27.900000   28.580000   27.799999   1145200\n",
       "148    24.879999   24.879999   23.750000   1048400\n",
       "1917  343.309998  348.619995  314.600006  10314600\n",
       "1585  200.500000  200.899994  197.050003   2494600\n",
       "...          ...         ...         ...       ...\n",
       "139    26.150000   26.580000   25.610001   1192000\n",
       "620    35.259998   35.299999   32.750000   2151300\n",
       "1419  172.419998  172.949997  164.770004   3887600\n",
       "34     18.959999   19.400000   18.780001    447900\n",
       "2122  341.829987  351.600006  338.260010   5629100\n",
       "\n",
       "[725 rows x 4 columns]"
      ]
     },
     "execution_count": 193,
     "metadata": {},
     "output_type": "execute_result"
    }
   ],
   "source": [
    "x_test"
   ]
  },
  {
   "cell_type": "code",
   "execution_count": 194,
   "id": "467f523e",
   "metadata": {},
   "outputs": [
    {
     "data": {
      "text/plain": [
       "805     166.369995\n",
       "933     230.970001\n",
       "376      27.770000\n",
       "1580    201.000000\n",
       "878     143.550003\n",
       "           ...    \n",
       "1033    248.929993\n",
       "1731    315.880005\n",
       "763     125.610001\n",
       "835     171.539993\n",
       "1653    248.919998\n",
       "Name: Close, Length: 1691, dtype: float64"
      ]
     },
     "execution_count": 194,
     "metadata": {},
     "output_type": "execute_result"
    }
   ],
   "source": [
    "y_train"
   ]
  },
  {
   "cell_type": "code",
   "execution_count": 195,
   "id": "e1abfb8b",
   "metadata": {},
   "outputs": [
    {
     "data": {
      "text/plain": [
       "966     207.729996\n",
       "557      28.280001\n",
       "148      24.010000\n",
       "1917    315.230011\n",
       "1585    200.240005\n",
       "           ...    \n",
       "139      25.750000\n",
       "620      33.610001\n",
       "1419    166.770004\n",
       "34       19.150000\n",
       "2122    350.480011\n",
       "Name: Close, Length: 725, dtype: float64"
      ]
     },
     "execution_count": 195,
     "metadata": {},
     "output_type": "execute_result"
    }
   ],
   "source": [
    "y_test"
   ]
  },
  {
   "cell_type": "code",
   "execution_count": 196,
   "id": "a8c8c032",
   "metadata": {},
   "outputs": [],
   "source": [
    "y_pred1=dt.predict(x_test)"
   ]
  },
  {
   "cell_type": "code",
   "execution_count": 197,
   "id": "24726e08",
   "metadata": {},
   "outputs": [
    {
     "data": {
      "text/plain": [
       "array([210.240005,  28.24    ,  24.440001, 337.029999, 200.100006,\n",
       "       213.339996,  26.99    ,  23.73    , 220.009995, 349.589996,\n",
       "       216.779999, 280.690002,  31.93    , 104.949997,  20.24    ,\n",
       "       344.570007, 120.25    , 259.959991,  27.799999, 223.509995,\n",
       "       352.619995, 327.170013, 222.839996, 339.529999, 306.089996,\n",
       "       181.410004, 333.01001 , 272.309998, 226.699997, 246.149994,\n",
       "        26.809999,  31.610001,  29.42    , 227.009995, 385.      ,\n",
       "       218.639999, 212.369995, 137.360001, 321.350006, 221.929993,\n",
       "       312.390015,  36.009998,  23.25    , 211.      ,  28.27    ,\n",
       "       229.949997, 197.809998,  34.040001, 312.209991, 273.600006,\n",
       "       242.559998, 303.200012,  36.09    , 213.690002, 291.720001,\n",
       "       232.339996,  33.779999, 238.320007,  17.4     ,  52.      ,\n",
       "       230.610001,  34.400002, 261.380005, 321.079987,  27.34    ,\n",
       "        27.889999, 251.419998, 230.259995,  20.549999,  33.169998,\n",
       "        34.18    , 170.970001, 324.809998,  23.84    ,  33.59    ,\n",
       "       296.839996, 306.529999,  18.790001,  21.      , 244.839996,\n",
       "       331.529999, 217.75    ,  53.279999, 214.440002,  34.830002,\n",
       "       334.399994,  35.189999, 518.5     ,  22.620001, 226.380005,\n",
       "        28.620001, 329.100006,  38.27    , 246.149994, 180.979996,\n",
       "       230.770004, 344.570007,  30.809999,  28.77    ,  52.      ,\n",
       "        34.939999, 323.660004, 254.860001, 351.399994, 223.639999,\n",
       "        29.25    , 195.490005, 189.570007, 252.660004,  26.01    ,\n",
       "       230.610001, 344.529999, 235.      , 373.910004, 235.240005,\n",
       "       155.169998, 202.300003, 258.779999, 299.679993,  20.99    ,\n",
       "       214.440002, 277.450012, 219.580002,  26.309999, 344.529999,\n",
       "       355.679993, 215.580002, 337.019989, 317.809998,  20.41    ,\n",
       "       196.050003, 518.5     ,  20.1     , 269.230011, 224.550003,\n",
       "       343.850006, 337.339996, 242.509995, 203.559998, 207.5     ,\n",
       "        28.049999, 341.98999 , 371.23999 , 197.809998,  22.879999,\n",
       "        27.200001,  27.879999, 199.110001, 217.869995, 122.099998,\n",
       "       247.690002,  31.33    ,  34.34    ,  23.709999,  20.719999,\n",
       "        29.02    ,  20.049999, 191.199997, 377.640015,  28.200001,\n",
       "       261.059998,  29.389999, 229.949997, 217.160004,  33.130001,\n",
       "       223.539993, 365.149994, 312.600006, 296.380005, 269.230011,\n",
       "       276.589996, 305.799988, 206.929993, 220.679993, 315.380005,\n",
       "       355.589996, 224.520004, 377.640015,  35.      , 343.75    ,\n",
       "       238.520004,  28.139999, 252.660004, 145.429993,  30.059999,\n",
       "       240.759995, 140.720001,  17.049999,  19.559999, 217.869995,\n",
       "       344.570007,  29.51    , 306.089996, 276.589996, 334.959991,\n",
       "       213.690002, 239.520004,  39.099998, 226.720001, 332.100006,\n",
       "        30.299999, 266.279999,  35.360001, 262.079987, 247.139999,\n",
       "       180.979996, 352.700012,  24.9     , 336.339996, 301.540009,\n",
       "       155.169998,  35.150002, 287.690002, 232.360001, 262.799988,\n",
       "       256.959991,  25.27    , 513.48999 ,  28.040001,  38.009998,\n",
       "       205.080002, 105.720001, 301.660004,  37.860001,  27.620001,\n",
       "       240.759995,  32.25    ,  19.030001, 196.050003, 237.589996,\n",
       "       352.220001, 275.01001 , 253.190002, 244.839996, 230.380005,\n",
       "       230.059998, 296.839996,  28.879999, 205.080002, 337.029999,\n",
       "       226.830002,  29.25    , 251.330002, 276.820007, 203.559998,\n",
       "        18.790001,  35.950001,  26.620001,  27.940001, 117.82    ,\n",
       "       344.5     , 331.660004, 166.369995,  33.689999,  26.719999,\n",
       "       215.589996, 101.489998, 196.050003,  29.4     , 362.75    ,\n",
       "       362.220001,  27.879999, 253.5     , 301.019989,  34.18    ,\n",
       "       211.169998, 188.589996, 251.820007, 276.540009, 345.51001 ,\n",
       "       188.639999, 162.860001,  39.279999,  33.68    , 205.080002,\n",
       "       229.009995, 186.800003, 186.800003, 244.740005, 242.679993,\n",
       "       229.300003, 255.710007, 341.98999 ,  29.77    , 251.210007,\n",
       "        34.939999, 208.720001,  34.959999, 276.589996, 260.619995,\n",
       "        23.73    , 306.850006,  20.549999, 143.240005,  27.639999,\n",
       "       215.470001, 252.539993, 300.98999 , 300.079987, 478.149994,\n",
       "        29.84    , 149.559998, 240.039993, 242.509995, 359.01001 ,\n",
       "       301.970001,  36.009998, 166.059998, 246.149994, 185.240005,\n",
       "       238.100006, 207.889999,  34.529999, 306.850006, 147.      ,\n",
       "       288.950012, 254.679993,  28.76    ,  31.84    , 124.169998,\n",
       "        28.25    ,  27.52    , 309.160004,  27.91    , 145.429993,\n",
       "       378.98999 , 205.360001, 248.839996, 251.210007, 252.229996,\n",
       "       195.740005, 263.25    ,  28.08    ,  20.9     ,  23.040001,\n",
       "        27.120001, 297.859985, 226.699997, 121.610001, 202.440002,\n",
       "       252.389999,  59.5     , 184.669998, 224.550003,  26.629999,\n",
       "       229.729996,  32.189999,  32.459999,  23.82    ,  27.73    ,\n",
       "        29.84    , 248.929993, 249.100006, 220.009995, 212.800003,\n",
       "       160.699997, 196.509995, 249.100006,  26.01    ,  37.950001,\n",
       "       203.559998, 239.490005,  52.      ,  34.48    , 339.850006,\n",
       "       244.839996, 223.639999,  26.309999, 259.959991, 355.589996,\n",
       "        36.849998, 308.73999 , 211.      , 267.200012, 162.860001,\n",
       "       206.179993,  27.120001, 282.26001 , 180.979996, 199.970001,\n",
       "       338.730011, 345.51001 ,  27.450001, 333.970001,  34.380001,\n",
       "       210.350006, 206.660004,  27.66    , 251.330002, 241.460007,\n",
       "       246.149994, 197.580002, 244.520004, 385.      , 257.01001 ,\n",
       "       211.      , 244.100006, 286.480011, 232.320007, 344.529999,\n",
       "        25.85    , 205.270004, 240.039993,  20.23    , 247.740005,\n",
       "       180.979996, 231.100006, 224.520004,  23.92    , 166.059998,\n",
       "       313.220001, 241.979996,  23.040001, 284.140015, 226.380005,\n",
       "       232.360001, 354.600006, 256.290009, 225.710007,  20.99    ,\n",
       "        27.73    ,  25.639999, 349.589996, 191.929993, 228.360001,\n",
       "       241.929993,  33.259998, 204.029999, 147.979996,  21.      ,\n",
       "        24.82    , 213.339996,  29.41    ,  26.309999,  24.98    ,\n",
       "       230.259995, 246.869995,  33.07    ,  21.120001, 324.809998,\n",
       "       180.979996, 224.520004,  27.120001, 219.759995, 310.829987,\n",
       "        24.75    ,  87.239998, 279.200012, 134.279999, 242.559998,\n",
       "       147.979996, 189.860001,  33.639999,  44.34    , 200.710007,\n",
       "        27.32    , 322.470001,  28.76    , 223.429993, 230.610001,\n",
       "       268.26001 , 230.770004, 253.539993,  22.84    , 183.770004,\n",
       "       253.860001,  28.950001, 166.369995,  18.32    , 174.419998,\n",
       "        69.400002, 251.330002, 352.790009, 310.170013, 261.890015,\n",
       "       291.209991, 336.339996, 205.270004,  28.17    , 189.399994,\n",
       "       359.649994,  26.99    , 183.770004,  31.49    , 214.919998,\n",
       "        92.730003, 188.070007, 127.279999,  53.279999,  32.470001,\n",
       "       191.929993, 230.509995, 272.230011, 333.01001 ,  25.370001,\n",
       "       351.089996, 210.940002, 580.98999 , 196.509995,  23.889999,\n",
       "       224.910004, 224.550003, 240.059998, 227.199997, 213.029999,\n",
       "       202.339996, 225.710007,  33.      , 294.709991,  32.310001,\n",
       "        37.849998, 310.829987, 177.210007, 244.100006, 348.420013,\n",
       "        15.8     , 204.039993, 100.650002, 315.359985, 272.309998,\n",
       "       341.98999 ,  27.9     ,  44.34    , 217.479996, 199.970001,\n",
       "       262.049988,  38.009998,  24.49    ,  27.120001, 370.339996,\n",
       "       223.410004, 430.26001 , 327.220001, 478.149994, 197.809998,\n",
       "       251.419998, 206.179993, 241.929993, 193.070007, 247.139999,\n",
       "       193.960007, 178.380005, 127.279999, 240.759995, 265.170013,\n",
       "       178.380005, 195.699997, 180.979996,  30.129999, 344.5     ,\n",
       "       235.770004, 346.170013, 202.240005,  29.5     , 202.300003,\n",
       "       317.290009, 152.460007, 124.07    , 341.059998,  31.5     ,\n",
       "        20.719999,  31.49    ,  28.73    , 225.649994, 162.860001,\n",
       "        29.07    ,  29.48    , 354.600006,  23.889999, 142.190002,\n",
       "       193.960007,  29.4     ,  28.700001, 300.339996, 215.460007,\n",
       "       263.820007,  26.190001, 220.679993,  31.49    , 262.160004,\n",
       "       307.019989,  28.690001, 211.630005,  23.73    ,  28.17    ,\n",
       "       301.540009, 155.169998, 191.929993, 210.949997, 299.920013,\n",
       "       217.160004, 277.390015,  18.32    , 321.350006,  33.41    ,\n",
       "        38.009998, 229.009995,  34.59    ,  37.509998, 218.580002,\n",
       "       294.799988, 302.26001 , 197.580002,  33.      ,  29.889999,\n",
       "        23.82    , 248.169998, 355.679993, 378.98999 , 317.549988,\n",
       "       210.910004,  21.26    , 227.009995, 217.869995, 218.580002,\n",
       "        23.82    , 294.799988,  44.34    , 317.470001, 344.5     ,\n",
       "       313.559998,  31.84    , 203.25    , 359.649994,  20.24    ,\n",
       "       210.949997,  27.120001, 193.070007,  28.139999, 333.029999,\n",
       "       273.26001 ,  28.23    , 202.830002, 219.990005,  91.5     ,\n",
       "       230.770004,  38.299999,  28.620001, 262.070007, 211.029999,\n",
       "       264.820007, 213.339996, 291.130005, 341.059998, 199.100006,\n",
       "        29.290001,  35.470001,  21.120001,  26.01    ,  20.23    ,\n",
       "        29.42    , 564.820007,  29.290001, 192.690002, 277.380005,\n",
       "       242.559998,  33.150002, 241.610001, 140.720001, 253.860001,\n",
       "        38.299999, 260.420013,  35.360001, 102.040001, 342.519989,\n",
       "       269.149994, 211.630005,  31.76    , 230.610001, 241.460007,\n",
       "       219.440002, 337.029999, 285.880005,  95.370003, 240.759995,\n",
       "        25.85    ,  22.73    , 230.460007, 349.350006, 299.679993,\n",
       "       208.919998, 193.369995, 354.600006, 253.5     , 230.570007,\n",
       "       306.529999,  30.309999,  23.92    , 263.160004, 205.360001,\n",
       "       229.699997,  29.110001, 335.540009, 218.990005, 323.850006,\n",
       "       321.350006,  24.34    , 187.419998, 277.380005,  28.41    ,\n",
       "       243.149994, 188.559998, 355.399994, 290.920013, 207.      ,\n",
       "       199.369995, 331.279999, 202.880005, 201.509995, 242.559998,\n",
       "        24.360001, 213.339996,  28.57    , 333.299988, 188.770004,\n",
       "       261.950012, 342.769989, 219.580002, 309.100006, 197.580002,\n",
       "        25.85    ,  34.939999, 168.940002,  18.790001, 344.529999])"
      ]
     },
     "execution_count": 197,
     "metadata": {},
     "output_type": "execute_result"
    }
   ],
   "source": [
    "y_pred1"
   ]
  },
  {
   "cell_type": "code",
   "execution_count": 198,
   "id": "4beabaf4",
   "metadata": {},
   "outputs": [
    {
     "data": {
      "text/plain": [
       "0.9987552410542608"
      ]
     },
     "execution_count": 198,
     "metadata": {},
     "output_type": "execute_result"
    }
   ],
   "source": [
    "#testing data accuracy\n",
    "r2_score(y_test,y_pred1)"
   ]
  },
  {
   "cell_type": "code",
   "execution_count": 201,
   "id": "eaadc1bd",
   "metadata": {},
   "outputs": [],
   "source": [
    "#training data accuracy\n",
    "trainig_data_accuracy=LR.predict(x_train)"
   ]
  },
  {
   "cell_type": "code",
   "execution_count": 202,
   "id": "e69e34f1",
   "metadata": {},
   "outputs": [
    {
     "data": {
      "text/plain": [
       "0.9997145577523122"
      ]
     },
     "execution_count": 202,
     "metadata": {},
     "output_type": "execute_result"
    }
   ],
   "source": [
    "r2_score(y_train,trainig_data_accuracy)"
   ]
  },
  {
   "cell_type": "code",
   "execution_count": 111,
   "id": "dd86bd89",
   "metadata": {},
   "outputs": [],
   "source": [
    "close_val=dt.predict([[283.09,284.50,272.82,63615400]])"
   ]
  },
  {
   "cell_type": "code",
   "execution_count": 112,
   "id": "518c88f1",
   "metadata": {},
   "outputs": [
    {
     "data": {
      "text/plain": [
       "array([275.429993])"
      ]
     },
     "execution_count": 112,
     "metadata": {},
     "output_type": "execute_result"
    }
   ],
   "source": [
    "close_val"
   ]
  },
  {
   "cell_type": "code",
   "execution_count": 113,
   "id": "6dead44d",
   "metadata": {},
   "outputs": [],
   "source": [
    "close1=dt.predict([[299.86,301.29,285.82,70545400]])"
   ]
  },
  {
   "cell_type": "code",
   "execution_count": 123,
   "id": "ea4c1d6b",
   "metadata": {},
   "outputs": [
    {
     "data": {
      "text/plain": [
       "array([288.5])"
      ]
     },
     "execution_count": 123,
     "metadata": {},
     "output_type": "execute_result"
    }
   ],
   "source": [
    "close1"
   ]
  },
  {
   "cell_type": "code",
   "execution_count": 124,
   "id": "b63f9281",
   "metadata": {},
   "outputs": [],
   "source": [
    "data2=pd.DataFrame({\"actual_values\":y_test,\"predicted_values\":y_pred1})"
   ]
  },
  {
   "cell_type": "code",
   "execution_count": 125,
   "id": "c0068099",
   "metadata": {},
   "outputs": [
    {
     "data": {
      "text/html": [
       "<div>\n",
       "<style scoped>\n",
       "    .dataframe tbody tr th:only-of-type {\n",
       "        vertical-align: middle;\n",
       "    }\n",
       "\n",
       "    .dataframe tbody tr th {\n",
       "        vertical-align: top;\n",
       "    }\n",
       "\n",
       "    .dataframe thead th {\n",
       "        text-align: right;\n",
       "    }\n",
       "</style>\n",
       "<table border=\"1\" class=\"dataframe\">\n",
       "  <thead>\n",
       "    <tr style=\"text-align: right;\">\n",
       "      <th></th>\n",
       "      <th>actual_values</th>\n",
       "      <th>predicted_values</th>\n",
       "    </tr>\n",
       "  </thead>\n",
       "  <tbody>\n",
       "    <tr>\n",
       "      <th>966</th>\n",
       "      <td>207.729996</td>\n",
       "      <td>213.339996</td>\n",
       "    </tr>\n",
       "    <tr>\n",
       "      <th>557</th>\n",
       "      <td>28.280001</td>\n",
       "      <td>28.240000</td>\n",
       "    </tr>\n",
       "    <tr>\n",
       "      <th>148</th>\n",
       "      <td>24.010000</td>\n",
       "      <td>24.440001</td>\n",
       "    </tr>\n",
       "    <tr>\n",
       "      <th>1917</th>\n",
       "      <td>315.230011</td>\n",
       "      <td>336.339996</td>\n",
       "    </tr>\n",
       "    <tr>\n",
       "      <th>1585</th>\n",
       "      <td>200.240005</td>\n",
       "      <td>200.100006</td>\n",
       "    </tr>\n",
       "    <tr>\n",
       "      <th>...</th>\n",
       "      <td>...</td>\n",
       "      <td>...</td>\n",
       "    </tr>\n",
       "    <tr>\n",
       "      <th>139</th>\n",
       "      <td>25.750000</td>\n",
       "      <td>25.850000</td>\n",
       "    </tr>\n",
       "    <tr>\n",
       "      <th>620</th>\n",
       "      <td>33.610001</td>\n",
       "      <td>34.619999</td>\n",
       "    </tr>\n",
       "    <tr>\n",
       "      <th>1419</th>\n",
       "      <td>166.770004</td>\n",
       "      <td>168.940002</td>\n",
       "    </tr>\n",
       "    <tr>\n",
       "      <th>34</th>\n",
       "      <td>19.150000</td>\n",
       "      <td>18.770000</td>\n",
       "    </tr>\n",
       "    <tr>\n",
       "      <th>2122</th>\n",
       "      <td>350.480011</td>\n",
       "      <td>344.500000</td>\n",
       "    </tr>\n",
       "  </tbody>\n",
       "</table>\n",
       "<p>725 rows × 2 columns</p>\n",
       "</div>"
      ],
      "text/plain": [
       "      actual_values  predicted_values\n",
       "966      207.729996        213.339996\n",
       "557       28.280001         28.240000\n",
       "148       24.010000         24.440001\n",
       "1917     315.230011        336.339996\n",
       "1585     200.240005        200.100006\n",
       "...             ...               ...\n",
       "139       25.750000         25.850000\n",
       "620       33.610001         34.619999\n",
       "1419     166.770004        168.940002\n",
       "34        19.150000         18.770000\n",
       "2122     350.480011        344.500000\n",
       "\n",
       "[725 rows x 2 columns]"
      ]
     },
     "execution_count": 125,
     "metadata": {},
     "output_type": "execute_result"
    }
   ],
   "source": [
    "data2"
   ]
  },
  {
   "cell_type": "markdown",
   "id": "ac309f62",
   "metadata": {},
   "source": [
    "# so here we will use linear regression algorithm because the accuracy is more for this algorith by comparing all other regression algorithms like random forest and decision tree regression."
   ]
  },
  {
   "cell_type": "code",
   "execution_count": 227,
   "id": "3506cae7",
   "metadata": {},
   "outputs": [
    {
     "name": "stdout",
     "output_type": "stream",
     "text": [
      "the accuracy of linear regression algorithm is:0.9996944682449384\n",
      "the random forest regression algorithm accuracy is:0.9990363035387835\n",
      "the decision tree regression algorithm accuracy is:0.9987760991390104\n"
     ]
    }
   ],
   "source": [
    "#Accuracy values for the testing data\n",
    "print(\"the accuracy of linear regression algorithm is:0.9996944682449384\")\n",
    "print(\"the random forest regression algorithm accuracy is:0.9990363035387835\")\n",
    "print(\"the decision tree regression algorithm accuracy is:0.9987760991390104\")"
   ]
  },
  {
   "cell_type": "code",
   "execution_count": 230,
   "id": "3d1b99a6",
   "metadata": {},
   "outputs": [
    {
     "name": "stdout",
     "output_type": "stream",
     "text": [
      "the accuacy of linear regression alogorithm is:0.9997145577523122\n",
      "the accuracy of random forest algorithm is:0.999621783151155\n",
      "the accuracy of decision algorithm is:0.9997145577523122\n"
     ]
    }
   ],
   "source": [
    "#accuracy values for the traning data\n",
    "print(\"the accuacy of linear regression alogorithm is:0.9997145577523122\")\n",
    "print(\"the accuracy of random forest algorithm is:0.999621783151155\")\n",
    "print(\"the accuracy of decision algorithm is:0.9997145577523122\")"
   ]
  },
  {
   "cell_type": "code",
   "execution_count": null,
   "id": "1ab0ec1d",
   "metadata": {},
   "outputs": [],
   "source": []
  }
 ],
 "metadata": {
  "kernelspec": {
   "display_name": "Python 3 (ipykernel)",
   "language": "python",
   "name": "python3"
  },
  "language_info": {
   "codemirror_mode": {
    "name": "ipython",
    "version": 3
   },
   "file_extension": ".py",
   "mimetype": "text/x-python",
   "name": "python",
   "nbconvert_exporter": "python",
   "pygments_lexer": "ipython3",
   "version": "3.9.12"
  }
 },
 "nbformat": 4,
 "nbformat_minor": 5
}
